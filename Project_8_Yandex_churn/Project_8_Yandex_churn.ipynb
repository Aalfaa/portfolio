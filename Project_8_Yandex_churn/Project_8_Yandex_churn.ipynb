{
 "cells": [
  {
   "cell_type": "markdown",
   "id": "79339c80",
   "metadata": {},
   "source": [
    "![Churn_fish](Project_8.jpg)"
   ]
  },
  {
   "cell_type": "markdown",
   "id": "e8770e7e",
   "metadata": {},
   "source": [
    "# Telecom task, Dmitriy Lyalin, summer 2023"
   ]
  },
  {
   "cell_type": "markdown",
   "id": "8a9a88ae",
   "metadata": {},
   "source": [
    "### Service Description\n",
    "\n",
    "The operator offers two main types of services:\n",
    "\n",
    "1. Landline telephone communication. It's possible to connect a telephone device to multiple lines simultaneously.\n",
    "2. Internet. The connection can be of two types: through a phone line (DSL - digital subscriber line) or fiber optic cable (Fiber optic).\n",
    "\n",
    "Additionally, the following services are available:\n",
    "\n",
    "- Internet security: antivirus (DeviceProtection) and blocking of unsafe websites (OnlineSecurity);\n",
    "- Dedicated technical support line (TechSupport);\n",
    "- Cloud file storage for data backup (OnlineBackup);\n",
    "- Streaming television (StreamingTV) and a movie catalog (StreamingMovies).\n",
    "\n",
    "Customers can pay for the services each month or enter into a contract for 1-2 years. Various payment methods are available, including the option to receive an electronic receipt."
   ]
  },
  {
   "cell_type": "markdown",
   "id": "8733e2e3",
   "metadata": {},
   "source": [
    "### Data Description\n",
    "\n",
    "The data consists of files obtained from different sources:\n",
    "\n",
    "- `contract_new.csv` — contract information;\n",
    "- `personal_new.csv` — customer's personal data;\n",
    "- `internet_new.csv` — information about internet services;\n",
    "- `phone_new.csv` — information about phone services.\n",
    "\n",
    "In all files, the column `customerID` contains the customer's code.\n",
    "The contract information is up to date as of February 1, 2020."
   ]
  },
  {
   "cell_type": "markdown",
   "id": "e370dcbc",
   "metadata": {},
   "source": [
    "## Data Loading"
   ]
  },
  {
   "cell_type": "code",
   "execution_count": 1,
   "id": "c393cbca",
   "metadata": {},
   "outputs": [],
   "source": [
    "import pandas as pd\n",
    "import numpy as np\n",
    "import matplotlib.pyplot as plt\n",
    "import seaborn as sns\n",
    "import sklearn.metrics\n",
    "from sklearn.model_selection import GridSearchCV, train_test_split, cross_val_score\n",
    "from sklearn.tree import DecisionTreeClassifier\n",
    "from sklearn.ensemble import RandomForestClassifier\n",
    "from sklearn.pipeline import Pipeline\n",
    "from sklearn.compose import ColumnTransformer\n",
    "from catboost import CatBoostClassifier\n",
    "from sklearn.preprocessing import StandardScaler, OneHotEncoder, LabelEncoder\n",
    "from sklearn.metrics import roc_curve, roc_auc_score\n",
    "from sklearn.metrics import confusion_matrix\n",
    "import re\n",
    "import warnings\n",
    "warnings.filterwarnings('ignore')"
   ]
  },
  {
   "cell_type": "code",
   "execution_count": 2,
   "id": "736e5d4d",
   "metadata": {},
   "outputs": [],
   "source": [
    "try:\n",
    "    contract = pd.read_csv('contract_new.csv')\n",
    "    personal = pd.read_csv('personal_new.csv')\n",
    "    internet = pd.read_csv('internet_new.csv')\n",
    "    phone = pd.read_csv('phone_new.csv')\n",
    "except:\n",
    "    contract = pd.read_csv('/datasets/contract_new.csv')\n",
    "    personal = pd.read_csv('/datasets/personal_new.csv')\n",
    "    internet = pd.read_csv('/datasets/internet_new.csv')\n",
    "    phone = pd.read_csv('/datasets/phone_new.csv')"
   ]
  },
  {
   "cell_type": "code",
   "execution_count": 3,
   "id": "901a8ea5",
   "metadata": {},
   "outputs": [],
   "source": [
    "def data_info(data):\n",
    "    display(data.head(3))\n",
    "    display('data_shape', data.shape)\n",
    "    data.info()\n",
    "    display('data_isna_sum', data.isna().sum())\n",
    "    display('duplicated_data', data.duplicated().sum())\n",
    "    display('data_describe', data.describe())\n",
    "    try:\n",
    "        data.hist(figsize=(10,10))\n",
    "    except:\n",
    "        None"
   ]
  },
  {
   "cell_type": "code",
   "execution_count": 4,
   "id": "f439978e",
   "metadata": {
    "scrolled": false
   },
   "outputs": [
    {
     "data": {
      "text/html": [
       "<div>\n",
       "<style scoped>\n",
       "    .dataframe tbody tr th:only-of-type {\n",
       "        vertical-align: middle;\n",
       "    }\n",
       "\n",
       "    .dataframe tbody tr th {\n",
       "        vertical-align: top;\n",
       "    }\n",
       "\n",
       "    .dataframe thead th {\n",
       "        text-align: right;\n",
       "    }\n",
       "</style>\n",
       "<table border=\"1\" class=\"dataframe\">\n",
       "  <thead>\n",
       "    <tr style=\"text-align: right;\">\n",
       "      <th></th>\n",
       "      <th>customerID</th>\n",
       "      <th>BeginDate</th>\n",
       "      <th>EndDate</th>\n",
       "      <th>Type</th>\n",
       "      <th>PaperlessBilling</th>\n",
       "      <th>PaymentMethod</th>\n",
       "      <th>MonthlyCharges</th>\n",
       "      <th>TotalCharges</th>\n",
       "    </tr>\n",
       "  </thead>\n",
       "  <tbody>\n",
       "    <tr>\n",
       "      <th>0</th>\n",
       "      <td>7590-VHVEG</td>\n",
       "      <td>2020-01-01</td>\n",
       "      <td>No</td>\n",
       "      <td>Month-to-month</td>\n",
       "      <td>Yes</td>\n",
       "      <td>Electronic check</td>\n",
       "      <td>29.85</td>\n",
       "      <td>31.04</td>\n",
       "    </tr>\n",
       "    <tr>\n",
       "      <th>1</th>\n",
       "      <td>5575-GNVDE</td>\n",
       "      <td>2017-04-01</td>\n",
       "      <td>No</td>\n",
       "      <td>One year</td>\n",
       "      <td>No</td>\n",
       "      <td>Mailed check</td>\n",
       "      <td>56.95</td>\n",
       "      <td>2071.84</td>\n",
       "    </tr>\n",
       "    <tr>\n",
       "      <th>2</th>\n",
       "      <td>3668-QPYBK</td>\n",
       "      <td>2019-10-01</td>\n",
       "      <td>No</td>\n",
       "      <td>Month-to-month</td>\n",
       "      <td>Yes</td>\n",
       "      <td>Mailed check</td>\n",
       "      <td>53.85</td>\n",
       "      <td>226.17</td>\n",
       "    </tr>\n",
       "  </tbody>\n",
       "</table>\n",
       "</div>"
      ],
      "text/plain": [
       "   customerID   BeginDate EndDate            Type PaperlessBilling  \\\n",
       "0  7590-VHVEG  2020-01-01      No  Month-to-month              Yes   \n",
       "1  5575-GNVDE  2017-04-01      No        One year               No   \n",
       "2  3668-QPYBK  2019-10-01      No  Month-to-month              Yes   \n",
       "\n",
       "      PaymentMethod  MonthlyCharges TotalCharges  \n",
       "0  Electronic check           29.85        31.04  \n",
       "1      Mailed check           56.95      2071.84  \n",
       "2      Mailed check           53.85       226.17  "
      ]
     },
     "metadata": {},
     "output_type": "display_data"
    },
    {
     "data": {
      "text/plain": [
       "'data_shape'"
      ]
     },
     "metadata": {},
     "output_type": "display_data"
    },
    {
     "data": {
      "text/plain": [
       "(7043, 8)"
      ]
     },
     "metadata": {},
     "output_type": "display_data"
    },
    {
     "name": "stdout",
     "output_type": "stream",
     "text": [
      "<class 'pandas.core.frame.DataFrame'>\n",
      "RangeIndex: 7043 entries, 0 to 7042\n",
      "Data columns (total 8 columns):\n",
      " #   Column            Non-Null Count  Dtype  \n",
      "---  ------            --------------  -----  \n",
      " 0   customerID        7043 non-null   object \n",
      " 1   BeginDate         7043 non-null   object \n",
      " 2   EndDate           7043 non-null   object \n",
      " 3   Type              7043 non-null   object \n",
      " 4   PaperlessBilling  7043 non-null   object \n",
      " 5   PaymentMethod     7043 non-null   object \n",
      " 6   MonthlyCharges    7043 non-null   float64\n",
      " 7   TotalCharges      7043 non-null   object \n",
      "dtypes: float64(1), object(7)\n",
      "memory usage: 440.3+ KB\n"
     ]
    },
    {
     "data": {
      "text/plain": [
       "'data_isna_sum'"
      ]
     },
     "metadata": {},
     "output_type": "display_data"
    },
    {
     "data": {
      "text/plain": [
       "customerID          0\n",
       "BeginDate           0\n",
       "EndDate             0\n",
       "Type                0\n",
       "PaperlessBilling    0\n",
       "PaymentMethod       0\n",
       "MonthlyCharges      0\n",
       "TotalCharges        0\n",
       "dtype: int64"
      ]
     },
     "metadata": {},
     "output_type": "display_data"
    },
    {
     "data": {
      "text/plain": [
       "'duplicated_data'"
      ]
     },
     "metadata": {},
     "output_type": "display_data"
    },
    {
     "data": {
      "text/plain": [
       "0"
      ]
     },
     "metadata": {},
     "output_type": "display_data"
    },
    {
     "data": {
      "text/plain": [
       "'data_describe'"
      ]
     },
     "metadata": {},
     "output_type": "display_data"
    },
    {
     "data": {
      "text/html": [
       "<div>\n",
       "<style scoped>\n",
       "    .dataframe tbody tr th:only-of-type {\n",
       "        vertical-align: middle;\n",
       "    }\n",
       "\n",
       "    .dataframe tbody tr th {\n",
       "        vertical-align: top;\n",
       "    }\n",
       "\n",
       "    .dataframe thead th {\n",
       "        text-align: right;\n",
       "    }\n",
       "</style>\n",
       "<table border=\"1\" class=\"dataframe\">\n",
       "  <thead>\n",
       "    <tr style=\"text-align: right;\">\n",
       "      <th></th>\n",
       "      <th>MonthlyCharges</th>\n",
       "    </tr>\n",
       "  </thead>\n",
       "  <tbody>\n",
       "    <tr>\n",
       "      <th>count</th>\n",
       "      <td>7043.000000</td>\n",
       "    </tr>\n",
       "    <tr>\n",
       "      <th>mean</th>\n",
       "      <td>64.761692</td>\n",
       "    </tr>\n",
       "    <tr>\n",
       "      <th>std</th>\n",
       "      <td>30.090047</td>\n",
       "    </tr>\n",
       "    <tr>\n",
       "      <th>min</th>\n",
       "      <td>18.250000</td>\n",
       "    </tr>\n",
       "    <tr>\n",
       "      <th>25%</th>\n",
       "      <td>35.500000</td>\n",
       "    </tr>\n",
       "    <tr>\n",
       "      <th>50%</th>\n",
       "      <td>70.350000</td>\n",
       "    </tr>\n",
       "    <tr>\n",
       "      <th>75%</th>\n",
       "      <td>89.850000</td>\n",
       "    </tr>\n",
       "    <tr>\n",
       "      <th>max</th>\n",
       "      <td>118.750000</td>\n",
       "    </tr>\n",
       "  </tbody>\n",
       "</table>\n",
       "</div>"
      ],
      "text/plain": [
       "       MonthlyCharges\n",
       "count     7043.000000\n",
       "mean        64.761692\n",
       "std         30.090047\n",
       "min         18.250000\n",
       "25%         35.500000\n",
       "50%         70.350000\n",
       "75%         89.850000\n",
       "max        118.750000"
      ]
     },
     "metadata": {},
     "output_type": "display_data"
    },
    {
     "data": {
      "image/png": "[encoded data removed]",
      "text/plain": [
       "<Figure size 720x720 with 1 Axes>"
      ]
     },
     "metadata": {
      "needs_background": "light"
     },
     "output_type": "display_data"
    }
   ],
   "source": [
    "data_info(contract)"
   ]
  },
  {
   "cell_type": "markdown",
   "id": "60f56a22",
   "metadata": {},
   "source": [
    "Dataset \"contract\":\n",
    "- 7043 rows and 8 columns\n",
    "- MonthlyCharges is a float, while TotalCharges is a string (object)\n",
    "- There are no missing values or duplicates\n",
    "- A significant portion of subscribers pay a small monthly amount\n",
    "- The EndDate can be set to 01.02.2020 (current date)"
   ]
  },
  {
   "cell_type": "code",
   "execution_count": 5,
   "id": "64b4dd62",
   "metadata": {},
   "outputs": [
    {
     "data": {
      "text/html": [
       "<div>\n",
       "<style scoped>\n",
       "    .dataframe tbody tr th:only-of-type {\n",
       "        vertical-align: middle;\n",
       "    }\n",
       "\n",
       "    .dataframe tbody tr th {\n",
       "        vertical-align: top;\n",
       "    }\n",
       "\n",
       "    .dataframe thead th {\n",
       "        text-align: right;\n",
       "    }\n",
       "</style>\n",
       "<table border=\"1\" class=\"dataframe\">\n",
       "  <thead>\n",
       "    <tr style=\"text-align: right;\">\n",
       "      <th></th>\n",
       "      <th>customerID</th>\n",
       "      <th>gender</th>\n",
       "      <th>SeniorCitizen</th>\n",
       "      <th>Partner</th>\n",
       "      <th>Dependents</th>\n",
       "    </tr>\n",
       "  </thead>\n",
       "  <tbody>\n",
       "    <tr>\n",
       "      <th>0</th>\n",
       "      <td>7590-VHVEG</td>\n",
       "      <td>Female</td>\n",
       "      <td>0</td>\n",
       "      <td>Yes</td>\n",
       "      <td>No</td>\n",
       "    </tr>\n",
       "    <tr>\n",
       "      <th>1</th>\n",
       "      <td>5575-GNVDE</td>\n",
       "      <td>Male</td>\n",
       "      <td>0</td>\n",
       "      <td>No</td>\n",
       "      <td>No</td>\n",
       "    </tr>\n",
       "    <tr>\n",
       "      <th>2</th>\n",
       "      <td>3668-QPYBK</td>\n",
       "      <td>Male</td>\n",
       "      <td>0</td>\n",
       "      <td>No</td>\n",
       "      <td>No</td>\n",
       "    </tr>\n",
       "  </tbody>\n",
       "</table>\n",
       "</div>"
      ],
      "text/plain": [
       "   customerID  gender  SeniorCitizen Partner Dependents\n",
       "0  7590-VHVEG  Female              0     Yes         No\n",
       "1  5575-GNVDE    Male              0      No         No\n",
       "2  3668-QPYBK    Male              0      No         No"
      ]
     },
     "metadata": {},
     "output_type": "display_data"
    },
    {
     "data": {
      "text/plain": [
       "'data_shape'"
      ]
     },
     "metadata": {},
     "output_type": "display_data"
    },
    {
     "data": {
      "text/plain": [
       "(7043, 5)"
      ]
     },
     "metadata": {},
     "output_type": "display_data"
    },
    {
     "name": "stdout",
     "output_type": "stream",
     "text": [
      "<class 'pandas.core.frame.DataFrame'>\n",
      "RangeIndex: 7043 entries, 0 to 7042\n",
      "Data columns (total 5 columns):\n",
      " #   Column         Non-Null Count  Dtype \n",
      "---  ------         --------------  ----- \n",
      " 0   customerID     7043 non-null   object\n",
      " 1   gender         7043 non-null   object\n",
      " 2   SeniorCitizen  7043 non-null   int64 \n",
      " 3   Partner        7043 non-null   object\n",
      " 4   Dependents     7043 non-null   object\n",
      "dtypes: int64(1), object(4)\n",
      "memory usage: 275.2+ KB\n"
     ]
    },
    {
     "data": {
      "text/plain": [
       "'data_isna_sum'"
      ]
     },
     "metadata": {},
     "output_type": "display_data"
    },
    {
     "data": {
      "text/plain": [
       "customerID       0\n",
       "gender           0\n",
       "SeniorCitizen    0\n",
       "Partner          0\n",
       "Dependents       0\n",
       "dtype: int64"
      ]
     },
     "metadata": {},
     "output_type": "display_data"
    },
    {
     "data": {
      "text/plain": [
       "'duplicated_data'"
      ]
     },
     "metadata": {},
     "output_type": "display_data"
    },
    {
     "data": {
      "text/plain": [
       "0"
      ]
     },
     "metadata": {},
     "output_type": "display_data"
    },
    {
     "data": {
      "text/plain": [
       "'data_describe'"
      ]
     },
     "metadata": {},
     "output_type": "display_data"
    },
    {
     "data": {
      "text/html": [
       "<div>\n",
       "<style scoped>\n",
       "    .dataframe tbody tr th:only-of-type {\n",
       "        vertical-align: middle;\n",
       "    }\n",
       "\n",
       "    .dataframe tbody tr th {\n",
       "        vertical-align: top;\n",
       "    }\n",
       "\n",
       "    .dataframe thead th {\n",
       "        text-align: right;\n",
       "    }\n",
       "</style>\n",
       "<table border=\"1\" class=\"dataframe\">\n",
       "  <thead>\n",
       "    <tr style=\"text-align: right;\">\n",
       "      <th></th>\n",
       "      <th>SeniorCitizen</th>\n",
       "    </tr>\n",
       "  </thead>\n",
       "  <tbody>\n",
       "    <tr>\n",
       "      <th>count</th>\n",
       "      <td>7043.000000</td>\n",
       "    </tr>\n",
       "    <tr>\n",
       "      <th>mean</th>\n",
       "      <td>0.162147</td>\n",
       "    </tr>\n",
       "    <tr>\n",
       "      <th>std</th>\n",
       "      <td>0.368612</td>\n",
       "    </tr>\n",
       "    <tr>\n",
       "      <th>min</th>\n",
       "      <td>0.000000</td>\n",
       "    </tr>\n",
       "    <tr>\n",
       "      <th>25%</th>\n",
       "      <td>0.000000</td>\n",
       "    </tr>\n",
       "    <tr>\n",
       "      <th>50%</th>\n",
       "      <td>0.000000</td>\n",
       "    </tr>\n",
       "    <tr>\n",
       "      <th>75%</th>\n",
       "      <td>0.000000</td>\n",
       "    </tr>\n",
       "    <tr>\n",
       "      <th>max</th>\n",
       "      <td>1.000000</td>\n",
       "    </tr>\n",
       "  </tbody>\n",
       "</table>\n",
       "</div>"
      ],
      "text/plain": [
       "       SeniorCitizen\n",
       "count    7043.000000\n",
       "mean        0.162147\n",
       "std         0.368612\n",
       "min         0.000000\n",
       "25%         0.000000\n",
       "50%         0.000000\n",
       "75%         0.000000\n",
       "max         1.000000"
      ]
     },
     "metadata": {},
     "output_type": "display_data"
    },
    {
     "data": {
      "image/png": "[encoded data removed]",
      "text/plain": [
       "<Figure size 720x720 with 1 Axes>"
      ]
     },
     "metadata": {
      "needs_background": "light"
     },
     "output_type": "display_data"
    }
   ],
   "source": [
    "data_info(personal)"
   ]
  },
  {
   "cell_type": "markdown",
   "id": "1fb89b8e",
   "metadata": {},
   "source": [
    "Dataset \"personal\":\n",
    "- 7043 rows and 5 columns\n",
    "- SeniorCitizen is an integer, while the rest are strings (objects)\n",
    "- There are no missing values or duplicates\n",
    "- There are 6 times more young people than senior citizens"
   ]
  },
  {
   "cell_type": "code",
   "execution_count": 6,
   "id": "2e16095b",
   "metadata": {
    "scrolled": false
   },
   "outputs": [
    {
     "data": {
      "text/html": [
       "<div>\n",
       "<style scoped>\n",
       "    .dataframe tbody tr th:only-of-type {\n",
       "        vertical-align: middle;\n",
       "    }\n",
       "\n",
       "    .dataframe tbody tr th {\n",
       "        vertical-align: top;\n",
       "    }\n",
       "\n",
       "    .dataframe thead th {\n",
       "        text-align: right;\n",
       "    }\n",
       "</style>\n",
       "<table border=\"1\" class=\"dataframe\">\n",
       "  <thead>\n",
       "    <tr style=\"text-align: right;\">\n",
       "      <th></th>\n",
       "      <th>customerID</th>\n",
       "      <th>InternetService</th>\n",
       "      <th>OnlineSecurity</th>\n",
       "      <th>OnlineBackup</th>\n",
       "      <th>DeviceProtection</th>\n",
       "      <th>TechSupport</th>\n",
       "      <th>StreamingTV</th>\n",
       "      <th>StreamingMovies</th>\n",
       "    </tr>\n",
       "  </thead>\n",
       "  <tbody>\n",
       "    <tr>\n",
       "      <th>0</th>\n",
       "      <td>7590-VHVEG</td>\n",
       "      <td>DSL</td>\n",
       "      <td>No</td>\n",
       "      <td>Yes</td>\n",
       "      <td>No</td>\n",
       "      <td>No</td>\n",
       "      <td>No</td>\n",
       "      <td>No</td>\n",
       "    </tr>\n",
       "    <tr>\n",
       "      <th>1</th>\n",
       "      <td>5575-GNVDE</td>\n",
       "      <td>DSL</td>\n",
       "      <td>Yes</td>\n",
       "      <td>No</td>\n",
       "      <td>Yes</td>\n",
       "      <td>No</td>\n",
       "      <td>No</td>\n",
       "      <td>No</td>\n",
       "    </tr>\n",
       "    <tr>\n",
       "      <th>2</th>\n",
       "      <td>3668-QPYBK</td>\n",
       "      <td>DSL</td>\n",
       "      <td>Yes</td>\n",
       "      <td>Yes</td>\n",
       "      <td>No</td>\n",
       "      <td>No</td>\n",
       "      <td>No</td>\n",
       "      <td>No</td>\n",
       "    </tr>\n",
       "  </tbody>\n",
       "</table>\n",
       "</div>"
      ],
      "text/plain": [
       "   customerID InternetService OnlineSecurity OnlineBackup DeviceProtection  \\\n",
       "0  7590-VHVEG             DSL             No          Yes               No   \n",
       "1  5575-GNVDE             DSL            Yes           No              Yes   \n",
       "2  3668-QPYBK             DSL            Yes          Yes               No   \n",
       "\n",
       "  TechSupport StreamingTV StreamingMovies  \n",
       "0          No          No              No  \n",
       "1          No          No              No  \n",
       "2          No          No              No  "
      ]
     },
     "metadata": {},
     "output_type": "display_data"
    },
    {
     "data": {
      "text/plain": [
       "'data_shape'"
      ]
     },
     "metadata": {},
     "output_type": "display_data"
    },
    {
     "data": {
      "text/plain": [
       "(5517, 8)"
      ]
     },
     "metadata": {},
     "output_type": "display_data"
    },
    {
     "name": "stdout",
     "output_type": "stream",
     "text": [
      "<class 'pandas.core.frame.DataFrame'>\n",
      "RangeIndex: 5517 entries, 0 to 5516\n",
      "Data columns (total 8 columns):\n",
      " #   Column            Non-Null Count  Dtype \n",
      "---  ------            --------------  ----- \n",
      " 0   customerID        5517 non-null   object\n",
      " 1   InternetService   5517 non-null   object\n",
      " 2   OnlineSecurity    5517 non-null   object\n",
      " 3   OnlineBackup      5517 non-null   object\n",
      " 4   DeviceProtection  5517 non-null   object\n",
      " 5   TechSupport       5517 non-null   object\n",
      " 6   StreamingTV       5517 non-null   object\n",
      " 7   StreamingMovies   5517 non-null   object\n",
      "dtypes: object(8)\n",
      "memory usage: 344.9+ KB\n"
     ]
    },
    {
     "data": {
      "text/plain": [
       "'data_isna_sum'"
      ]
     },
     "metadata": {},
     "output_type": "display_data"
    },
    {
     "data": {
      "text/plain": [
       "customerID          0\n",
       "InternetService     0\n",
       "OnlineSecurity      0\n",
       "OnlineBackup        0\n",
       "DeviceProtection    0\n",
       "TechSupport         0\n",
       "StreamingTV         0\n",
       "StreamingMovies     0\n",
       "dtype: int64"
      ]
     },
     "metadata": {},
     "output_type": "display_data"
    },
    {
     "data": {
      "text/plain": [
       "'duplicated_data'"
      ]
     },
     "metadata": {},
     "output_type": "display_data"
    },
    {
     "data": {
      "text/plain": [
       "0"
      ]
     },
     "metadata": {},
     "output_type": "display_data"
    },
    {
     "data": {
      "text/plain": [
       "'data_describe'"
      ]
     },
     "metadata": {},
     "output_type": "display_data"
    },
    {
     "data": {
      "text/html": [
       "<div>\n",
       "<style scoped>\n",
       "    .dataframe tbody tr th:only-of-type {\n",
       "        vertical-align: middle;\n",
       "    }\n",
       "\n",
       "    .dataframe tbody tr th {\n",
       "        vertical-align: top;\n",
       "    }\n",
       "\n",
       "    .dataframe thead th {\n",
       "        text-align: right;\n",
       "    }\n",
       "</style>\n",
       "<table border=\"1\" class=\"dataframe\">\n",
       "  <thead>\n",
       "    <tr style=\"text-align: right;\">\n",
       "      <th></th>\n",
       "      <th>customerID</th>\n",
       "      <th>InternetService</th>\n",
       "      <th>OnlineSecurity</th>\n",
       "      <th>OnlineBackup</th>\n",
       "      <th>DeviceProtection</th>\n",
       "      <th>TechSupport</th>\n",
       "      <th>StreamingTV</th>\n",
       "      <th>StreamingMovies</th>\n",
       "    </tr>\n",
       "  </thead>\n",
       "  <tbody>\n",
       "    <tr>\n",
       "      <th>count</th>\n",
       "      <td>5517</td>\n",
       "      <td>5517</td>\n",
       "      <td>5517</td>\n",
       "      <td>5517</td>\n",
       "      <td>5517</td>\n",
       "      <td>5517</td>\n",
       "      <td>5517</td>\n",
       "      <td>5517</td>\n",
       "    </tr>\n",
       "    <tr>\n",
       "      <th>unique</th>\n",
       "      <td>5517</td>\n",
       "      <td>2</td>\n",
       "      <td>2</td>\n",
       "      <td>2</td>\n",
       "      <td>2</td>\n",
       "      <td>2</td>\n",
       "      <td>2</td>\n",
       "      <td>2</td>\n",
       "    </tr>\n",
       "    <tr>\n",
       "      <th>top</th>\n",
       "      <td>7590-VHVEG</td>\n",
       "      <td>Fiber optic</td>\n",
       "      <td>No</td>\n",
       "      <td>No</td>\n",
       "      <td>No</td>\n",
       "      <td>No</td>\n",
       "      <td>No</td>\n",
       "      <td>No</td>\n",
       "    </tr>\n",
       "    <tr>\n",
       "      <th>freq</th>\n",
       "      <td>1</td>\n",
       "      <td>3096</td>\n",
       "      <td>3498</td>\n",
       "      <td>3088</td>\n",
       "      <td>3095</td>\n",
       "      <td>3473</td>\n",
       "      <td>2810</td>\n",
       "      <td>2785</td>\n",
       "    </tr>\n",
       "  </tbody>\n",
       "</table>\n",
       "</div>"
      ],
      "text/plain": [
       "        customerID InternetService OnlineSecurity OnlineBackup  \\\n",
       "count         5517            5517           5517         5517   \n",
       "unique        5517               2              2            2   \n",
       "top     7590-VHVEG     Fiber optic             No           No   \n",
       "freq             1            3096           3498         3088   \n",
       "\n",
       "       DeviceProtection TechSupport StreamingTV StreamingMovies  \n",
       "count              5517        5517        5517            5517  \n",
       "unique                2           2           2               2  \n",
       "top                  No          No          No              No  \n",
       "freq               3095        3473        2810            2785  "
      ]
     },
     "metadata": {},
     "output_type": "display_data"
    }
   ],
   "source": [
    "data_info(internet)"
   ]
  },
  {
   "cell_type": "markdown",
   "id": "4cea180c",
   "metadata": {},
   "source": [
    "Dataset \"internet\":\n",
    "- 5517 rows and 8 columns\n",
    "- All columns are of object type\n",
    "- There are no missing values or duplicates\n",
    "- In columns other than customerID, all values are binary (Yes/No)"
   ]
  },
  {
   "cell_type": "code",
   "execution_count": 7,
   "id": "72cd1ace",
   "metadata": {},
   "outputs": [
    {
     "data": {
      "text/html": [
       "<div>\n",
       "<style scoped>\n",
       "    .dataframe tbody tr th:only-of-type {\n",
       "        vertical-align: middle;\n",
       "    }\n",
       "\n",
       "    .dataframe tbody tr th {\n",
       "        vertical-align: top;\n",
       "    }\n",
       "\n",
       "    .dataframe thead th {\n",
       "        text-align: right;\n",
       "    }\n",
       "</style>\n",
       "<table border=\"1\" class=\"dataframe\">\n",
       "  <thead>\n",
       "    <tr style=\"text-align: right;\">\n",
       "      <th></th>\n",
       "      <th>customerID</th>\n",
       "      <th>MultipleLines</th>\n",
       "    </tr>\n",
       "  </thead>\n",
       "  <tbody>\n",
       "    <tr>\n",
       "      <th>0</th>\n",
       "      <td>5575-GNVDE</td>\n",
       "      <td>No</td>\n",
       "    </tr>\n",
       "    <tr>\n",
       "      <th>1</th>\n",
       "      <td>3668-QPYBK</td>\n",
       "      <td>No</td>\n",
       "    </tr>\n",
       "    <tr>\n",
       "      <th>2</th>\n",
       "      <td>9237-HQITU</td>\n",
       "      <td>No</td>\n",
       "    </tr>\n",
       "  </tbody>\n",
       "</table>\n",
       "</div>"
      ],
      "text/plain": [
       "   customerID MultipleLines\n",
       "0  5575-GNVDE            No\n",
       "1  3668-QPYBK            No\n",
       "2  9237-HQITU            No"
      ]
     },
     "metadata": {},
     "output_type": "display_data"
    },
    {
     "data": {
      "text/plain": [
       "'data_shape'"
      ]
     },
     "metadata": {},
     "output_type": "display_data"
    },
    {
     "data": {
      "text/plain": [
       "(6361, 2)"
      ]
     },
     "metadata": {},
     "output_type": "display_data"
    },
    {
     "name": "stdout",
     "output_type": "stream",
     "text": [
      "<class 'pandas.core.frame.DataFrame'>\n",
      "RangeIndex: 6361 entries, 0 to 6360\n",
      "Data columns (total 2 columns):\n",
      " #   Column         Non-Null Count  Dtype \n",
      "---  ------         --------------  ----- \n",
      " 0   customerID     6361 non-null   object\n",
      " 1   MultipleLines  6361 non-null   object\n",
      "dtypes: object(2)\n",
      "memory usage: 99.5+ KB\n"
     ]
    },
    {
     "data": {
      "text/plain": [
       "'data_isna_sum'"
      ]
     },
     "metadata": {},
     "output_type": "display_data"
    },
    {
     "data": {
      "text/plain": [
       "customerID       0\n",
       "MultipleLines    0\n",
       "dtype: int64"
      ]
     },
     "metadata": {},
     "output_type": "display_data"
    },
    {
     "data": {
      "text/plain": [
       "'duplicated_data'"
      ]
     },
     "metadata": {},
     "output_type": "display_data"
    },
    {
     "data": {
      "text/plain": [
       "0"
      ]
     },
     "metadata": {},
     "output_type": "display_data"
    },
    {
     "data": {
      "text/plain": [
       "'data_describe'"
      ]
     },
     "metadata": {},
     "output_type": "display_data"
    },
    {
     "data": {
      "text/html": [
       "<div>\n",
       "<style scoped>\n",
       "    .dataframe tbody tr th:only-of-type {\n",
       "        vertical-align: middle;\n",
       "    }\n",
       "\n",
       "    .dataframe tbody tr th {\n",
       "        vertical-align: top;\n",
       "    }\n",
       "\n",
       "    .dataframe thead th {\n",
       "        text-align: right;\n",
       "    }\n",
       "</style>\n",
       "<table border=\"1\" class=\"dataframe\">\n",
       "  <thead>\n",
       "    <tr style=\"text-align: right;\">\n",
       "      <th></th>\n",
       "      <th>customerID</th>\n",
       "      <th>MultipleLines</th>\n",
       "    </tr>\n",
       "  </thead>\n",
       "  <tbody>\n",
       "    <tr>\n",
       "      <th>count</th>\n",
       "      <td>6361</td>\n",
       "      <td>6361</td>\n",
       "    </tr>\n",
       "    <tr>\n",
       "      <th>unique</th>\n",
       "      <td>6361</td>\n",
       "      <td>2</td>\n",
       "    </tr>\n",
       "    <tr>\n",
       "      <th>top</th>\n",
       "      <td>5575-GNVDE</td>\n",
       "      <td>No</td>\n",
       "    </tr>\n",
       "    <tr>\n",
       "      <th>freq</th>\n",
       "      <td>1</td>\n",
       "      <td>3390</td>\n",
       "    </tr>\n",
       "  </tbody>\n",
       "</table>\n",
       "</div>"
      ],
      "text/plain": [
       "        customerID MultipleLines\n",
       "count         6361          6361\n",
       "unique        6361             2\n",
       "top     5575-GNVDE            No\n",
       "freq             1          3390"
      ]
     },
     "metadata": {},
     "output_type": "display_data"
    }
   ],
   "source": [
    "data_info(phone)"
   ]
  },
  {
   "cell_type": "markdown",
   "id": "1ce856f3",
   "metadata": {},
   "source": [
    "Dataset \"phone\":\n",
    "- 6361 rows and 2 columns\n",
    "- All columns are of object type\n",
    "- There are no missing values or duplicates\n",
    "- In the MultipleLines column, all values are binary (Yes/No)"
   ]
  },
  {
   "cell_type": "code",
   "execution_count": 8,
   "id": "1d1599f2",
   "metadata": {},
   "outputs": [],
   "source": [
    "def data_value_counts(data):\n",
    "    for column in data.columns:\n",
    "        display(column, data[column].value_counts().sort_values(ascending=False))"
   ]
  },
  {
   "cell_type": "code",
   "execution_count": 9,
   "id": "5292184b",
   "metadata": {},
   "outputs": [
    {
     "data": {
      "text/plain": [
       "'customerID'"
      ]
     },
     "metadata": {},
     "output_type": "display_data"
    },
    {
     "data": {
      "text/plain": [
       "7590-VHVEG    1\n",
       "0280-XJGEX    1\n",
       "7795-CFOCW    1\n",
       "9237-HQITU    1\n",
       "9305-CDSKC    1\n",
       "             ..\n",
       "2234-XADUH    1\n",
       "4801-JZAZL    1\n",
       "8361-LTMKD    1\n",
       "1122-JWTJW    1\n",
       "3186-AJIEK    1\n",
       "Name: customerID, Length: 7043, dtype: int64"
      ]
     },
     "metadata": {},
     "output_type": "display_data"
    },
    {
     "data": {
      "text/plain": [
       "'BeginDate'"
      ]
     },
     "metadata": {},
     "output_type": "display_data"
    },
    {
     "data": {
      "text/plain": [
       "2014-02-01    366\n",
       "2019-09-01    237\n",
       "2019-10-01    237\n",
       "2019-11-01    237\n",
       "2020-01-01    233\n",
       "             ... \n",
       "2020-02-01     11\n",
       "2014-01-01      7\n",
       "2013-10-01      3\n",
       "2013-12-01      3\n",
       "2013-11-01      2\n",
       "Name: BeginDate, Length: 77, dtype: int64"
      ]
     },
     "metadata": {},
     "output_type": "display_data"
    },
    {
     "data": {
      "text/plain": [
       "'EndDate'"
      ]
     },
     "metadata": {},
     "output_type": "display_data"
    },
    {
     "data": {
      "text/plain": [
       "No            5942\n",
       "2020-01-01      39\n",
       "2019-12-01      38\n",
       "2018-11-01      35\n",
       "2019-09-01      32\n",
       "              ... \n",
       "2014-09-01       2\n",
       "2014-12-01       2\n",
       "2014-06-01       1\n",
       "2014-10-01       1\n",
       "2014-11-01       1\n",
       "Name: EndDate, Length: 67, dtype: int64"
      ]
     },
     "metadata": {},
     "output_type": "display_data"
    },
    {
     "data": {
      "text/plain": [
       "'Type'"
      ]
     },
     "metadata": {},
     "output_type": "display_data"
    },
    {
     "data": {
      "text/plain": [
       "Month-to-month    3875\n",
       "Two year          1695\n",
       "One year          1473\n",
       "Name: Type, dtype: int64"
      ]
     },
     "metadata": {},
     "output_type": "display_data"
    },
    {
     "data": {
      "text/plain": [
       "'PaperlessBilling'"
      ]
     },
     "metadata": {},
     "output_type": "display_data"
    },
    {
     "data": {
      "text/plain": [
       "Yes    4171\n",
       "No     2872\n",
       "Name: PaperlessBilling, dtype: int64"
      ]
     },
     "metadata": {},
     "output_type": "display_data"
    },
    {
     "data": {
      "text/plain": [
       "'PaymentMethod'"
      ]
     },
     "metadata": {},
     "output_type": "display_data"
    },
    {
     "data": {
      "text/plain": [
       "Electronic check             2365\n",
       "Mailed check                 1612\n",
       "Bank transfer (automatic)    1544\n",
       "Credit card (automatic)      1522\n",
       "Name: PaymentMethod, dtype: int64"
      ]
     },
     "metadata": {},
     "output_type": "display_data"
    },
    {
     "data": {
      "text/plain": [
       "'MonthlyCharges'"
      ]
     },
     "metadata": {},
     "output_type": "display_data"
    },
    {
     "data": {
      "text/plain": [
       "20.05    61\n",
       "19.85    45\n",
       "19.95    44\n",
       "19.90    44\n",
       "20.00    43\n",
       "         ..\n",
       "82.40     1\n",
       "56.00     1\n",
       "26.50     1\n",
       "40.90     1\n",
       "78.70     1\n",
       "Name: MonthlyCharges, Length: 1585, dtype: int64"
      ]
     },
     "metadata": {},
     "output_type": "display_data"
    },
    {
     "data": {
      "text/plain": [
       "'TotalCharges'"
      ]
     },
     "metadata": {},
     "output_type": "display_data"
    },
    {
     "data": {
      "text/plain": [
       "           11\n",
       "20.45       6\n",
       "101.0       5\n",
       "21.53       4\n",
       "40.1        4\n",
       "           ..\n",
       "923.4       1\n",
       "3034.57     1\n",
       "2669.63     1\n",
       "1844.26     1\n",
       "7251.82     1\n",
       "Name: TotalCharges, Length: 6658, dtype: int64"
      ]
     },
     "metadata": {},
     "output_type": "display_data"
    }
   ],
   "source": [
    "data_value_counts(contract)"
   ]
  },
  {
   "cell_type": "markdown",
   "id": "3dba6867",
   "metadata": {},
   "source": [
    "- Out of 7043 customers, 5942 have an active contract."
   ]
  },
  {
   "cell_type": "code",
   "execution_count": 10,
   "id": "fdf6f690",
   "metadata": {},
   "outputs": [
    {
     "data": {
      "text/plain": [
       "'customerID'"
      ]
     },
     "metadata": {},
     "output_type": "display_data"
    },
    {
     "data": {
      "text/plain": [
       "7590-VHVEG    1\n",
       "0280-XJGEX    1\n",
       "7795-CFOCW    1\n",
       "9237-HQITU    1\n",
       "9305-CDSKC    1\n",
       "             ..\n",
       "2234-XADUH    1\n",
       "4801-JZAZL    1\n",
       "8361-LTMKD    1\n",
       "1122-JWTJW    1\n",
       "3186-AJIEK    1\n",
       "Name: customerID, Length: 7043, dtype: int64"
      ]
     },
     "metadata": {},
     "output_type": "display_data"
    },
    {
     "data": {
      "text/plain": [
       "'gender'"
      ]
     },
     "metadata": {},
     "output_type": "display_data"
    },
    {
     "data": {
      "text/plain": [
       "Male      3555\n",
       "Female    3488\n",
       "Name: gender, dtype: int64"
      ]
     },
     "metadata": {},
     "output_type": "display_data"
    },
    {
     "data": {
      "text/plain": [
       "'SeniorCitizen'"
      ]
     },
     "metadata": {},
     "output_type": "display_data"
    },
    {
     "data": {
      "text/plain": [
       "0    5901\n",
       "1    1142\n",
       "Name: SeniorCitizen, dtype: int64"
      ]
     },
     "metadata": {},
     "output_type": "display_data"
    },
    {
     "data": {
      "text/plain": [
       "'Partner'"
      ]
     },
     "metadata": {},
     "output_type": "display_data"
    },
    {
     "data": {
      "text/plain": [
       "No     3641\n",
       "Yes    3402\n",
       "Name: Partner, dtype: int64"
      ]
     },
     "metadata": {},
     "output_type": "display_data"
    },
    {
     "data": {
      "text/plain": [
       "'Dependents'"
      ]
     },
     "metadata": {},
     "output_type": "display_data"
    },
    {
     "data": {
      "text/plain": [
       "No     4933\n",
       "Yes    2110\n",
       "Name: Dependents, dtype: int64"
      ]
     },
     "metadata": {},
     "output_type": "display_data"
    }
   ],
   "source": [
    "data_value_counts(personal)"
   ]
  },
  {
   "cell_type": "markdown",
   "id": "667158b2",
   "metadata": {},
   "source": [
    "- The number of female and male customers is approximately equal.\n",
    "- The number of customers with partners and without partners is also approximately equal.\n",
    "- Out of 7000 subscribers, around 2000 have dependents, while 5000 do not have dependents."
   ]
  },
  {
   "cell_type": "code",
   "execution_count": 11,
   "id": "546a31e7",
   "metadata": {},
   "outputs": [
    {
     "data": {
      "text/plain": [
       "'customerID'"
      ]
     },
     "metadata": {},
     "output_type": "display_data"
    },
    {
     "data": {
      "text/plain": [
       "7590-VHVEG    1\n",
       "9763-GRSKD    1\n",
       "7795-CFOCW    1\n",
       "9237-HQITU    1\n",
       "9305-CDSKC    1\n",
       "             ..\n",
       "2234-XADUH    1\n",
       "4801-JZAZL    1\n",
       "8361-LTMKD    1\n",
       "7203-OYKCT    1\n",
       "3186-AJIEK    1\n",
       "Name: customerID, Length: 5517, dtype: int64"
      ]
     },
     "metadata": {},
     "output_type": "display_data"
    },
    {
     "data": {
      "text/plain": [
       "'InternetService'"
      ]
     },
     "metadata": {},
     "output_type": "display_data"
    },
    {
     "data": {
      "text/plain": [
       "Fiber optic    3096\n",
       "DSL            2421\n",
       "Name: InternetService, dtype: int64"
      ]
     },
     "metadata": {},
     "output_type": "display_data"
    },
    {
     "data": {
      "text/plain": [
       "'OnlineSecurity'"
      ]
     },
     "metadata": {},
     "output_type": "display_data"
    },
    {
     "data": {
      "text/plain": [
       "No     3498\n",
       "Yes    2019\n",
       "Name: OnlineSecurity, dtype: int64"
      ]
     },
     "metadata": {},
     "output_type": "display_data"
    },
    {
     "data": {
      "text/plain": [
       "'OnlineBackup'"
      ]
     },
     "metadata": {},
     "output_type": "display_data"
    },
    {
     "data": {
      "text/plain": [
       "No     3088\n",
       "Yes    2429\n",
       "Name: OnlineBackup, dtype: int64"
      ]
     },
     "metadata": {},
     "output_type": "display_data"
    },
    {
     "data": {
      "text/plain": [
       "'DeviceProtection'"
      ]
     },
     "metadata": {},
     "output_type": "display_data"
    },
    {
     "data": {
      "text/plain": [
       "No     3095\n",
       "Yes    2422\n",
       "Name: DeviceProtection, dtype: int64"
      ]
     },
     "metadata": {},
     "output_type": "display_data"
    },
    {
     "data": {
      "text/plain": [
       "'TechSupport'"
      ]
     },
     "metadata": {},
     "output_type": "display_data"
    },
    {
     "data": {
      "text/plain": [
       "No     3473\n",
       "Yes    2044\n",
       "Name: TechSupport, dtype: int64"
      ]
     },
     "metadata": {},
     "output_type": "display_data"
    },
    {
     "data": {
      "text/plain": [
       "'StreamingTV'"
      ]
     },
     "metadata": {},
     "output_type": "display_data"
    },
    {
     "data": {
      "text/plain": [
       "No     2810\n",
       "Yes    2707\n",
       "Name: StreamingTV, dtype: int64"
      ]
     },
     "metadata": {},
     "output_type": "display_data"
    },
    {
     "data": {
      "text/plain": [
       "'StreamingMovies'"
      ]
     },
     "metadata": {},
     "output_type": "display_data"
    },
    {
     "data": {
      "text/plain": [
       "No     2785\n",
       "Yes    2732\n",
       "Name: StreamingMovies, dtype: int64"
      ]
     },
     "metadata": {},
     "output_type": "display_data"
    }
   ],
   "source": [
    "data_value_counts(internet)"
   ]
  },
  {
   "cell_type": "code",
   "execution_count": 12,
   "id": "541adcbd",
   "metadata": {},
   "outputs": [
    {
     "data": {
      "text/plain": [
       "'customerID'"
      ]
     },
     "metadata": {},
     "output_type": "display_data"
    },
    {
     "data": {
      "text/plain": [
       "5575-GNVDE    1\n",
       "5248-YGIJN    1\n",
       "9305-CDSKC    1\n",
       "1452-KIOVK    1\n",
       "7892-POOKP    1\n",
       "             ..\n",
       "6840-RESVB    1\n",
       "2234-XADUH    1\n",
       "8361-LTMKD    1\n",
       "4807-IZYOZ    1\n",
       "3186-AJIEK    1\n",
       "Name: customerID, Length: 6361, dtype: int64"
      ]
     },
     "metadata": {},
     "output_type": "display_data"
    },
    {
     "data": {
      "text/plain": [
       "'MultipleLines'"
      ]
     },
     "metadata": {},
     "output_type": "display_data"
    },
    {
     "data": {
      "text/plain": [
       "No     3390\n",
       "Yes    2971\n",
       "Name: MultipleLines, dtype: int64"
      ]
     },
     "metadata": {},
     "output_type": "display_data"
    }
   ],
   "source": [
    "data_value_counts(phone)"
   ]
  },
  {
   "cell_type": "markdown",
   "id": "7207d1da",
   "metadata": {},
   "source": [
    "- Just slightly over half of the subscribers have MultipleLines."
   ]
  },
  {
   "cell_type": "markdown",
   "id": "3f94d2a7",
   "metadata": {},
   "source": [
    "## Work Plan"
   ]
  },
  {
   "cell_type": "markdown",
   "id": "3aeb35bb",
   "metadata": {},
   "source": [
    "1. Carefully merge the dataframes (exploration of the unified dataframe).\n",
    "2. Data preprocessing (handling anomalies, creating new features, etc.), identify the target variable.\n",
    "3. Split the dataset into train and test sets (0.25).\n",
    "4. Create a pipeline for One-Hot Encoding (considering the used models) and scaling.\n",
    "5. Train 3 models: decision tree, random forest, boosting. Select the best one.\n",
    "6. Evaluate the performance of the best model on the test set.\n",
    "7. Investigate feature importance of the best model."
   ]
  },
  {
   "cell_type": "markdown",
   "id": "5452b1fa",
   "metadata": {},
   "source": [
    "## Exploratory Data Analysis (EDA) and Data Processing"
   ]
  },
  {
   "cell_type": "code",
   "execution_count": 13,
   "id": "68844276",
   "metadata": {
    "scrolled": false
   },
   "outputs": [
    {
     "data": {
      "text/html": [
       "<div>\n",
       "<style scoped>\n",
       "    .dataframe tbody tr th:only-of-type {\n",
       "        vertical-align: middle;\n",
       "    }\n",
       "\n",
       "    .dataframe tbody tr th {\n",
       "        vertical-align: top;\n",
       "    }\n",
       "\n",
       "    .dataframe thead th {\n",
       "        text-align: right;\n",
       "    }\n",
       "</style>\n",
       "<table border=\"1\" class=\"dataframe\">\n",
       "  <thead>\n",
       "    <tr style=\"text-align: right;\">\n",
       "      <th></th>\n",
       "      <th>customerID</th>\n",
       "      <th>BeginDate</th>\n",
       "      <th>EndDate</th>\n",
       "      <th>Type</th>\n",
       "      <th>PaperlessBilling</th>\n",
       "      <th>PaymentMethod</th>\n",
       "      <th>MonthlyCharges</th>\n",
       "      <th>TotalCharges</th>\n",
       "    </tr>\n",
       "  </thead>\n",
       "  <tbody>\n",
       "    <tr>\n",
       "      <th>0</th>\n",
       "      <td>7590-VHVEG</td>\n",
       "      <td>2020-01-01</td>\n",
       "      <td>No</td>\n",
       "      <td>Month-to-month</td>\n",
       "      <td>Yes</td>\n",
       "      <td>Electronic check</td>\n",
       "      <td>29.85</td>\n",
       "      <td>31.04</td>\n",
       "    </tr>\n",
       "    <tr>\n",
       "      <th>1</th>\n",
       "      <td>5575-GNVDE</td>\n",
       "      <td>2017-04-01</td>\n",
       "      <td>No</td>\n",
       "      <td>One year</td>\n",
       "      <td>No</td>\n",
       "      <td>Mailed check</td>\n",
       "      <td>56.95</td>\n",
       "      <td>2071.84</td>\n",
       "    </tr>\n",
       "    <tr>\n",
       "      <th>2</th>\n",
       "      <td>3668-QPYBK</td>\n",
       "      <td>2019-10-01</td>\n",
       "      <td>No</td>\n",
       "      <td>Month-to-month</td>\n",
       "      <td>Yes</td>\n",
       "      <td>Mailed check</td>\n",
       "      <td>53.85</td>\n",
       "      <td>226.17</td>\n",
       "    </tr>\n",
       "  </tbody>\n",
       "</table>\n",
       "</div>"
      ],
      "text/plain": [
       "   customerID   BeginDate EndDate            Type PaperlessBilling  \\\n",
       "0  7590-VHVEG  2020-01-01      No  Month-to-month              Yes   \n",
       "1  5575-GNVDE  2017-04-01      No        One year               No   \n",
       "2  3668-QPYBK  2019-10-01      No  Month-to-month              Yes   \n",
       "\n",
       "      PaymentMethod  MonthlyCharges TotalCharges  \n",
       "0  Electronic check           29.85        31.04  \n",
       "1      Mailed check           56.95      2071.84  \n",
       "2      Mailed check           53.85       226.17  "
      ]
     },
     "execution_count": 13,
     "metadata": {},
     "output_type": "execute_result"
    }
   ],
   "source": [
    "contract.head(3)\n",
    "# personal\n",
    "# internet\n",
    "# phone"
   ]
  },
  {
   "cell_type": "code",
   "execution_count": 14,
   "id": "13b68a85",
   "metadata": {},
   "outputs": [
    {
     "data": {
      "text/plain": [
       "(Index(['customerID', 'BeginDate', 'EndDate', 'Type', 'PaperlessBilling',\n",
       "        'PaymentMethod', 'MonthlyCharges', 'TotalCharges'],\n",
       "       dtype='object'),\n",
       " Index(['customerID', 'gender', 'SeniorCitizen', 'Partner', 'Dependents'], dtype='object'),\n",
       " Index(['customerID', 'InternetService', 'OnlineSecurity', 'OnlineBackup',\n",
       "        'DeviceProtection', 'TechSupport', 'StreamingTV', 'StreamingMovies'],\n",
       "       dtype='object'),\n",
       " Index(['customerID', 'MultipleLines'], dtype='object'))"
      ]
     },
     "execution_count": 14,
     "metadata": {},
     "output_type": "execute_result"
    }
   ],
   "source": [
    "contract.columns, personal.columns, internet.columns, phone.columns"
   ]
  },
  {
   "cell_type": "code",
   "execution_count": 15,
   "id": "6c2e6faf",
   "metadata": {},
   "outputs": [],
   "source": [
    "def rename_columns(df):\n",
    "    for column in df.columns:\n",
    "        new_column_name = re.sub(r'(?<!^)(?=[A-Z])', '_', column).lower()\n",
    "        df.rename(columns={column: new_column_name}, inplace=True)\n",
    "    df.rename(columns={'customer_i_d': 'customer_id'}, inplace=True)\n",
    "    display(df.head(1))"
   ]
  },
  {
   "cell_type": "code",
   "execution_count": 16,
   "id": "76684468",
   "metadata": {},
   "outputs": [
    {
     "data": {
      "text/html": [
       "<div>\n",
       "<style scoped>\n",
       "    .dataframe tbody tr th:only-of-type {\n",
       "        vertical-align: middle;\n",
       "    }\n",
       "\n",
       "    .dataframe tbody tr th {\n",
       "        vertical-align: top;\n",
       "    }\n",
       "\n",
       "    .dataframe thead th {\n",
       "        text-align: right;\n",
       "    }\n",
       "</style>\n",
       "<table border=\"1\" class=\"dataframe\">\n",
       "  <thead>\n",
       "    <tr style=\"text-align: right;\">\n",
       "      <th></th>\n",
       "      <th>customer_id</th>\n",
       "      <th>begin_date</th>\n",
       "      <th>end_date</th>\n",
       "      <th>type</th>\n",
       "      <th>paperless_billing</th>\n",
       "      <th>payment_method</th>\n",
       "      <th>monthly_charges</th>\n",
       "      <th>total_charges</th>\n",
       "    </tr>\n",
       "  </thead>\n",
       "  <tbody>\n",
       "    <tr>\n",
       "      <th>0</th>\n",
       "      <td>7590-VHVEG</td>\n",
       "      <td>2020-01-01</td>\n",
       "      <td>No</td>\n",
       "      <td>Month-to-month</td>\n",
       "      <td>Yes</td>\n",
       "      <td>Electronic check</td>\n",
       "      <td>29.85</td>\n",
       "      <td>31.04</td>\n",
       "    </tr>\n",
       "  </tbody>\n",
       "</table>\n",
       "</div>"
      ],
      "text/plain": [
       "  customer_id  begin_date end_date            type paperless_billing  \\\n",
       "0  7590-VHVEG  2020-01-01       No  Month-to-month               Yes   \n",
       "\n",
       "     payment_method  monthly_charges total_charges  \n",
       "0  Electronic check            29.85         31.04  "
      ]
     },
     "metadata": {},
     "output_type": "display_data"
    },
    {
     "data": {
      "text/html": [
       "<div>\n",
       "<style scoped>\n",
       "    .dataframe tbody tr th:only-of-type {\n",
       "        vertical-align: middle;\n",
       "    }\n",
       "\n",
       "    .dataframe tbody tr th {\n",
       "        vertical-align: top;\n",
       "    }\n",
       "\n",
       "    .dataframe thead th {\n",
       "        text-align: right;\n",
       "    }\n",
       "</style>\n",
       "<table border=\"1\" class=\"dataframe\">\n",
       "  <thead>\n",
       "    <tr style=\"text-align: right;\">\n",
       "      <th></th>\n",
       "      <th>customer_id</th>\n",
       "      <th>gender</th>\n",
       "      <th>senior_citizen</th>\n",
       "      <th>partner</th>\n",
       "      <th>dependents</th>\n",
       "    </tr>\n",
       "  </thead>\n",
       "  <tbody>\n",
       "    <tr>\n",
       "      <th>0</th>\n",
       "      <td>7590-VHVEG</td>\n",
       "      <td>Female</td>\n",
       "      <td>0</td>\n",
       "      <td>Yes</td>\n",
       "      <td>No</td>\n",
       "    </tr>\n",
       "  </tbody>\n",
       "</table>\n",
       "</div>"
      ],
      "text/plain": [
       "  customer_id  gender  senior_citizen partner dependents\n",
       "0  7590-VHVEG  Female               0     Yes         No"
      ]
     },
     "metadata": {},
     "output_type": "display_data"
    },
    {
     "data": {
      "text/html": [
       "<div>\n",
       "<style scoped>\n",
       "    .dataframe tbody tr th:only-of-type {\n",
       "        vertical-align: middle;\n",
       "    }\n",
       "\n",
       "    .dataframe tbody tr th {\n",
       "        vertical-align: top;\n",
       "    }\n",
       "\n",
       "    .dataframe thead th {\n",
       "        text-align: right;\n",
       "    }\n",
       "</style>\n",
       "<table border=\"1\" class=\"dataframe\">\n",
       "  <thead>\n",
       "    <tr style=\"text-align: right;\">\n",
       "      <th></th>\n",
       "      <th>customer_id</th>\n",
       "      <th>internet_service</th>\n",
       "      <th>online_security</th>\n",
       "      <th>online_backup</th>\n",
       "      <th>device_protection</th>\n",
       "      <th>tech_support</th>\n",
       "      <th>streaming_t_v</th>\n",
       "      <th>streaming_movies</th>\n",
       "    </tr>\n",
       "  </thead>\n",
       "  <tbody>\n",
       "    <tr>\n",
       "      <th>0</th>\n",
       "      <td>7590-VHVEG</td>\n",
       "      <td>DSL</td>\n",
       "      <td>No</td>\n",
       "      <td>Yes</td>\n",
       "      <td>No</td>\n",
       "      <td>No</td>\n",
       "      <td>No</td>\n",
       "      <td>No</td>\n",
       "    </tr>\n",
       "  </tbody>\n",
       "</table>\n",
       "</div>"
      ],
      "text/plain": [
       "  customer_id internet_service online_security online_backup  \\\n",
       "0  7590-VHVEG              DSL              No           Yes   \n",
       "\n",
       "  device_protection tech_support streaming_t_v streaming_movies  \n",
       "0                No           No            No               No  "
      ]
     },
     "metadata": {},
     "output_type": "display_data"
    },
    {
     "data": {
      "text/html": [
       "<div>\n",
       "<style scoped>\n",
       "    .dataframe tbody tr th:only-of-type {\n",
       "        vertical-align: middle;\n",
       "    }\n",
       "\n",
       "    .dataframe tbody tr th {\n",
       "        vertical-align: top;\n",
       "    }\n",
       "\n",
       "    .dataframe thead th {\n",
       "        text-align: right;\n",
       "    }\n",
       "</style>\n",
       "<table border=\"1\" class=\"dataframe\">\n",
       "  <thead>\n",
       "    <tr style=\"text-align: right;\">\n",
       "      <th></th>\n",
       "      <th>customer_id</th>\n",
       "      <th>multiple_lines</th>\n",
       "    </tr>\n",
       "  </thead>\n",
       "  <tbody>\n",
       "    <tr>\n",
       "      <th>0</th>\n",
       "      <td>5575-GNVDE</td>\n",
       "      <td>No</td>\n",
       "    </tr>\n",
       "  </tbody>\n",
       "</table>\n",
       "</div>"
      ],
      "text/plain": [
       "  customer_id multiple_lines\n",
       "0  5575-GNVDE             No"
      ]
     },
     "metadata": {},
     "output_type": "display_data"
    }
   ],
   "source": [
    "rename_columns(contract)\n",
    "rename_columns(personal)\n",
    "rename_columns(internet)\n",
    "rename_columns(phone)"
   ]
  },
  {
   "cell_type": "markdown",
   "id": "f5a44633",
   "metadata": {},
   "source": [
    "Let's check whether all subscribers are unique or if there are those who left and then returned."
   ]
  },
  {
   "cell_type": "code",
   "execution_count": 17,
   "id": "05361a7b",
   "metadata": {},
   "outputs": [
    {
     "data": {
      "text/html": [
       "<div>\n",
       "<style scoped>\n",
       "    .dataframe tbody tr th:only-of-type {\n",
       "        vertical-align: middle;\n",
       "    }\n",
       "\n",
       "    .dataframe tbody tr th {\n",
       "        vertical-align: top;\n",
       "    }\n",
       "\n",
       "    .dataframe thead th {\n",
       "        text-align: right;\n",
       "    }\n",
       "</style>\n",
       "<table border=\"1\" class=\"dataframe\">\n",
       "  <thead>\n",
       "    <tr style=\"text-align: right;\">\n",
       "      <th></th>\n",
       "      <th>customer_id</th>\n",
       "      <th>begin_date</th>\n",
       "      <th>end_date</th>\n",
       "      <th>type</th>\n",
       "      <th>paperless_billing</th>\n",
       "      <th>payment_method</th>\n",
       "      <th>monthly_charges</th>\n",
       "      <th>total_charges</th>\n",
       "    </tr>\n",
       "  </thead>\n",
       "  <tbody>\n",
       "    <tr>\n",
       "      <th>0</th>\n",
       "      <td>7590-VHVEG</td>\n",
       "      <td>2020-01-01</td>\n",
       "      <td>No</td>\n",
       "      <td>Month-to-month</td>\n",
       "      <td>Yes</td>\n",
       "      <td>Electronic check</td>\n",
       "      <td>29.85</td>\n",
       "      <td>31.04</td>\n",
       "    </tr>\n",
       "    <tr>\n",
       "      <th>1</th>\n",
       "      <td>5575-GNVDE</td>\n",
       "      <td>2017-04-01</td>\n",
       "      <td>No</td>\n",
       "      <td>One year</td>\n",
       "      <td>No</td>\n",
       "      <td>Mailed check</td>\n",
       "      <td>56.95</td>\n",
       "      <td>2071.84</td>\n",
       "    </tr>\n",
       "    <tr>\n",
       "      <th>2</th>\n",
       "      <td>3668-QPYBK</td>\n",
       "      <td>2019-10-01</td>\n",
       "      <td>No</td>\n",
       "      <td>Month-to-month</td>\n",
       "      <td>Yes</td>\n",
       "      <td>Mailed check</td>\n",
       "      <td>53.85</td>\n",
       "      <td>226.17</td>\n",
       "    </tr>\n",
       "  </tbody>\n",
       "</table>\n",
       "</div>"
      ],
      "text/plain": [
       "  customer_id  begin_date end_date            type paperless_billing  \\\n",
       "0  7590-VHVEG  2020-01-01       No  Month-to-month               Yes   \n",
       "1  5575-GNVDE  2017-04-01       No        One year                No   \n",
       "2  3668-QPYBK  2019-10-01       No  Month-to-month               Yes   \n",
       "\n",
       "     payment_method  monthly_charges total_charges  \n",
       "0  Electronic check            29.85         31.04  \n",
       "1      Mailed check            56.95       2071.84  \n",
       "2      Mailed check            53.85        226.17  "
      ]
     },
     "execution_count": 17,
     "metadata": {},
     "output_type": "execute_result"
    }
   ],
   "source": [
    "contract.head(3)\n",
    "# personal\n",
    "# internet\n",
    "# phone"
   ]
  },
  {
   "cell_type": "code",
   "execution_count": 18,
   "id": "2b8e336c",
   "metadata": {},
   "outputs": [
    {
     "data": {
      "text/plain": [
       "7590-VHVEG    1\n",
       "0280-XJGEX    1\n",
       "7795-CFOCW    1\n",
       "9237-HQITU    1\n",
       "9305-CDSKC    1\n",
       "             ..\n",
       "2234-XADUH    1\n",
       "4801-JZAZL    1\n",
       "8361-LTMKD    1\n",
       "1122-JWTJW    1\n",
       "3186-AJIEK    1\n",
       "Name: customer_id, Length: 7043, dtype: int64"
      ]
     },
     "execution_count": 18,
     "metadata": {},
     "output_type": "execute_result"
    }
   ],
   "source": [
    "contract.customer_id.value_counts().sort_values(ascending=False)"
   ]
  },
  {
   "cell_type": "code",
   "execution_count": 19,
   "id": "9d6a112c",
   "metadata": {},
   "outputs": [
    {
     "data": {
      "text/plain": [
       "7043"
      ]
     },
     "execution_count": 19,
     "metadata": {},
     "output_type": "execute_result"
    }
   ],
   "source": [
    "len(contract)"
   ]
  },
  {
   "cell_type": "code",
   "execution_count": 20,
   "id": "7b88a589",
   "metadata": {},
   "outputs": [
    {
     "data": {
      "text/plain": [
       "7043"
      ]
     },
     "execution_count": 20,
     "metadata": {},
     "output_type": "execute_result"
    }
   ],
   "source": [
    "contract.customer_id.nunique()"
   ]
  },
  {
   "cell_type": "markdown",
   "id": "9ad53e7e",
   "metadata": {},
   "source": [
    "All customer IDs are unique. Quite surprising, isn't it?"
   ]
  },
  {
   "cell_type": "markdown",
   "id": "17bb5bb7",
   "metadata": {},
   "source": [
    "Now, let's check if all customer IDs from the \"personal,\" \"internet,\" and \"phone\" datasets are included in the \"contract\" dataset:"
   ]
  },
  {
   "cell_type": "code",
   "execution_count": 21,
   "id": "cf1ded3d",
   "metadata": {},
   "outputs": [],
   "source": [
    "def check_unique_values(series_1, series_2):\n",
    "    unique_values_series_1 = series_1.unique()\n",
    "    unique_values_series_2 = series_2.unique()\n",
    "    \n",
    "    return all(np.isin(unique_values_series_2, unique_values_series_1))"
   ]
  },
  {
   "cell_type": "code",
   "execution_count": 22,
   "id": "2e66a2ba",
   "metadata": {},
   "outputs": [
    {
     "data": {
      "text/plain": [
       "(True, True, True)"
      ]
     },
     "execution_count": 22,
     "metadata": {},
     "output_type": "execute_result"
    }
   ],
   "source": [
    "(\n",
    "    check_unique_values(contract.customer_id, personal.customer_id),\n",
    "    check_unique_values(contract.customer_id, internet.customer_id),\n",
    "    check_unique_values(contract.customer_id, phone.customer_id)\n",
    ")"
   ]
  },
  {
   "cell_type": "markdown",
   "id": "b6a3ed6b",
   "metadata": {},
   "source": [
    "Just to be thorough, let's check once again:"
   ]
  },
  {
   "cell_type": "code",
   "execution_count": 23,
   "id": "74041b37",
   "metadata": {},
   "outputs": [],
   "source": [
    "def get_unique_differences(series_1, series_2):\n",
    "    unique_values_series_1 = set(series_1.unique())\n",
    "    unique_values_series_2 = set(series_2.unique())   \n",
    "    differences = list(unique_values_series_1 - unique_values_series_2)\n",
    "\n",
    "    return differences"
   ]
  },
  {
   "cell_type": "code",
   "execution_count": 24,
   "id": "c712e0f2",
   "metadata": {},
   "outputs": [
    {
     "data": {
      "text/plain": [
       "[]"
      ]
     },
     "execution_count": 24,
     "metadata": {},
     "output_type": "execute_result"
    }
   ],
   "source": [
    "get_unique_differences(contract.customer_id, personal.customer_id)"
   ]
  },
  {
   "cell_type": "code",
   "execution_count": 25,
   "id": "77b33c32",
   "metadata": {
    "scrolled": false
   },
   "outputs": [
    {
     "data": {
      "text/plain": [
       "[]"
      ]
     },
     "execution_count": 25,
     "metadata": {},
     "output_type": "execute_result"
    }
   ],
   "source": [
    "get_unique_differences(internet.customer_id, contract.customer_id)"
   ]
  },
  {
   "cell_type": "code",
   "execution_count": 26,
   "id": "40aa9730",
   "metadata": {},
   "outputs": [
    {
     "data": {
      "text/plain": [
       "[]"
      ]
     },
     "execution_count": 26,
     "metadata": {},
     "output_type": "execute_result"
    }
   ],
   "source": [
    "get_unique_differences(phone.customer_id, contract.customer_id)"
   ]
  },
  {
   "cell_type": "markdown",
   "id": "047b32f8",
   "metadata": {},
   "source": [
    "That's very interesting! All customer ID values from the \"personal,\" \"internet,\" and \"phone\" datasets are present in the \"contract\" dataset.  \n",
    "Additionally, there are no duplicate customer IDs; all values are unique. This implies that you can seamlessly join the \"personal,\" \"internet,\" and \"phone\" datasets to the \"contract\" dataset without any issues."
   ]
  },
  {
   "cell_type": "code",
   "execution_count": 27,
   "id": "4f2913f6",
   "metadata": {
    "scrolled": false
   },
   "outputs": [
    {
     "data": {
      "text/html": [
       "<div>\n",
       "<style scoped>\n",
       "    .dataframe tbody tr th:only-of-type {\n",
       "        vertical-align: middle;\n",
       "    }\n",
       "\n",
       "    .dataframe tbody tr th {\n",
       "        vertical-align: top;\n",
       "    }\n",
       "\n",
       "    .dataframe thead th {\n",
       "        text-align: right;\n",
       "    }\n",
       "</style>\n",
       "<table border=\"1\" class=\"dataframe\">\n",
       "  <thead>\n",
       "    <tr style=\"text-align: right;\">\n",
       "      <th></th>\n",
       "      <th>customer_id</th>\n",
       "      <th>begin_date</th>\n",
       "      <th>end_date</th>\n",
       "      <th>type</th>\n",
       "      <th>paperless_billing</th>\n",
       "      <th>payment_method</th>\n",
       "      <th>monthly_charges</th>\n",
       "      <th>total_charges</th>\n",
       "    </tr>\n",
       "  </thead>\n",
       "  <tbody>\n",
       "    <tr>\n",
       "      <th>0</th>\n",
       "      <td>7590-VHVEG</td>\n",
       "      <td>2020-01-01</td>\n",
       "      <td>No</td>\n",
       "      <td>Month-to-month</td>\n",
       "      <td>Yes</td>\n",
       "      <td>Electronic check</td>\n",
       "      <td>29.85</td>\n",
       "      <td>31.04</td>\n",
       "    </tr>\n",
       "    <tr>\n",
       "      <th>1</th>\n",
       "      <td>5575-GNVDE</td>\n",
       "      <td>2017-04-01</td>\n",
       "      <td>No</td>\n",
       "      <td>One year</td>\n",
       "      <td>No</td>\n",
       "      <td>Mailed check</td>\n",
       "      <td>56.95</td>\n",
       "      <td>2071.84</td>\n",
       "    </tr>\n",
       "    <tr>\n",
       "      <th>2</th>\n",
       "      <td>3668-QPYBK</td>\n",
       "      <td>2019-10-01</td>\n",
       "      <td>No</td>\n",
       "      <td>Month-to-month</td>\n",
       "      <td>Yes</td>\n",
       "      <td>Mailed check</td>\n",
       "      <td>53.85</td>\n",
       "      <td>226.17</td>\n",
       "    </tr>\n",
       "    <tr>\n",
       "      <th>3</th>\n",
       "      <td>7795-CFOCW</td>\n",
       "      <td>2016-05-01</td>\n",
       "      <td>No</td>\n",
       "      <td>One year</td>\n",
       "      <td>No</td>\n",
       "      <td>Bank transfer (automatic)</td>\n",
       "      <td>42.30</td>\n",
       "      <td>1960.6</td>\n",
       "    </tr>\n",
       "    <tr>\n",
       "      <th>4</th>\n",
       "      <td>9237-HQITU</td>\n",
       "      <td>2019-09-01</td>\n",
       "      <td>No</td>\n",
       "      <td>Month-to-month</td>\n",
       "      <td>Yes</td>\n",
       "      <td>Electronic check</td>\n",
       "      <td>70.70</td>\n",
       "      <td>353.5</td>\n",
       "    </tr>\n",
       "    <tr>\n",
       "      <th>...</th>\n",
       "      <td>...</td>\n",
       "      <td>...</td>\n",
       "      <td>...</td>\n",
       "      <td>...</td>\n",
       "      <td>...</td>\n",
       "      <td>...</td>\n",
       "      <td>...</td>\n",
       "      <td>...</td>\n",
       "    </tr>\n",
       "    <tr>\n",
       "      <th>7038</th>\n",
       "      <td>6840-RESVB</td>\n",
       "      <td>2018-02-01</td>\n",
       "      <td>No</td>\n",
       "      <td>One year</td>\n",
       "      <td>Yes</td>\n",
       "      <td>Mailed check</td>\n",
       "      <td>84.80</td>\n",
       "      <td>2035.2</td>\n",
       "    </tr>\n",
       "    <tr>\n",
       "      <th>7039</th>\n",
       "      <td>2234-XADUH</td>\n",
       "      <td>2014-02-01</td>\n",
       "      <td>No</td>\n",
       "      <td>One year</td>\n",
       "      <td>Yes</td>\n",
       "      <td>Credit card (automatic)</td>\n",
       "      <td>103.20</td>\n",
       "      <td>7430.4</td>\n",
       "    </tr>\n",
       "    <tr>\n",
       "      <th>7040</th>\n",
       "      <td>4801-JZAZL</td>\n",
       "      <td>2019-03-01</td>\n",
       "      <td>No</td>\n",
       "      <td>Month-to-month</td>\n",
       "      <td>Yes</td>\n",
       "      <td>Electronic check</td>\n",
       "      <td>29.60</td>\n",
       "      <td>325.6</td>\n",
       "    </tr>\n",
       "    <tr>\n",
       "      <th>7041</th>\n",
       "      <td>8361-LTMKD</td>\n",
       "      <td>2019-07-01</td>\n",
       "      <td>No</td>\n",
       "      <td>Month-to-month</td>\n",
       "      <td>Yes</td>\n",
       "      <td>Mailed check</td>\n",
       "      <td>74.40</td>\n",
       "      <td>520.8</td>\n",
       "    </tr>\n",
       "    <tr>\n",
       "      <th>7042</th>\n",
       "      <td>3186-AJIEK</td>\n",
       "      <td>2014-08-01</td>\n",
       "      <td>No</td>\n",
       "      <td>Two year</td>\n",
       "      <td>Yes</td>\n",
       "      <td>Bank transfer (automatic)</td>\n",
       "      <td>105.65</td>\n",
       "      <td>7251.82</td>\n",
       "    </tr>\n",
       "  </tbody>\n",
       "</table>\n",
       "<p>7043 rows × 8 columns</p>\n",
       "</div>"
      ],
      "text/plain": [
       "     customer_id  begin_date end_date            type paperless_billing  \\\n",
       "0     7590-VHVEG  2020-01-01       No  Month-to-month               Yes   \n",
       "1     5575-GNVDE  2017-04-01       No        One year                No   \n",
       "2     3668-QPYBK  2019-10-01       No  Month-to-month               Yes   \n",
       "3     7795-CFOCW  2016-05-01       No        One year                No   \n",
       "4     9237-HQITU  2019-09-01       No  Month-to-month               Yes   \n",
       "...          ...         ...      ...             ...               ...   \n",
       "7038  6840-RESVB  2018-02-01       No        One year               Yes   \n",
       "7039  2234-XADUH  2014-02-01       No        One year               Yes   \n",
       "7040  4801-JZAZL  2019-03-01       No  Month-to-month               Yes   \n",
       "7041  8361-LTMKD  2019-07-01       No  Month-to-month               Yes   \n",
       "7042  3186-AJIEK  2014-08-01       No        Two year               Yes   \n",
       "\n",
       "                 payment_method  monthly_charges total_charges  \n",
       "0              Electronic check            29.85         31.04  \n",
       "1                  Mailed check            56.95       2071.84  \n",
       "2                  Mailed check            53.85        226.17  \n",
       "3     Bank transfer (automatic)            42.30        1960.6  \n",
       "4              Electronic check            70.70         353.5  \n",
       "...                         ...              ...           ...  \n",
       "7038               Mailed check            84.80        2035.2  \n",
       "7039    Credit card (automatic)           103.20        7430.4  \n",
       "7040           Electronic check            29.60         325.6  \n",
       "7041               Mailed check            74.40         520.8  \n",
       "7042  Bank transfer (automatic)           105.65       7251.82  \n",
       "\n",
       "[7043 rows x 8 columns]"
      ]
     },
     "execution_count": 27,
     "metadata": {},
     "output_type": "execute_result"
    }
   ],
   "source": [
    "contract"
   ]
  },
  {
   "cell_type": "markdown",
   "id": "36c80c28",
   "metadata": {},
   "source": [
    "Let's add the target variable: whether a subscriber has churned (1) or not (0)."
   ]
  },
  {
   "cell_type": "code",
   "execution_count": 28,
   "id": "e658955f",
   "metadata": {},
   "outputs": [],
   "source": [
    "contract['target'] = 0\n",
    "contract.loc[contract['end_date'] == 'No', 'target'] = 1"
   ]
  },
  {
   "cell_type": "code",
   "execution_count": 29,
   "id": "93780405",
   "metadata": {},
   "outputs": [
    {
     "data": {
      "text/html": [
       "<div>\n",
       "<style scoped>\n",
       "    .dataframe tbody tr th:only-of-type {\n",
       "        vertical-align: middle;\n",
       "    }\n",
       "\n",
       "    .dataframe tbody tr th {\n",
       "        vertical-align: top;\n",
       "    }\n",
       "\n",
       "    .dataframe thead th {\n",
       "        text-align: right;\n",
       "    }\n",
       "</style>\n",
       "<table border=\"1\" class=\"dataframe\">\n",
       "  <thead>\n",
       "    <tr style=\"text-align: right;\">\n",
       "      <th></th>\n",
       "      <th>customer_id</th>\n",
       "      <th>begin_date</th>\n",
       "      <th>end_date</th>\n",
       "      <th>type</th>\n",
       "      <th>paperless_billing</th>\n",
       "      <th>payment_method</th>\n",
       "      <th>monthly_charges</th>\n",
       "      <th>total_charges</th>\n",
       "      <th>target</th>\n",
       "    </tr>\n",
       "  </thead>\n",
       "  <tbody>\n",
       "    <tr>\n",
       "      <th>0</th>\n",
       "      <td>7590-VHVEG</td>\n",
       "      <td>2020-01-01</td>\n",
       "      <td>No</td>\n",
       "      <td>Month-to-month</td>\n",
       "      <td>Yes</td>\n",
       "      <td>Electronic check</td>\n",
       "      <td>29.85</td>\n",
       "      <td>31.04</td>\n",
       "      <td>1</td>\n",
       "    </tr>\n",
       "    <tr>\n",
       "      <th>1</th>\n",
       "      <td>5575-GNVDE</td>\n",
       "      <td>2017-04-01</td>\n",
       "      <td>No</td>\n",
       "      <td>One year</td>\n",
       "      <td>No</td>\n",
       "      <td>Mailed check</td>\n",
       "      <td>56.95</td>\n",
       "      <td>2071.84</td>\n",
       "      <td>1</td>\n",
       "    </tr>\n",
       "  </tbody>\n",
       "</table>\n",
       "</div>"
      ],
      "text/plain": [
       "  customer_id  begin_date end_date            type paperless_billing  \\\n",
       "0  7590-VHVEG  2020-01-01       No  Month-to-month               Yes   \n",
       "1  5575-GNVDE  2017-04-01       No        One year                No   \n",
       "\n",
       "     payment_method  monthly_charges total_charges  target  \n",
       "0  Electronic check            29.85         31.04       1  \n",
       "1      Mailed check            56.95       2071.84       1  "
      ]
     },
     "execution_count": 29,
     "metadata": {},
     "output_type": "execute_result"
    }
   ],
   "source": [
    "contract.head(2)"
   ]
  },
  {
   "cell_type": "code",
   "execution_count": 30,
   "id": "31ecb68e",
   "metadata": {},
   "outputs": [
    {
     "data": {
      "text/plain": [
       "1    5942\n",
       "0    1101\n",
       "Name: target, dtype: int64"
      ]
     },
     "execution_count": 30,
     "metadata": {},
     "output_type": "execute_result"
    }
   ],
   "source": [
    "contract.target.value_counts()"
   ]
  },
  {
   "cell_type": "markdown",
   "id": "1e9e0fe0",
   "metadata": {},
   "source": [
    "Alright. Now we can see 1101 churned customers."
   ]
  },
  {
   "cell_type": "code",
   "execution_count": 31,
   "id": "12eb0ba2",
   "metadata": {
    "scrolled": true
   },
   "outputs": [
    {
     "data": {
      "text/html": [
       "<div>\n",
       "<style scoped>\n",
       "    .dataframe tbody tr th:only-of-type {\n",
       "        vertical-align: middle;\n",
       "    }\n",
       "\n",
       "    .dataframe tbody tr th {\n",
       "        vertical-align: top;\n",
       "    }\n",
       "\n",
       "    .dataframe thead th {\n",
       "        text-align: right;\n",
       "    }\n",
       "</style>\n",
       "<table border=\"1\" class=\"dataframe\">\n",
       "  <thead>\n",
       "    <tr style=\"text-align: right;\">\n",
       "      <th></th>\n",
       "      <th>customer_id</th>\n",
       "      <th>gender</th>\n",
       "      <th>senior_citizen</th>\n",
       "      <th>partner</th>\n",
       "      <th>dependents</th>\n",
       "    </tr>\n",
       "  </thead>\n",
       "  <tbody>\n",
       "    <tr>\n",
       "      <th>0</th>\n",
       "      <td>7590-VHVEG</td>\n",
       "      <td>Female</td>\n",
       "      <td>0</td>\n",
       "      <td>Yes</td>\n",
       "      <td>No</td>\n",
       "    </tr>\n",
       "    <tr>\n",
       "      <th>1</th>\n",
       "      <td>5575-GNVDE</td>\n",
       "      <td>Male</td>\n",
       "      <td>0</td>\n",
       "      <td>No</td>\n",
       "      <td>No</td>\n",
       "    </tr>\n",
       "  </tbody>\n",
       "</table>\n",
       "</div>"
      ],
      "text/plain": [
       "  customer_id  gender  senior_citizen partner dependents\n",
       "0  7590-VHVEG  Female               0     Yes         No\n",
       "1  5575-GNVDE    Male               0      No         No"
      ]
     },
     "execution_count": 31,
     "metadata": {},
     "output_type": "execute_result"
    }
   ],
   "source": [
    "personal.head(2)"
   ]
  },
  {
   "cell_type": "code",
   "execution_count": 32,
   "id": "08ec9003",
   "metadata": {},
   "outputs": [
    {
     "data": {
      "text/html": [
       "<div>\n",
       "<style scoped>\n",
       "    .dataframe tbody tr th:only-of-type {\n",
       "        vertical-align: middle;\n",
       "    }\n",
       "\n",
       "    .dataframe tbody tr th {\n",
       "        vertical-align: top;\n",
       "    }\n",
       "\n",
       "    .dataframe thead th {\n",
       "        text-align: right;\n",
       "    }\n",
       "</style>\n",
       "<table border=\"1\" class=\"dataframe\">\n",
       "  <thead>\n",
       "    <tr style=\"text-align: right;\">\n",
       "      <th></th>\n",
       "      <th>customer_id</th>\n",
       "      <th>internet_service</th>\n",
       "      <th>online_security</th>\n",
       "      <th>online_backup</th>\n",
       "      <th>device_protection</th>\n",
       "      <th>tech_support</th>\n",
       "      <th>streaming_t_v</th>\n",
       "      <th>streaming_movies</th>\n",
       "    </tr>\n",
       "  </thead>\n",
       "  <tbody>\n",
       "    <tr>\n",
       "      <th>0</th>\n",
       "      <td>7590-VHVEG</td>\n",
       "      <td>DSL</td>\n",
       "      <td>No</td>\n",
       "      <td>Yes</td>\n",
       "      <td>No</td>\n",
       "      <td>No</td>\n",
       "      <td>No</td>\n",
       "      <td>No</td>\n",
       "    </tr>\n",
       "    <tr>\n",
       "      <th>1</th>\n",
       "      <td>5575-GNVDE</td>\n",
       "      <td>DSL</td>\n",
       "      <td>Yes</td>\n",
       "      <td>No</td>\n",
       "      <td>Yes</td>\n",
       "      <td>No</td>\n",
       "      <td>No</td>\n",
       "      <td>No</td>\n",
       "    </tr>\n",
       "  </tbody>\n",
       "</table>\n",
       "</div>"
      ],
      "text/plain": [
       "  customer_id internet_service online_security online_backup  \\\n",
       "0  7590-VHVEG              DSL              No           Yes   \n",
       "1  5575-GNVDE              DSL             Yes            No   \n",
       "\n",
       "  device_protection tech_support streaming_t_v streaming_movies  \n",
       "0                No           No            No               No  \n",
       "1               Yes           No            No               No  "
      ]
     },
     "execution_count": 32,
     "metadata": {},
     "output_type": "execute_result"
    }
   ],
   "source": [
    "internet.head(2)"
   ]
  },
  {
   "cell_type": "code",
   "execution_count": 33,
   "id": "9b372bed",
   "metadata": {},
   "outputs": [
    {
     "data": {
      "text/html": [
       "<div>\n",
       "<style scoped>\n",
       "    .dataframe tbody tr th:only-of-type {\n",
       "        vertical-align: middle;\n",
       "    }\n",
       "\n",
       "    .dataframe tbody tr th {\n",
       "        vertical-align: top;\n",
       "    }\n",
       "\n",
       "    .dataframe thead th {\n",
       "        text-align: right;\n",
       "    }\n",
       "</style>\n",
       "<table border=\"1\" class=\"dataframe\">\n",
       "  <thead>\n",
       "    <tr style=\"text-align: right;\">\n",
       "      <th></th>\n",
       "      <th>customer_id</th>\n",
       "      <th>multiple_lines</th>\n",
       "    </tr>\n",
       "  </thead>\n",
       "  <tbody>\n",
       "    <tr>\n",
       "      <th>0</th>\n",
       "      <td>5575-GNVDE</td>\n",
       "      <td>No</td>\n",
       "    </tr>\n",
       "    <tr>\n",
       "      <th>1</th>\n",
       "      <td>3668-QPYBK</td>\n",
       "      <td>No</td>\n",
       "    </tr>\n",
       "  </tbody>\n",
       "</table>\n",
       "</div>"
      ],
      "text/plain": [
       "  customer_id multiple_lines\n",
       "0  5575-GNVDE             No\n",
       "1  3668-QPYBK             No"
      ]
     },
     "execution_count": 33,
     "metadata": {},
     "output_type": "execute_result"
    }
   ],
   "source": [
    "phone.head(2)"
   ]
  },
  {
   "cell_type": "markdown",
   "id": "5457cdd9",
   "metadata": {},
   "source": [
    "Now, let's merge all the datasets into one, as we discussed earlier."
   ]
  },
  {
   "cell_type": "code",
   "execution_count": 34,
   "id": "138758bc",
   "metadata": {},
   "outputs": [],
   "source": [
    "data = contract.merge(personal, how='left', on='customer_id')"
   ]
  },
  {
   "cell_type": "code",
   "execution_count": 35,
   "id": "ca1d68f6",
   "metadata": {},
   "outputs": [
    {
     "data": {
      "text/plain": [
       "(7043, 13)"
      ]
     },
     "execution_count": 35,
     "metadata": {},
     "output_type": "execute_result"
    }
   ],
   "source": [
    "data.shape"
   ]
  },
  {
   "cell_type": "code",
   "execution_count": 36,
   "id": "ad620076",
   "metadata": {
    "scrolled": true
   },
   "outputs": [
    {
     "data": {
      "text/plain": [
       "(7043, 20)"
      ]
     },
     "execution_count": 36,
     "metadata": {},
     "output_type": "execute_result"
    }
   ],
   "source": [
    "data = data.merge(internet, how='left', on='customer_id')\n",
    "data.shape"
   ]
  },
  {
   "cell_type": "code",
   "execution_count": 37,
   "id": "811194fc",
   "metadata": {},
   "outputs": [
    {
     "data": {
      "text/plain": [
       "(7043, 21)"
      ]
     },
     "execution_count": 37,
     "metadata": {},
     "output_type": "execute_result"
    }
   ],
   "source": [
    "data = data.merge(phone, how='left', on='customer_id')\n",
    "data.shape"
   ]
  },
  {
   "cell_type": "code",
   "execution_count": 38,
   "id": "a8dd080d",
   "metadata": {},
   "outputs": [
    {
     "data": {
      "text/html": [
       "<div>\n",
       "<style scoped>\n",
       "    .dataframe tbody tr th:only-of-type {\n",
       "        vertical-align: middle;\n",
       "    }\n",
       "\n",
       "    .dataframe tbody tr th {\n",
       "        vertical-align: top;\n",
       "    }\n",
       "\n",
       "    .dataframe thead th {\n",
       "        text-align: right;\n",
       "    }\n",
       "</style>\n",
       "<table border=\"1\" class=\"dataframe\">\n",
       "  <thead>\n",
       "    <tr style=\"text-align: right;\">\n",
       "      <th></th>\n",
       "      <th>customer_id</th>\n",
       "      <th>begin_date</th>\n",
       "      <th>end_date</th>\n",
       "      <th>type</th>\n",
       "      <th>paperless_billing</th>\n",
       "      <th>payment_method</th>\n",
       "      <th>monthly_charges</th>\n",
       "      <th>total_charges</th>\n",
       "      <th>target</th>\n",
       "      <th>gender</th>\n",
       "      <th>...</th>\n",
       "      <th>partner</th>\n",
       "      <th>dependents</th>\n",
       "      <th>internet_service</th>\n",
       "      <th>online_security</th>\n",
       "      <th>online_backup</th>\n",
       "      <th>device_protection</th>\n",
       "      <th>tech_support</th>\n",
       "      <th>streaming_t_v</th>\n",
       "      <th>streaming_movies</th>\n",
       "      <th>multiple_lines</th>\n",
       "    </tr>\n",
       "  </thead>\n",
       "  <tbody>\n",
       "    <tr>\n",
       "      <th>0</th>\n",
       "      <td>7590-VHVEG</td>\n",
       "      <td>2020-01-01</td>\n",
       "      <td>No</td>\n",
       "      <td>Month-to-month</td>\n",
       "      <td>Yes</td>\n",
       "      <td>Electronic check</td>\n",
       "      <td>29.85</td>\n",
       "      <td>31.04</td>\n",
       "      <td>1</td>\n",
       "      <td>Female</td>\n",
       "      <td>...</td>\n",
       "      <td>Yes</td>\n",
       "      <td>No</td>\n",
       "      <td>DSL</td>\n",
       "      <td>No</td>\n",
       "      <td>Yes</td>\n",
       "      <td>No</td>\n",
       "      <td>No</td>\n",
       "      <td>No</td>\n",
       "      <td>No</td>\n",
       "      <td>NaN</td>\n",
       "    </tr>\n",
       "    <tr>\n",
       "      <th>1</th>\n",
       "      <td>5575-GNVDE</td>\n",
       "      <td>2017-04-01</td>\n",
       "      <td>No</td>\n",
       "      <td>One year</td>\n",
       "      <td>No</td>\n",
       "      <td>Mailed check</td>\n",
       "      <td>56.95</td>\n",
       "      <td>2071.84</td>\n",
       "      <td>1</td>\n",
       "      <td>Male</td>\n",
       "      <td>...</td>\n",
       "      <td>No</td>\n",
       "      <td>No</td>\n",
       "      <td>DSL</td>\n",
       "      <td>Yes</td>\n",
       "      <td>No</td>\n",
       "      <td>Yes</td>\n",
       "      <td>No</td>\n",
       "      <td>No</td>\n",
       "      <td>No</td>\n",
       "      <td>No</td>\n",
       "    </tr>\n",
       "  </tbody>\n",
       "</table>\n",
       "<p>2 rows × 21 columns</p>\n",
       "</div>"
      ],
      "text/plain": [
       "  customer_id  begin_date end_date            type paperless_billing  \\\n",
       "0  7590-VHVEG  2020-01-01       No  Month-to-month               Yes   \n",
       "1  5575-GNVDE  2017-04-01       No        One year                No   \n",
       "\n",
       "     payment_method  monthly_charges total_charges  target  gender  ...  \\\n",
       "0  Electronic check            29.85         31.04       1  Female  ...   \n",
       "1      Mailed check            56.95       2071.84       1    Male  ...   \n",
       "\n",
       "   partner dependents internet_service online_security online_backup  \\\n",
       "0      Yes         No              DSL              No           Yes   \n",
       "1       No         No              DSL             Yes            No   \n",
       "\n",
       "  device_protection tech_support streaming_t_v streaming_movies multiple_lines  \n",
       "0                No           No            No               No            NaN  \n",
       "1               Yes           No            No               No             No  \n",
       "\n",
       "[2 rows x 21 columns]"
      ]
     },
     "execution_count": 38,
     "metadata": {},
     "output_type": "execute_result"
    }
   ],
   "source": [
    "data.head(2)"
   ]
  },
  {
   "cell_type": "code",
   "execution_count": 39,
   "id": "74ad091a",
   "metadata": {},
   "outputs": [
    {
     "name": "stdout",
     "output_type": "stream",
     "text": [
      "<class 'pandas.core.frame.DataFrame'>\n",
      "Int64Index: 7043 entries, 0 to 7042\n",
      "Data columns (total 21 columns):\n",
      " #   Column             Non-Null Count  Dtype  \n",
      "---  ------             --------------  -----  \n",
      " 0   customer_id        7043 non-null   object \n",
      " 1   begin_date         7043 non-null   object \n",
      " 2   end_date           7043 non-null   object \n",
      " 3   type               7043 non-null   object \n",
      " 4   paperless_billing  7043 non-null   object \n",
      " 5   payment_method     7043 non-null   object \n",
      " 6   monthly_charges    7043 non-null   float64\n",
      " 7   total_charges      7043 non-null   object \n",
      " 8   target             7043 non-null   int64  \n",
      " 9   gender             7043 non-null   object \n",
      " 10  senior_citizen     7043 non-null   int64  \n",
      " 11  partner            7043 non-null   object \n",
      " 12  dependents         7043 non-null   object \n",
      " 13  internet_service   5517 non-null   object \n",
      " 14  online_security    5517 non-null   object \n",
      " 15  online_backup      5517 non-null   object \n",
      " 16  device_protection  5517 non-null   object \n",
      " 17  tech_support       5517 non-null   object \n",
      " 18  streaming_t_v      5517 non-null   object \n",
      " 19  streaming_movies   5517 non-null   object \n",
      " 20  multiple_lines     6361 non-null   object \n",
      "dtypes: float64(1), int64(2), object(18)\n",
      "memory usage: 1.2+ MB\n"
     ]
    }
   ],
   "source": [
    "data.info()"
   ]
  },
  {
   "cell_type": "code",
   "execution_count": 40,
   "id": "28893893",
   "metadata": {},
   "outputs": [
    {
     "data": {
      "text/plain": [
       "customer_id             0\n",
       "begin_date              0\n",
       "end_date                0\n",
       "type                    0\n",
       "paperless_billing       0\n",
       "payment_method          0\n",
       "monthly_charges         0\n",
       "total_charges           0\n",
       "target                  0\n",
       "gender                  0\n",
       "senior_citizen          0\n",
       "partner                 0\n",
       "dependents              0\n",
       "internet_service     1526\n",
       "online_security      1526\n",
       "online_backup        1526\n",
       "device_protection    1526\n",
       "tech_support         1526\n",
       "streaming_t_v        1526\n",
       "streaming_movies     1526\n",
       "multiple_lines        682\n",
       "dtype: int64"
      ]
     },
     "execution_count": 40,
     "metadata": {},
     "output_type": "execute_result"
    }
   ],
   "source": [
    "data.isnull().sum()"
   ]
  },
  {
   "cell_type": "code",
   "execution_count": 41,
   "id": "2e4691c1",
   "metadata": {},
   "outputs": [],
   "source": [
    "data['end_date'] = data['end_date'].replace('No', '2020-02-01')"
   ]
  },
  {
   "cell_type": "code",
   "execution_count": 42,
   "id": "9f5e2b73",
   "metadata": {},
   "outputs": [
    {
     "data": {
      "text/plain": [
       "2020-02-01    5942\n",
       "2020-01-01      39\n",
       "2019-12-01      38\n",
       "2018-11-01      35\n",
       "2019-09-01      32\n",
       "              ... \n",
       "2014-09-01       2\n",
       "2014-12-01       2\n",
       "2014-06-01       1\n",
       "2014-10-01       1\n",
       "2014-11-01       1\n",
       "Name: end_date, Length: 67, dtype: int64"
      ]
     },
     "execution_count": 42,
     "metadata": {},
     "output_type": "execute_result"
    }
   ],
   "source": [
    "data.end_date.value_counts()"
   ]
  },
  {
   "cell_type": "markdown",
   "id": "e6926e4b",
   "metadata": {},
   "source": [
    "Now, let's fill all the missing values in the \"internet\" and \"phone\" datasets with 'unknown'."
   ]
  },
  {
   "cell_type": "code",
   "execution_count": 43,
   "id": "ccc92dca",
   "metadata": {
    "scrolled": false
   },
   "outputs": [
    {
     "data": {
      "text/html": [
       "<div>\n",
       "<style scoped>\n",
       "    .dataframe tbody tr th:only-of-type {\n",
       "        vertical-align: middle;\n",
       "    }\n",
       "\n",
       "    .dataframe tbody tr th {\n",
       "        vertical-align: top;\n",
       "    }\n",
       "\n",
       "    .dataframe thead th {\n",
       "        text-align: right;\n",
       "    }\n",
       "</style>\n",
       "<table border=\"1\" class=\"dataframe\">\n",
       "  <thead>\n",
       "    <tr style=\"text-align: right;\">\n",
       "      <th></th>\n",
       "      <th>customer_id</th>\n",
       "      <th>begin_date</th>\n",
       "      <th>end_date</th>\n",
       "      <th>type</th>\n",
       "      <th>paperless_billing</th>\n",
       "      <th>payment_method</th>\n",
       "      <th>monthly_charges</th>\n",
       "      <th>total_charges</th>\n",
       "      <th>target</th>\n",
       "      <th>gender</th>\n",
       "      <th>...</th>\n",
       "      <th>partner</th>\n",
       "      <th>dependents</th>\n",
       "      <th>internet_service</th>\n",
       "      <th>online_security</th>\n",
       "      <th>online_backup</th>\n",
       "      <th>device_protection</th>\n",
       "      <th>tech_support</th>\n",
       "      <th>streaming_t_v</th>\n",
       "      <th>streaming_movies</th>\n",
       "      <th>multiple_lines</th>\n",
       "    </tr>\n",
       "  </thead>\n",
       "  <tbody>\n",
       "    <tr>\n",
       "      <th>0</th>\n",
       "      <td>7590-VHVEG</td>\n",
       "      <td>2020-01-01</td>\n",
       "      <td>2020-02-01</td>\n",
       "      <td>Month-to-month</td>\n",
       "      <td>Yes</td>\n",
       "      <td>Electronic check</td>\n",
       "      <td>29.85</td>\n",
       "      <td>31.04</td>\n",
       "      <td>1</td>\n",
       "      <td>Female</td>\n",
       "      <td>...</td>\n",
       "      <td>Yes</td>\n",
       "      <td>No</td>\n",
       "      <td>DSL</td>\n",
       "      <td>No</td>\n",
       "      <td>Yes</td>\n",
       "      <td>No</td>\n",
       "      <td>No</td>\n",
       "      <td>No</td>\n",
       "      <td>No</td>\n",
       "      <td>unknown</td>\n",
       "    </tr>\n",
       "    <tr>\n",
       "      <th>1</th>\n",
       "      <td>5575-GNVDE</td>\n",
       "      <td>2017-04-01</td>\n",
       "      <td>2020-02-01</td>\n",
       "      <td>One year</td>\n",
       "      <td>No</td>\n",
       "      <td>Mailed check</td>\n",
       "      <td>56.95</td>\n",
       "      <td>2071.84</td>\n",
       "      <td>1</td>\n",
       "      <td>Male</td>\n",
       "      <td>...</td>\n",
       "      <td>No</td>\n",
       "      <td>No</td>\n",
       "      <td>DSL</td>\n",
       "      <td>Yes</td>\n",
       "      <td>No</td>\n",
       "      <td>Yes</td>\n",
       "      <td>No</td>\n",
       "      <td>No</td>\n",
       "      <td>No</td>\n",
       "      <td>No</td>\n",
       "    </tr>\n",
       "    <tr>\n",
       "      <th>2</th>\n",
       "      <td>3668-QPYBK</td>\n",
       "      <td>2019-10-01</td>\n",
       "      <td>2020-02-01</td>\n",
       "      <td>Month-to-month</td>\n",
       "      <td>Yes</td>\n",
       "      <td>Mailed check</td>\n",
       "      <td>53.85</td>\n",
       "      <td>226.17</td>\n",
       "      <td>1</td>\n",
       "      <td>Male</td>\n",
       "      <td>...</td>\n",
       "      <td>No</td>\n",
       "      <td>No</td>\n",
       "      <td>DSL</td>\n",
       "      <td>Yes</td>\n",
       "      <td>Yes</td>\n",
       "      <td>No</td>\n",
       "      <td>No</td>\n",
       "      <td>No</td>\n",
       "      <td>No</td>\n",
       "      <td>No</td>\n",
       "    </tr>\n",
       "  </tbody>\n",
       "</table>\n",
       "<p>3 rows × 21 columns</p>\n",
       "</div>"
      ],
      "text/plain": [
       "  customer_id  begin_date    end_date            type paperless_billing  \\\n",
       "0  7590-VHVEG  2020-01-01  2020-02-01  Month-to-month               Yes   \n",
       "1  5575-GNVDE  2017-04-01  2020-02-01        One year                No   \n",
       "2  3668-QPYBK  2019-10-01  2020-02-01  Month-to-month               Yes   \n",
       "\n",
       "     payment_method  monthly_charges total_charges  target  gender  ...  \\\n",
       "0  Electronic check            29.85         31.04       1  Female  ...   \n",
       "1      Mailed check            56.95       2071.84       1    Male  ...   \n",
       "2      Mailed check            53.85        226.17       1    Male  ...   \n",
       "\n",
       "   partner dependents internet_service online_security online_backup  \\\n",
       "0      Yes         No              DSL              No           Yes   \n",
       "1       No         No              DSL             Yes            No   \n",
       "2       No         No              DSL             Yes           Yes   \n",
       "\n",
       "  device_protection tech_support streaming_t_v streaming_movies multiple_lines  \n",
       "0                No           No            No               No        unknown  \n",
       "1               Yes           No            No               No             No  \n",
       "2                No           No            No               No             No  \n",
       "\n",
       "[3 rows x 21 columns]"
      ]
     },
     "execution_count": 43,
     "metadata": {},
     "output_type": "execute_result"
    }
   ],
   "source": [
    "data = data.fillna('unknown')\n",
    "data.head(3)"
   ]
  },
  {
   "cell_type": "code",
   "execution_count": 44,
   "id": "b07e329e",
   "metadata": {
    "scrolled": false
   },
   "outputs": [
    {
     "name": "stdout",
     "output_type": "stream",
     "text": [
      "<class 'pandas.core.frame.DataFrame'>\n",
      "Int64Index: 7043 entries, 0 to 7042\n",
      "Data columns (total 21 columns):\n",
      " #   Column             Non-Null Count  Dtype  \n",
      "---  ------             --------------  -----  \n",
      " 0   customer_id        7043 non-null   object \n",
      " 1   begin_date         7043 non-null   object \n",
      " 2   end_date           7043 non-null   object \n",
      " 3   type               7043 non-null   object \n",
      " 4   paperless_billing  7043 non-null   object \n",
      " 5   payment_method     7043 non-null   object \n",
      " 6   monthly_charges    7043 non-null   float64\n",
      " 7   total_charges      7043 non-null   object \n",
      " 8   target             7043 non-null   int64  \n",
      " 9   gender             7043 non-null   object \n",
      " 10  senior_citizen     7043 non-null   int64  \n",
      " 11  partner            7043 non-null   object \n",
      " 12  dependents         7043 non-null   object \n",
      " 13  internet_service   7043 non-null   object \n",
      " 14  online_security    7043 non-null   object \n",
      " 15  online_backup      7043 non-null   object \n",
      " 16  device_protection  7043 non-null   object \n",
      " 17  tech_support       7043 non-null   object \n",
      " 18  streaming_t_v      7043 non-null   object \n",
      " 19  streaming_movies   7043 non-null   object \n",
      " 20  multiple_lines     7043 non-null   object \n",
      "dtypes: float64(1), int64(2), object(18)\n",
      "memory usage: 1.2+ MB\n"
     ]
    }
   ],
   "source": [
    "data.info()"
   ]
  },
  {
   "cell_type": "markdown",
   "id": "adbaf078",
   "metadata": {},
   "source": [
    "Now, let's take a look at the \"TotalCharges\" column and understand why it's of type object."
   ]
  },
  {
   "cell_type": "code",
   "execution_count": 45,
   "id": "c3f20774",
   "metadata": {},
   "outputs": [
    {
     "data": {
      "text/plain": [
       "           11\n",
       "20.45       6\n",
       "101.0       5\n",
       "21.53       4\n",
       "40.1        4\n",
       "           ..\n",
       "4357.5      1\n",
       "3509.55     1\n",
       "2530.8      1\n",
       "2599.1      1\n",
       "7251.82     1\n",
       "Name: total_charges, Length: 6658, dtype: int64"
      ]
     },
     "execution_count": 45,
     "metadata": {},
     "output_type": "execute_result"
    }
   ],
   "source": [
    "data.total_charges.value_counts()"
   ]
  },
  {
   "cell_type": "code",
   "execution_count": 46,
   "id": "5bedda6a",
   "metadata": {},
   "outputs": [
    {
     "data": {
      "text/html": [
       "<div>\n",
       "<style scoped>\n",
       "    .dataframe tbody tr th:only-of-type {\n",
       "        vertical-align: middle;\n",
       "    }\n",
       "\n",
       "    .dataframe tbody tr th {\n",
       "        vertical-align: top;\n",
       "    }\n",
       "\n",
       "    .dataframe thead th {\n",
       "        text-align: right;\n",
       "    }\n",
       "</style>\n",
       "<table border=\"1\" class=\"dataframe\">\n",
       "  <thead>\n",
       "    <tr style=\"text-align: right;\">\n",
       "      <th></th>\n",
       "      <th>customer_id</th>\n",
       "      <th>begin_date</th>\n",
       "      <th>end_date</th>\n",
       "      <th>type</th>\n",
       "      <th>paperless_billing</th>\n",
       "      <th>payment_method</th>\n",
       "      <th>monthly_charges</th>\n",
       "      <th>total_charges</th>\n",
       "      <th>target</th>\n",
       "      <th>gender</th>\n",
       "      <th>...</th>\n",
       "      <th>partner</th>\n",
       "      <th>dependents</th>\n",
       "      <th>internet_service</th>\n",
       "      <th>online_security</th>\n",
       "      <th>online_backup</th>\n",
       "      <th>device_protection</th>\n",
       "      <th>tech_support</th>\n",
       "      <th>streaming_t_v</th>\n",
       "      <th>streaming_movies</th>\n",
       "      <th>multiple_lines</th>\n",
       "    </tr>\n",
       "  </thead>\n",
       "  <tbody>\n",
       "    <tr>\n",
       "      <th>488</th>\n",
       "      <td>4472-LVYGI</td>\n",
       "      <td>2020-02-01</td>\n",
       "      <td>2020-02-01</td>\n",
       "      <td>Two year</td>\n",
       "      <td>Yes</td>\n",
       "      <td>Bank transfer (automatic)</td>\n",
       "      <td>52.55</td>\n",
       "      <td></td>\n",
       "      <td>1</td>\n",
       "      <td>Female</td>\n",
       "      <td>...</td>\n",
       "      <td>Yes</td>\n",
       "      <td>Yes</td>\n",
       "      <td>DSL</td>\n",
       "      <td>Yes</td>\n",
       "      <td>No</td>\n",
       "      <td>Yes</td>\n",
       "      <td>Yes</td>\n",
       "      <td>Yes</td>\n",
       "      <td>No</td>\n",
       "      <td>unknown</td>\n",
       "    </tr>\n",
       "    <tr>\n",
       "      <th>753</th>\n",
       "      <td>3115-CZMZD</td>\n",
       "      <td>2020-02-01</td>\n",
       "      <td>2020-02-01</td>\n",
       "      <td>Two year</td>\n",
       "      <td>No</td>\n",
       "      <td>Mailed check</td>\n",
       "      <td>20.25</td>\n",
       "      <td></td>\n",
       "      <td>1</td>\n",
       "      <td>Male</td>\n",
       "      <td>...</td>\n",
       "      <td>No</td>\n",
       "      <td>Yes</td>\n",
       "      <td>unknown</td>\n",
       "      <td>unknown</td>\n",
       "      <td>unknown</td>\n",
       "      <td>unknown</td>\n",
       "      <td>unknown</td>\n",
       "      <td>unknown</td>\n",
       "      <td>unknown</td>\n",
       "      <td>No</td>\n",
       "    </tr>\n",
       "    <tr>\n",
       "      <th>936</th>\n",
       "      <td>5709-LVOEQ</td>\n",
       "      <td>2020-02-01</td>\n",
       "      <td>2020-02-01</td>\n",
       "      <td>Two year</td>\n",
       "      <td>No</td>\n",
       "      <td>Mailed check</td>\n",
       "      <td>80.85</td>\n",
       "      <td></td>\n",
       "      <td>1</td>\n",
       "      <td>Female</td>\n",
       "      <td>...</td>\n",
       "      <td>Yes</td>\n",
       "      <td>Yes</td>\n",
       "      <td>DSL</td>\n",
       "      <td>Yes</td>\n",
       "      <td>Yes</td>\n",
       "      <td>Yes</td>\n",
       "      <td>No</td>\n",
       "      <td>Yes</td>\n",
       "      <td>Yes</td>\n",
       "      <td>No</td>\n",
       "    </tr>\n",
       "    <tr>\n",
       "      <th>1082</th>\n",
       "      <td>4367-NUYAO</td>\n",
       "      <td>2020-02-01</td>\n",
       "      <td>2020-02-01</td>\n",
       "      <td>Two year</td>\n",
       "      <td>No</td>\n",
       "      <td>Mailed check</td>\n",
       "      <td>25.75</td>\n",
       "      <td></td>\n",
       "      <td>1</td>\n",
       "      <td>Male</td>\n",
       "      <td>...</td>\n",
       "      <td>Yes</td>\n",
       "      <td>Yes</td>\n",
       "      <td>unknown</td>\n",
       "      <td>unknown</td>\n",
       "      <td>unknown</td>\n",
       "      <td>unknown</td>\n",
       "      <td>unknown</td>\n",
       "      <td>unknown</td>\n",
       "      <td>unknown</td>\n",
       "      <td>Yes</td>\n",
       "    </tr>\n",
       "    <tr>\n",
       "      <th>1340</th>\n",
       "      <td>1371-DWPAZ</td>\n",
       "      <td>2020-02-01</td>\n",
       "      <td>2020-02-01</td>\n",
       "      <td>Two year</td>\n",
       "      <td>No</td>\n",
       "      <td>Credit card (automatic)</td>\n",
       "      <td>56.05</td>\n",
       "      <td></td>\n",
       "      <td>1</td>\n",
       "      <td>Female</td>\n",
       "      <td>...</td>\n",
       "      <td>Yes</td>\n",
       "      <td>Yes</td>\n",
       "      <td>DSL</td>\n",
       "      <td>Yes</td>\n",
       "      <td>Yes</td>\n",
       "      <td>Yes</td>\n",
       "      <td>Yes</td>\n",
       "      <td>Yes</td>\n",
       "      <td>No</td>\n",
       "      <td>unknown</td>\n",
       "    </tr>\n",
       "    <tr>\n",
       "      <th>3331</th>\n",
       "      <td>7644-OMVMY</td>\n",
       "      <td>2020-02-01</td>\n",
       "      <td>2020-02-01</td>\n",
       "      <td>Two year</td>\n",
       "      <td>No</td>\n",
       "      <td>Mailed check</td>\n",
       "      <td>19.85</td>\n",
       "      <td></td>\n",
       "      <td>1</td>\n",
       "      <td>Male</td>\n",
       "      <td>...</td>\n",
       "      <td>Yes</td>\n",
       "      <td>Yes</td>\n",
       "      <td>unknown</td>\n",
       "      <td>unknown</td>\n",
       "      <td>unknown</td>\n",
       "      <td>unknown</td>\n",
       "      <td>unknown</td>\n",
       "      <td>unknown</td>\n",
       "      <td>unknown</td>\n",
       "      <td>No</td>\n",
       "    </tr>\n",
       "    <tr>\n",
       "      <th>3826</th>\n",
       "      <td>3213-VVOLG</td>\n",
       "      <td>2020-02-01</td>\n",
       "      <td>2020-02-01</td>\n",
       "      <td>Two year</td>\n",
       "      <td>No</td>\n",
       "      <td>Mailed check</td>\n",
       "      <td>25.35</td>\n",
       "      <td></td>\n",
       "      <td>1</td>\n",
       "      <td>Male</td>\n",
       "      <td>...</td>\n",
       "      <td>Yes</td>\n",
       "      <td>Yes</td>\n",
       "      <td>unknown</td>\n",
       "      <td>unknown</td>\n",
       "      <td>unknown</td>\n",
       "      <td>unknown</td>\n",
       "      <td>unknown</td>\n",
       "      <td>unknown</td>\n",
       "      <td>unknown</td>\n",
       "      <td>Yes</td>\n",
       "    </tr>\n",
       "    <tr>\n",
       "      <th>4380</th>\n",
       "      <td>2520-SGTTA</td>\n",
       "      <td>2020-02-01</td>\n",
       "      <td>2020-02-01</td>\n",
       "      <td>Two year</td>\n",
       "      <td>No</td>\n",
       "      <td>Mailed check</td>\n",
       "      <td>20.00</td>\n",
       "      <td></td>\n",
       "      <td>1</td>\n",
       "      <td>Female</td>\n",
       "      <td>...</td>\n",
       "      <td>Yes</td>\n",
       "      <td>Yes</td>\n",
       "      <td>unknown</td>\n",
       "      <td>unknown</td>\n",
       "      <td>unknown</td>\n",
       "      <td>unknown</td>\n",
       "      <td>unknown</td>\n",
       "      <td>unknown</td>\n",
       "      <td>unknown</td>\n",
       "      <td>No</td>\n",
       "    </tr>\n",
       "    <tr>\n",
       "      <th>5218</th>\n",
       "      <td>2923-ARZLG</td>\n",
       "      <td>2020-02-01</td>\n",
       "      <td>2020-02-01</td>\n",
       "      <td>One year</td>\n",
       "      <td>Yes</td>\n",
       "      <td>Mailed check</td>\n",
       "      <td>19.70</td>\n",
       "      <td></td>\n",
       "      <td>1</td>\n",
       "      <td>Male</td>\n",
       "      <td>...</td>\n",
       "      <td>Yes</td>\n",
       "      <td>Yes</td>\n",
       "      <td>unknown</td>\n",
       "      <td>unknown</td>\n",
       "      <td>unknown</td>\n",
       "      <td>unknown</td>\n",
       "      <td>unknown</td>\n",
       "      <td>unknown</td>\n",
       "      <td>unknown</td>\n",
       "      <td>No</td>\n",
       "    </tr>\n",
       "    <tr>\n",
       "      <th>6670</th>\n",
       "      <td>4075-WKNIU</td>\n",
       "      <td>2020-02-01</td>\n",
       "      <td>2020-02-01</td>\n",
       "      <td>Two year</td>\n",
       "      <td>No</td>\n",
       "      <td>Mailed check</td>\n",
       "      <td>73.35</td>\n",
       "      <td></td>\n",
       "      <td>1</td>\n",
       "      <td>Female</td>\n",
       "      <td>...</td>\n",
       "      <td>Yes</td>\n",
       "      <td>Yes</td>\n",
       "      <td>DSL</td>\n",
       "      <td>No</td>\n",
       "      <td>Yes</td>\n",
       "      <td>Yes</td>\n",
       "      <td>Yes</td>\n",
       "      <td>Yes</td>\n",
       "      <td>No</td>\n",
       "      <td>Yes</td>\n",
       "    </tr>\n",
       "    <tr>\n",
       "      <th>6754</th>\n",
       "      <td>2775-SEFEE</td>\n",
       "      <td>2020-02-01</td>\n",
       "      <td>2020-02-01</td>\n",
       "      <td>Two year</td>\n",
       "      <td>Yes</td>\n",
       "      <td>Bank transfer (automatic)</td>\n",
       "      <td>61.90</td>\n",
       "      <td></td>\n",
       "      <td>1</td>\n",
       "      <td>Male</td>\n",
       "      <td>...</td>\n",
       "      <td>No</td>\n",
       "      <td>Yes</td>\n",
       "      <td>DSL</td>\n",
       "      <td>Yes</td>\n",
       "      <td>Yes</td>\n",
       "      <td>No</td>\n",
       "      <td>Yes</td>\n",
       "      <td>No</td>\n",
       "      <td>No</td>\n",
       "      <td>Yes</td>\n",
       "    </tr>\n",
       "  </tbody>\n",
       "</table>\n",
       "<p>11 rows × 21 columns</p>\n",
       "</div>"
      ],
      "text/plain": [
       "     customer_id  begin_date    end_date      type paperless_billing  \\\n",
       "488   4472-LVYGI  2020-02-01  2020-02-01  Two year               Yes   \n",
       "753   3115-CZMZD  2020-02-01  2020-02-01  Two year                No   \n",
       "936   5709-LVOEQ  2020-02-01  2020-02-01  Two year                No   \n",
       "1082  4367-NUYAO  2020-02-01  2020-02-01  Two year                No   \n",
       "1340  1371-DWPAZ  2020-02-01  2020-02-01  Two year                No   \n",
       "3331  7644-OMVMY  2020-02-01  2020-02-01  Two year                No   \n",
       "3826  3213-VVOLG  2020-02-01  2020-02-01  Two year                No   \n",
       "4380  2520-SGTTA  2020-02-01  2020-02-01  Two year                No   \n",
       "5218  2923-ARZLG  2020-02-01  2020-02-01  One year               Yes   \n",
       "6670  4075-WKNIU  2020-02-01  2020-02-01  Two year                No   \n",
       "6754  2775-SEFEE  2020-02-01  2020-02-01  Two year               Yes   \n",
       "\n",
       "                 payment_method  monthly_charges total_charges  target  \\\n",
       "488   Bank transfer (automatic)            52.55                     1   \n",
       "753                Mailed check            20.25                     1   \n",
       "936                Mailed check            80.85                     1   \n",
       "1082               Mailed check            25.75                     1   \n",
       "1340    Credit card (automatic)            56.05                     1   \n",
       "3331               Mailed check            19.85                     1   \n",
       "3826               Mailed check            25.35                     1   \n",
       "4380               Mailed check            20.00                     1   \n",
       "5218               Mailed check            19.70                     1   \n",
       "6670               Mailed check            73.35                     1   \n",
       "6754  Bank transfer (automatic)            61.90                     1   \n",
       "\n",
       "      gender  ...  partner dependents internet_service online_security  \\\n",
       "488   Female  ...      Yes        Yes              DSL             Yes   \n",
       "753     Male  ...       No        Yes          unknown         unknown   \n",
       "936   Female  ...      Yes        Yes              DSL             Yes   \n",
       "1082    Male  ...      Yes        Yes          unknown         unknown   \n",
       "1340  Female  ...      Yes        Yes              DSL             Yes   \n",
       "3331    Male  ...      Yes        Yes          unknown         unknown   \n",
       "3826    Male  ...      Yes        Yes          unknown         unknown   \n",
       "4380  Female  ...      Yes        Yes          unknown         unknown   \n",
       "5218    Male  ...      Yes        Yes          unknown         unknown   \n",
       "6670  Female  ...      Yes        Yes              DSL              No   \n",
       "6754    Male  ...       No        Yes              DSL             Yes   \n",
       "\n",
       "     online_backup device_protection tech_support streaming_t_v  \\\n",
       "488             No               Yes          Yes           Yes   \n",
       "753        unknown           unknown      unknown       unknown   \n",
       "936            Yes               Yes           No           Yes   \n",
       "1082       unknown           unknown      unknown       unknown   \n",
       "1340           Yes               Yes          Yes           Yes   \n",
       "3331       unknown           unknown      unknown       unknown   \n",
       "3826       unknown           unknown      unknown       unknown   \n",
       "4380       unknown           unknown      unknown       unknown   \n",
       "5218       unknown           unknown      unknown       unknown   \n",
       "6670           Yes               Yes          Yes           Yes   \n",
       "6754           Yes                No          Yes            No   \n",
       "\n",
       "     streaming_movies multiple_lines  \n",
       "488                No        unknown  \n",
       "753           unknown             No  \n",
       "936               Yes             No  \n",
       "1082          unknown            Yes  \n",
       "1340               No        unknown  \n",
       "3331          unknown             No  \n",
       "3826          unknown            Yes  \n",
       "4380          unknown             No  \n",
       "5218          unknown             No  \n",
       "6670               No            Yes  \n",
       "6754               No            Yes  \n",
       "\n",
       "[11 rows x 21 columns]"
      ]
     },
     "execution_count": 46,
     "metadata": {},
     "output_type": "execute_result"
    }
   ],
   "source": [
    "data[data.total_charges == ' ']"
   ]
  },
  {
   "cell_type": "markdown",
   "id": "7c98e499",
   "metadata": {},
   "source": [
    "Understood. These are subscribers who joined on the same day the contract data was extracted, which is 2020-02-01, and they haven't made any payments yet. So, let's replace the spaces with zero."
   ]
  },
  {
   "cell_type": "code",
   "execution_count": 47,
   "id": "bbcf4982",
   "metadata": {},
   "outputs": [],
   "source": [
    "data['total_charges'] = data['total_charges'].replace(' ', '0')\n",
    "data['total_charges'] = data['total_charges'].astype('float')"
   ]
  },
  {
   "cell_type": "code",
   "execution_count": 48,
   "id": "1c0dd2d5",
   "metadata": {},
   "outputs": [
    {
     "data": {
      "text/plain": [
       "0.00       11\n",
       "20.45       6\n",
       "101.00      5\n",
       "21.53       4\n",
       "40.10       4\n",
       "           ..\n",
       "4357.50     1\n",
       "3509.55     1\n",
       "2530.80     1\n",
       "2599.10     1\n",
       "7251.82     1\n",
       "Name: total_charges, Length: 6658, dtype: int64"
      ]
     },
     "execution_count": 48,
     "metadata": {},
     "output_type": "execute_result"
    }
   ],
   "source": [
    "data.total_charges.value_counts()"
   ]
  },
  {
   "cell_type": "code",
   "execution_count": 49,
   "id": "5821fe43",
   "metadata": {},
   "outputs": [
    {
     "name": "stdout",
     "output_type": "stream",
     "text": [
      "<class 'pandas.core.frame.DataFrame'>\n",
      "Int64Index: 7043 entries, 0 to 7042\n",
      "Data columns (total 21 columns):\n",
      " #   Column             Non-Null Count  Dtype  \n",
      "---  ------             --------------  -----  \n",
      " 0   customer_id        7043 non-null   object \n",
      " 1   begin_date         7043 non-null   object \n",
      " 2   end_date           7043 non-null   object \n",
      " 3   type               7043 non-null   object \n",
      " 4   paperless_billing  7043 non-null   object \n",
      " 5   payment_method     7043 non-null   object \n",
      " 6   monthly_charges    7043 non-null   float64\n",
      " 7   total_charges      7043 non-null   float64\n",
      " 8   target             7043 non-null   int64  \n",
      " 9   gender             7043 non-null   object \n",
      " 10  senior_citizen     7043 non-null   int64  \n",
      " 11  partner            7043 non-null   object \n",
      " 12  dependents         7043 non-null   object \n",
      " 13  internet_service   7043 non-null   object \n",
      " 14  online_security    7043 non-null   object \n",
      " 15  online_backup      7043 non-null   object \n",
      " 16  device_protection  7043 non-null   object \n",
      " 17  tech_support       7043 non-null   object \n",
      " 18  streaming_t_v      7043 non-null   object \n",
      " 19  streaming_movies   7043 non-null   object \n",
      " 20  multiple_lines     7043 non-null   object \n",
      "dtypes: float64(2), int64(2), object(17)\n",
      "memory usage: 1.2+ MB\n"
     ]
    }
   ],
   "source": [
    "data.info()"
   ]
  },
  {
   "cell_type": "code",
   "execution_count": 50,
   "id": "581d7786",
   "metadata": {},
   "outputs": [
    {
     "data": {
      "text/html": [
       "<div>\n",
       "<style scoped>\n",
       "    .dataframe tbody tr th:only-of-type {\n",
       "        vertical-align: middle;\n",
       "    }\n",
       "\n",
       "    .dataframe tbody tr th {\n",
       "        vertical-align: top;\n",
       "    }\n",
       "\n",
       "    .dataframe thead th {\n",
       "        text-align: right;\n",
       "    }\n",
       "</style>\n",
       "<table border=\"1\" class=\"dataframe\">\n",
       "  <thead>\n",
       "    <tr style=\"text-align: right;\">\n",
       "      <th></th>\n",
       "      <th>customer_id</th>\n",
       "      <th>begin_date</th>\n",
       "      <th>end_date</th>\n",
       "      <th>type</th>\n",
       "      <th>paperless_billing</th>\n",
       "      <th>payment_method</th>\n",
       "      <th>monthly_charges</th>\n",
       "      <th>total_charges</th>\n",
       "      <th>target</th>\n",
       "      <th>gender</th>\n",
       "      <th>...</th>\n",
       "      <th>partner</th>\n",
       "      <th>dependents</th>\n",
       "      <th>internet_service</th>\n",
       "      <th>online_security</th>\n",
       "      <th>online_backup</th>\n",
       "      <th>device_protection</th>\n",
       "      <th>tech_support</th>\n",
       "      <th>streaming_t_v</th>\n",
       "      <th>streaming_movies</th>\n",
       "      <th>multiple_lines</th>\n",
       "    </tr>\n",
       "  </thead>\n",
       "  <tbody>\n",
       "    <tr>\n",
       "      <th>0</th>\n",
       "      <td>7590-VHVEG</td>\n",
       "      <td>2020-01-01</td>\n",
       "      <td>2020-02-01</td>\n",
       "      <td>Month-to-month</td>\n",
       "      <td>Yes</td>\n",
       "      <td>Electronic check</td>\n",
       "      <td>29.85</td>\n",
       "      <td>31.04</td>\n",
       "      <td>1</td>\n",
       "      <td>Female</td>\n",
       "      <td>...</td>\n",
       "      <td>Yes</td>\n",
       "      <td>No</td>\n",
       "      <td>DSL</td>\n",
       "      <td>No</td>\n",
       "      <td>Yes</td>\n",
       "      <td>No</td>\n",
       "      <td>No</td>\n",
       "      <td>No</td>\n",
       "      <td>No</td>\n",
       "      <td>unknown</td>\n",
       "    </tr>\n",
       "    <tr>\n",
       "      <th>1</th>\n",
       "      <td>5575-GNVDE</td>\n",
       "      <td>2017-04-01</td>\n",
       "      <td>2020-02-01</td>\n",
       "      <td>One year</td>\n",
       "      <td>No</td>\n",
       "      <td>Mailed check</td>\n",
       "      <td>56.95</td>\n",
       "      <td>2071.84</td>\n",
       "      <td>1</td>\n",
       "      <td>Male</td>\n",
       "      <td>...</td>\n",
       "      <td>No</td>\n",
       "      <td>No</td>\n",
       "      <td>DSL</td>\n",
       "      <td>Yes</td>\n",
       "      <td>No</td>\n",
       "      <td>Yes</td>\n",
       "      <td>No</td>\n",
       "      <td>No</td>\n",
       "      <td>No</td>\n",
       "      <td>No</td>\n",
       "    </tr>\n",
       "  </tbody>\n",
       "</table>\n",
       "<p>2 rows × 21 columns</p>\n",
       "</div>"
      ],
      "text/plain": [
       "  customer_id  begin_date    end_date            type paperless_billing  \\\n",
       "0  7590-VHVEG  2020-01-01  2020-02-01  Month-to-month               Yes   \n",
       "1  5575-GNVDE  2017-04-01  2020-02-01        One year                No   \n",
       "\n",
       "     payment_method  monthly_charges  total_charges  target  gender  ...  \\\n",
       "0  Electronic check            29.85          31.04       1  Female  ...   \n",
       "1      Mailed check            56.95        2071.84       1    Male  ...   \n",
       "\n",
       "   partner dependents internet_service online_security online_backup  \\\n",
       "0      Yes         No              DSL              No           Yes   \n",
       "1       No         No              DSL             Yes            No   \n",
       "\n",
       "  device_protection tech_support streaming_t_v streaming_movies multiple_lines  \n",
       "0                No           No            No               No        unknown  \n",
       "1               Yes           No            No               No             No  \n",
       "\n",
       "[2 rows x 21 columns]"
      ]
     },
     "execution_count": 50,
     "metadata": {},
     "output_type": "execute_result"
    }
   ],
   "source": [
    "data.head(2)"
   ]
  },
  {
   "cell_type": "markdown",
   "id": "6ca0c5f6",
   "metadata": {},
   "source": [
    "And finally, let's add a new feature - \"customer lifetime.\" Also, we will remove the \"begin_date\" and \"end_date\" columns, as they could lead to data leakage during training."
   ]
  },
  {
   "cell_type": "code",
   "execution_count": 51,
   "id": "8faadf74",
   "metadata": {},
   "outputs": [],
   "source": [
    "data.end_date = data.end_date.astype('datetime64')\n",
    "data.begin_date = data.begin_date.astype('datetime64')"
   ]
  },
  {
   "cell_type": "code",
   "execution_count": 52,
   "id": "a88c7f24",
   "metadata": {},
   "outputs": [],
   "source": [
    "data['abonents_days'] = data.end_date - data.begin_date"
   ]
  },
  {
   "cell_type": "code",
   "execution_count": 53,
   "id": "b9883881",
   "metadata": {
    "scrolled": true
   },
   "outputs": [
    {
     "data": {
      "text/html": [
       "<div>\n",
       "<style scoped>\n",
       "    .dataframe tbody tr th:only-of-type {\n",
       "        vertical-align: middle;\n",
       "    }\n",
       "\n",
       "    .dataframe tbody tr th {\n",
       "        vertical-align: top;\n",
       "    }\n",
       "\n",
       "    .dataframe thead th {\n",
       "        text-align: right;\n",
       "    }\n",
       "</style>\n",
       "<table border=\"1\" class=\"dataframe\">\n",
       "  <thead>\n",
       "    <tr style=\"text-align: right;\">\n",
       "      <th></th>\n",
       "      <th>customer_id</th>\n",
       "      <th>begin_date</th>\n",
       "      <th>end_date</th>\n",
       "      <th>type</th>\n",
       "      <th>paperless_billing</th>\n",
       "      <th>payment_method</th>\n",
       "      <th>monthly_charges</th>\n",
       "      <th>total_charges</th>\n",
       "      <th>target</th>\n",
       "      <th>gender</th>\n",
       "      <th>...</th>\n",
       "      <th>dependents</th>\n",
       "      <th>internet_service</th>\n",
       "      <th>online_security</th>\n",
       "      <th>online_backup</th>\n",
       "      <th>device_protection</th>\n",
       "      <th>tech_support</th>\n",
       "      <th>streaming_t_v</th>\n",
       "      <th>streaming_movies</th>\n",
       "      <th>multiple_lines</th>\n",
       "      <th>abonents_days</th>\n",
       "    </tr>\n",
       "  </thead>\n",
       "  <tbody>\n",
       "    <tr>\n",
       "      <th>0</th>\n",
       "      <td>7590-VHVEG</td>\n",
       "      <td>2020-01-01</td>\n",
       "      <td>2020-02-01</td>\n",
       "      <td>Month-to-month</td>\n",
       "      <td>Yes</td>\n",
       "      <td>Electronic check</td>\n",
       "      <td>29.85</td>\n",
       "      <td>31.04</td>\n",
       "      <td>1</td>\n",
       "      <td>Female</td>\n",
       "      <td>...</td>\n",
       "      <td>No</td>\n",
       "      <td>DSL</td>\n",
       "      <td>No</td>\n",
       "      <td>Yes</td>\n",
       "      <td>No</td>\n",
       "      <td>No</td>\n",
       "      <td>No</td>\n",
       "      <td>No</td>\n",
       "      <td>unknown</td>\n",
       "      <td>31 days</td>\n",
       "    </tr>\n",
       "    <tr>\n",
       "      <th>1</th>\n",
       "      <td>5575-GNVDE</td>\n",
       "      <td>2017-04-01</td>\n",
       "      <td>2020-02-01</td>\n",
       "      <td>One year</td>\n",
       "      <td>No</td>\n",
       "      <td>Mailed check</td>\n",
       "      <td>56.95</td>\n",
       "      <td>2071.84</td>\n",
       "      <td>1</td>\n",
       "      <td>Male</td>\n",
       "      <td>...</td>\n",
       "      <td>No</td>\n",
       "      <td>DSL</td>\n",
       "      <td>Yes</td>\n",
       "      <td>No</td>\n",
       "      <td>Yes</td>\n",
       "      <td>No</td>\n",
       "      <td>No</td>\n",
       "      <td>No</td>\n",
       "      <td>No</td>\n",
       "      <td>1036 days</td>\n",
       "    </tr>\n",
       "  </tbody>\n",
       "</table>\n",
       "<p>2 rows × 22 columns</p>\n",
       "</div>"
      ],
      "text/plain": [
       "  customer_id begin_date   end_date            type paperless_billing  \\\n",
       "0  7590-VHVEG 2020-01-01 2020-02-01  Month-to-month               Yes   \n",
       "1  5575-GNVDE 2017-04-01 2020-02-01        One year                No   \n",
       "\n",
       "     payment_method  monthly_charges  total_charges  target  gender  ...  \\\n",
       "0  Electronic check            29.85          31.04       1  Female  ...   \n",
       "1      Mailed check            56.95        2071.84       1    Male  ...   \n",
       "\n",
       "   dependents internet_service online_security online_backup  \\\n",
       "0          No              DSL              No           Yes   \n",
       "1          No              DSL             Yes            No   \n",
       "\n",
       "  device_protection tech_support streaming_t_v streaming_movies  \\\n",
       "0                No           No            No               No   \n",
       "1               Yes           No            No               No   \n",
       "\n",
       "  multiple_lines abonents_days  \n",
       "0        unknown       31 days  \n",
       "1             No     1036 days  \n",
       "\n",
       "[2 rows x 22 columns]"
      ]
     },
     "execution_count": 53,
     "metadata": {},
     "output_type": "execute_result"
    }
   ],
   "source": [
    "data.head(2)"
   ]
  },
  {
   "cell_type": "code",
   "execution_count": 54,
   "id": "c4b58947",
   "metadata": {},
   "outputs": [],
   "source": [
    "data['abonents_days'] = data['abonents_days'].dt.days"
   ]
  },
  {
   "cell_type": "code",
   "execution_count": 55,
   "id": "d3bb5c1f",
   "metadata": {},
   "outputs": [],
   "source": [
    "data = data.drop(['begin_date', 'end_date'], axis=1)"
   ]
  },
  {
   "cell_type": "code",
   "execution_count": 56,
   "id": "4e0c116c",
   "metadata": {},
   "outputs": [
    {
     "data": {
      "text/html": [
       "<div>\n",
       "<style scoped>\n",
       "    .dataframe tbody tr th:only-of-type {\n",
       "        vertical-align: middle;\n",
       "    }\n",
       "\n",
       "    .dataframe tbody tr th {\n",
       "        vertical-align: top;\n",
       "    }\n",
       "\n",
       "    .dataframe thead th {\n",
       "        text-align: right;\n",
       "    }\n",
       "</style>\n",
       "<table border=\"1\" class=\"dataframe\">\n",
       "  <thead>\n",
       "    <tr style=\"text-align: right;\">\n",
       "      <th></th>\n",
       "      <th>customer_id</th>\n",
       "      <th>type</th>\n",
       "      <th>paperless_billing</th>\n",
       "      <th>payment_method</th>\n",
       "      <th>monthly_charges</th>\n",
       "      <th>total_charges</th>\n",
       "      <th>target</th>\n",
       "      <th>gender</th>\n",
       "      <th>senior_citizen</th>\n",
       "      <th>partner</th>\n",
       "      <th>dependents</th>\n",
       "      <th>internet_service</th>\n",
       "      <th>online_security</th>\n",
       "      <th>online_backup</th>\n",
       "      <th>device_protection</th>\n",
       "      <th>tech_support</th>\n",
       "      <th>streaming_t_v</th>\n",
       "      <th>streaming_movies</th>\n",
       "      <th>multiple_lines</th>\n",
       "      <th>abonents_days</th>\n",
       "    </tr>\n",
       "  </thead>\n",
       "  <tbody>\n",
       "    <tr>\n",
       "      <th>0</th>\n",
       "      <td>7590-VHVEG</td>\n",
       "      <td>Month-to-month</td>\n",
       "      <td>Yes</td>\n",
       "      <td>Electronic check</td>\n",
       "      <td>29.85</td>\n",
       "      <td>31.04</td>\n",
       "      <td>1</td>\n",
       "      <td>Female</td>\n",
       "      <td>0</td>\n",
       "      <td>Yes</td>\n",
       "      <td>No</td>\n",
       "      <td>DSL</td>\n",
       "      <td>No</td>\n",
       "      <td>Yes</td>\n",
       "      <td>No</td>\n",
       "      <td>No</td>\n",
       "      <td>No</td>\n",
       "      <td>No</td>\n",
       "      <td>unknown</td>\n",
       "      <td>31</td>\n",
       "    </tr>\n",
       "    <tr>\n",
       "      <th>1</th>\n",
       "      <td>5575-GNVDE</td>\n",
       "      <td>One year</td>\n",
       "      <td>No</td>\n",
       "      <td>Mailed check</td>\n",
       "      <td>56.95</td>\n",
       "      <td>2071.84</td>\n",
       "      <td>1</td>\n",
       "      <td>Male</td>\n",
       "      <td>0</td>\n",
       "      <td>No</td>\n",
       "      <td>No</td>\n",
       "      <td>DSL</td>\n",
       "      <td>Yes</td>\n",
       "      <td>No</td>\n",
       "      <td>Yes</td>\n",
       "      <td>No</td>\n",
       "      <td>No</td>\n",
       "      <td>No</td>\n",
       "      <td>No</td>\n",
       "      <td>1036</td>\n",
       "    </tr>\n",
       "  </tbody>\n",
       "</table>\n",
       "</div>"
      ],
      "text/plain": [
       "  customer_id            type paperless_billing    payment_method  \\\n",
       "0  7590-VHVEG  Month-to-month               Yes  Electronic check   \n",
       "1  5575-GNVDE        One year                No      Mailed check   \n",
       "\n",
       "   monthly_charges  total_charges  target  gender  senior_citizen partner  \\\n",
       "0            29.85          31.04       1  Female               0     Yes   \n",
       "1            56.95        2071.84       1    Male               0      No   \n",
       "\n",
       "  dependents internet_service online_security online_backup device_protection  \\\n",
       "0         No              DSL              No           Yes                No   \n",
       "1         No              DSL             Yes            No               Yes   \n",
       "\n",
       "  tech_support streaming_t_v streaming_movies multiple_lines  abonents_days  \n",
       "0           No            No               No        unknown             31  \n",
       "1           No            No               No             No           1036  "
      ]
     },
     "execution_count": 56,
     "metadata": {},
     "output_type": "execute_result"
    }
   ],
   "source": [
    "data.head(2)"
   ]
  },
  {
   "cell_type": "code",
   "execution_count": 57,
   "id": "38cac6d0",
   "metadata": {},
   "outputs": [],
   "source": [
    "data.senior_citizen = data.senior_citizen.astype('object')"
   ]
  },
  {
   "cell_type": "markdown",
   "id": "a7b4b625",
   "metadata": {},
   "source": [
    "Excellent! The training dataset is ready!"
   ]
  },
  {
   "cell_type": "markdown",
   "id": "013d4688",
   "metadata": {},
   "source": [
    "## Features preprocessing, pipeline, models"
   ]
  },
  {
   "cell_type": "markdown",
   "id": "cc49fb69",
   "metadata": {},
   "source": [
    "Let's set the desired random_state."
   ]
  },
  {
   "cell_type": "code",
   "execution_count": 58,
   "id": "42d1d846",
   "metadata": {},
   "outputs": [],
   "source": [
    "RANDOM_STATE = 60623"
   ]
  },
  {
   "cell_type": "markdown",
   "id": "4ce32bc5",
   "metadata": {},
   "source": [
    "Let's write pipelines for Decision Tree and Random Forest models using StandardScaler and OneHotEncoder."
   ]
  },
  {
   "cell_type": "markdown",
   "id": "8324151f",
   "metadata": {},
   "source": [
    "Let's start by splitting into features and target:"
   ]
  },
  {
   "cell_type": "code",
   "execution_count": 59,
   "id": "ec41a928",
   "metadata": {},
   "outputs": [
    {
     "data": {
      "text/plain": [
       "((7043, 18), (7043,))"
      ]
     },
     "execution_count": 59,
     "metadata": {},
     "output_type": "execute_result"
    }
   ],
   "source": [
    "features = data.drop(['target', 'customer_id'], axis=1)\n",
    "target = data['target']\n",
    "features.shape, target.shape"
   ]
  },
  {
   "cell_type": "markdown",
   "id": "0148ad1c",
   "metadata": {},
   "source": [
    "We will split the features and target into training and testing sets:"
   ]
  },
  {
   "cell_type": "code",
   "execution_count": 60,
   "id": "157bfc0e",
   "metadata": {},
   "outputs": [
    {
     "data": {
      "text/plain": [
       "((5282, 18), (1761, 18), (5282,), (1761,))"
      ]
     },
     "execution_count": 60,
     "metadata": {},
     "output_type": "execute_result"
    }
   ],
   "source": [
    "features_train, features_test, target_train, target_test = \\\n",
    "train_test_split(features, target, test_size=0.25, random_state=RANDOM_STATE)\n",
    "features_train.shape, features_test.shape, target_train.shape, target_test.shape"
   ]
  },
  {
   "cell_type": "code",
   "execution_count": 61,
   "id": "32a32397",
   "metadata": {},
   "outputs": [
    {
     "data": {
      "text/plain": [
       "['monthly_charges', 'total_charges', 'abonents_days']"
      ]
     },
     "execution_count": 61,
     "metadata": {},
     "output_type": "execute_result"
    }
   ],
   "source": [
    "numeric_columns = features_train.select_dtypes(exclude='object').columns.to_list()\n",
    "numeric_columns"
   ]
  },
  {
   "cell_type": "code",
   "execution_count": 62,
   "id": "c5b66ff7",
   "metadata": {},
   "outputs": [
    {
     "data": {
      "text/plain": [
       "['type',\n",
       " 'paperless_billing',\n",
       " 'payment_method',\n",
       " 'gender',\n",
       " 'senior_citizen',\n",
       " 'partner',\n",
       " 'dependents',\n",
       " 'internet_service',\n",
       " 'online_security',\n",
       " 'online_backup',\n",
       " 'device_protection',\n",
       " 'tech_support',\n",
       " 'streaming_t_v',\n",
       " 'streaming_movies',\n",
       " 'multiple_lines']"
      ]
     },
     "execution_count": 62,
     "metadata": {},
     "output_type": "execute_result"
    }
   ],
   "source": [
    "object_columns = features_train.select_dtypes(include='object').columns.to_list()\n",
    "object_columns"
   ]
  },
  {
   "cell_type": "code",
   "execution_count": 63,
   "id": "c6449ec0",
   "metadata": {},
   "outputs": [],
   "source": [
    "numeric_transformer = StandardScaler()\n",
    "object_transformer = OneHotEncoder()"
   ]
  },
  {
   "cell_type": "code",
   "execution_count": 64,
   "id": "06b02882",
   "metadata": {},
   "outputs": [],
   "source": [
    "preprocessor = ColumnTransformer(\n",
    "    transformers=[\n",
    "        ('numeric', numeric_transformer, numeric_columns),\n",
    "        ('object', object_transformer, object_columns)\n",
    "    ], remainder = 'passthrough')"
   ]
  },
  {
   "cell_type": "code",
   "execution_count": 65,
   "id": "8f012f50",
   "metadata": {},
   "outputs": [],
   "source": [
    "pipeline_tree = Pipeline([\n",
    "    ('preprocessor', preprocessor),\n",
    "    ('model_tree', DecisionTreeClassifier(random_state=RANDOM_STATE))\n",
    "])"
   ]
  },
  {
   "cell_type": "code",
   "execution_count": 66,
   "id": "1ba0b969",
   "metadata": {},
   "outputs": [],
   "source": [
    "pipeline_forest = Pipeline([\n",
    "    ('preprocessor', preprocessor),\n",
    "    ('model_forest', RandomForestClassifier(random_state=RANDOM_STATE))\n",
    "])"
   ]
  },
  {
   "cell_type": "markdown",
   "id": "0aeb8ac0",
   "metadata": {},
   "source": [
    "Now, let's create a pipeline for CatBoost using only StandardScaler, as CatBoost handles categorical features encoding internally."
   ]
  },
  {
   "cell_type": "code",
   "execution_count": 67,
   "id": "fef4a5c7",
   "metadata": {
    "scrolled": false
   },
   "outputs": [
    {
     "data": {
      "text/html": [
       "<div>\n",
       "<style scoped>\n",
       "    .dataframe tbody tr th:only-of-type {\n",
       "        vertical-align: middle;\n",
       "    }\n",
       "\n",
       "    .dataframe tbody tr th {\n",
       "        vertical-align: top;\n",
       "    }\n",
       "\n",
       "    .dataframe thead th {\n",
       "        text-align: right;\n",
       "    }\n",
       "</style>\n",
       "<table border=\"1\" class=\"dataframe\">\n",
       "  <thead>\n",
       "    <tr style=\"text-align: right;\">\n",
       "      <th></th>\n",
       "      <th>type</th>\n",
       "      <th>paperless_billing</th>\n",
       "      <th>payment_method</th>\n",
       "      <th>monthly_charges</th>\n",
       "      <th>total_charges</th>\n",
       "      <th>gender</th>\n",
       "      <th>senior_citizen</th>\n",
       "      <th>partner</th>\n",
       "      <th>dependents</th>\n",
       "      <th>internet_service</th>\n",
       "      <th>online_security</th>\n",
       "      <th>online_backup</th>\n",
       "      <th>device_protection</th>\n",
       "      <th>tech_support</th>\n",
       "      <th>streaming_t_v</th>\n",
       "      <th>streaming_movies</th>\n",
       "      <th>multiple_lines</th>\n",
       "      <th>abonents_days</th>\n",
       "    </tr>\n",
       "  </thead>\n",
       "  <tbody>\n",
       "    <tr>\n",
       "      <th>4920</th>\n",
       "      <td>Two year</td>\n",
       "      <td>No</td>\n",
       "      <td>Bank transfer (automatic)</td>\n",
       "      <td>20.10</td>\n",
       "      <td>1427.10</td>\n",
       "      <td>Female</td>\n",
       "      <td>0</td>\n",
       "      <td>Yes</td>\n",
       "      <td>Yes</td>\n",
       "      <td>unknown</td>\n",
       "      <td>unknown</td>\n",
       "      <td>unknown</td>\n",
       "      <td>unknown</td>\n",
       "      <td>unknown</td>\n",
       "      <td>unknown</td>\n",
       "      <td>unknown</td>\n",
       "      <td>No</td>\n",
       "      <td>2163</td>\n",
       "    </tr>\n",
       "    <tr>\n",
       "      <th>6226</th>\n",
       "      <td>Two year</td>\n",
       "      <td>No</td>\n",
       "      <td>Mailed check</td>\n",
       "      <td>25.75</td>\n",
       "      <td>1339.00</td>\n",
       "      <td>Male</td>\n",
       "      <td>0</td>\n",
       "      <td>No</td>\n",
       "      <td>No</td>\n",
       "      <td>unknown</td>\n",
       "      <td>unknown</td>\n",
       "      <td>unknown</td>\n",
       "      <td>unknown</td>\n",
       "      <td>unknown</td>\n",
       "      <td>unknown</td>\n",
       "      <td>unknown</td>\n",
       "      <td>Yes</td>\n",
       "      <td>1583</td>\n",
       "    </tr>\n",
       "    <tr>\n",
       "      <th>4099</th>\n",
       "      <td>Month-to-month</td>\n",
       "      <td>No</td>\n",
       "      <td>Bank transfer (automatic)</td>\n",
       "      <td>29.45</td>\n",
       "      <td>189.07</td>\n",
       "      <td>Female</td>\n",
       "      <td>0</td>\n",
       "      <td>No</td>\n",
       "      <td>No</td>\n",
       "      <td>DSL</td>\n",
       "      <td>Yes</td>\n",
       "      <td>No</td>\n",
       "      <td>No</td>\n",
       "      <td>No</td>\n",
       "      <td>No</td>\n",
       "      <td>No</td>\n",
       "      <td>unknown</td>\n",
       "      <td>184</td>\n",
       "    </tr>\n",
       "  </tbody>\n",
       "</table>\n",
       "</div>"
      ],
      "text/plain": [
       "                type paperless_billing             payment_method  \\\n",
       "4920        Two year                No  Bank transfer (automatic)   \n",
       "6226        Two year                No               Mailed check   \n",
       "4099  Month-to-month                No  Bank transfer (automatic)   \n",
       "\n",
       "      monthly_charges  total_charges  gender senior_citizen partner  \\\n",
       "4920            20.10        1427.10  Female              0     Yes   \n",
       "6226            25.75        1339.00    Male              0      No   \n",
       "4099            29.45         189.07  Female              0      No   \n",
       "\n",
       "     dependents internet_service online_security online_backup  \\\n",
       "4920        Yes          unknown         unknown       unknown   \n",
       "6226         No          unknown         unknown       unknown   \n",
       "4099         No              DSL             Yes            No   \n",
       "\n",
       "     device_protection tech_support streaming_t_v streaming_movies  \\\n",
       "4920           unknown      unknown       unknown          unknown   \n",
       "6226           unknown      unknown       unknown          unknown   \n",
       "4099                No           No            No               No   \n",
       "\n",
       "     multiple_lines  abonents_days  \n",
       "4920             No           2163  \n",
       "6226            Yes           1583  \n",
       "4099        unknown            184  "
      ]
     },
     "metadata": {},
     "output_type": "display_data"
    },
    {
     "data": {
      "text/html": [
       "<div>\n",
       "<style scoped>\n",
       "    .dataframe tbody tr th:only-of-type {\n",
       "        vertical-align: middle;\n",
       "    }\n",
       "\n",
       "    .dataframe tbody tr th {\n",
       "        vertical-align: top;\n",
       "    }\n",
       "\n",
       "    .dataframe thead th {\n",
       "        text-align: right;\n",
       "    }\n",
       "</style>\n",
       "<table border=\"1\" class=\"dataframe\">\n",
       "  <thead>\n",
       "    <tr style=\"text-align: right;\">\n",
       "      <th></th>\n",
       "      <th>0</th>\n",
       "      <th>1</th>\n",
       "      <th>2</th>\n",
       "      <th>3</th>\n",
       "      <th>4</th>\n",
       "      <th>5</th>\n",
       "      <th>6</th>\n",
       "      <th>7</th>\n",
       "      <th>8</th>\n",
       "      <th>9</th>\n",
       "      <th>10</th>\n",
       "      <th>11</th>\n",
       "      <th>12</th>\n",
       "      <th>13</th>\n",
       "      <th>14</th>\n",
       "      <th>15</th>\n",
       "      <th>16</th>\n",
       "      <th>17</th>\n",
       "    </tr>\n",
       "  </thead>\n",
       "  <tbody>\n",
       "    <tr>\n",
       "      <th>0</th>\n",
       "      <td>-1.46955</td>\n",
       "      <td>-0.319692</td>\n",
       "      <td>1.853234</td>\n",
       "      <td>Two year</td>\n",
       "      <td>No</td>\n",
       "      <td>Bank transfer (automatic)</td>\n",
       "      <td>Female</td>\n",
       "      <td>0</td>\n",
       "      <td>Yes</td>\n",
       "      <td>Yes</td>\n",
       "      <td>unknown</td>\n",
       "      <td>unknown</td>\n",
       "      <td>unknown</td>\n",
       "      <td>unknown</td>\n",
       "      <td>unknown</td>\n",
       "      <td>unknown</td>\n",
       "      <td>unknown</td>\n",
       "      <td>No</td>\n",
       "    </tr>\n",
       "    <tr>\n",
       "      <th>1</th>\n",
       "      <td>-1.281736</td>\n",
       "      <td>-0.361758</td>\n",
       "      <td>1.003231</td>\n",
       "      <td>Two year</td>\n",
       "      <td>No</td>\n",
       "      <td>Mailed check</td>\n",
       "      <td>Male</td>\n",
       "      <td>0</td>\n",
       "      <td>No</td>\n",
       "      <td>No</td>\n",
       "      <td>unknown</td>\n",
       "      <td>unknown</td>\n",
       "      <td>unknown</td>\n",
       "      <td>unknown</td>\n",
       "      <td>unknown</td>\n",
       "      <td>unknown</td>\n",
       "      <td>unknown</td>\n",
       "      <td>Yes</td>\n",
       "    </tr>\n",
       "    <tr>\n",
       "      <th>2</th>\n",
       "      <td>-1.158743</td>\n",
       "      <td>-0.910837</td>\n",
       "      <td>-1.047034</td>\n",
       "      <td>Month-to-month</td>\n",
       "      <td>No</td>\n",
       "      <td>Bank transfer (automatic)</td>\n",
       "      <td>Female</td>\n",
       "      <td>0</td>\n",
       "      <td>No</td>\n",
       "      <td>No</td>\n",
       "      <td>DSL</td>\n",
       "      <td>Yes</td>\n",
       "      <td>No</td>\n",
       "      <td>No</td>\n",
       "      <td>No</td>\n",
       "      <td>No</td>\n",
       "      <td>No</td>\n",
       "      <td>unknown</td>\n",
       "    </tr>\n",
       "  </tbody>\n",
       "</table>\n",
       "</div>"
      ],
      "text/plain": [
       "         0         1         2               3   4   \\\n",
       "0  -1.46955 -0.319692  1.853234        Two year  No   \n",
       "1 -1.281736 -0.361758  1.003231        Two year  No   \n",
       "2 -1.158743 -0.910837 -1.047034  Month-to-month  No   \n",
       "\n",
       "                          5       6  7    8    9        10       11       12  \\\n",
       "0  Bank transfer (automatic)  Female  0  Yes  Yes  unknown  unknown  unknown   \n",
       "1               Mailed check    Male  0   No   No  unknown  unknown  unknown   \n",
       "2  Bank transfer (automatic)  Female  0   No   No      DSL      Yes       No   \n",
       "\n",
       "        13       14       15       16       17  \n",
       "0  unknown  unknown  unknown  unknown       No  \n",
       "1  unknown  unknown  unknown  unknown      Yes  \n",
       "2       No       No       No       No  unknown  "
      ]
     },
     "metadata": {},
     "output_type": "display_data"
    },
    {
     "name": "stdout",
     "output_type": "stream",
     "text": [
      "We verify that the numbers correspond to the categorical features from the table above: [3, 4, 5, 6, 7, 8, 9, 10, 11, 12, 13, 14, 15, 16, 17]\n"
     ]
    }
   ],
   "source": [
    "preprocessor_cat = ColumnTransformer(\n",
    "    [('num', StandardScaler(), numeric_columns)],\n",
    "    remainder='passthrough')\n",
    "\n",
    "preprocessor_cat.fit(features_train)\n",
    "\n",
    "display(features_train.head(3))\n",
    "display(pd.DataFrame(preprocessor_cat.transform(features_train)).head(3))\n",
    "\n",
    "cat_columns = range(len(numeric_columns), len(features_train.columns))\n",
    "\n",
    "print(f'''We verify that the numbers correspond to the categorical features from the table above: {list(cat_columns)}''')"
   ]
  },
  {
   "cell_type": "code",
   "execution_count": 68,
   "id": "e14f1a27",
   "metadata": {},
   "outputs": [],
   "source": [
    "pipeline_cat = Pipeline([\n",
    "    ('preprocessor_cat', preprocessor_cat),\n",
    "    ('model_cat', CatBoostClassifier(random_state=RANDOM_STATE,\n",
    "                                     verbose=False,\n",
    "                                     cat_features=list(cat_columns)))\n",
    "])\n",
    "\n",
    "\n",
    "# param_grid_cat = {\n",
    "#     'model_cat__iterations': [50],\n",
    "#     'model_cat__depth': [8, 10],\n",
    "#     'model_cat__learning_rate': [0.1]\n",
    "# }\n",
    "\n",
    "# grid_search_cat = GridSearchCV(pipeline_cat, param_grid_cat, scoring='roc_auc', cv=3)\n",
    "# grid_search_cat.fit(features_train, target_train)\n",
    "# grid_search_cat.best_score_"
   ]
  },
  {
   "cell_type": "markdown",
   "id": "dbe5132a",
   "metadata": {},
   "source": [
    "## Model Training using GridSearchCV and cross_val_score"
   ]
  },
  {
   "cell_type": "markdown",
   "id": "c5cb80c2",
   "metadata": {},
   "source": [
    "### Desicion tree"
   ]
  },
  {
   "cell_type": "code",
   "execution_count": 69,
   "id": "db113f12",
   "metadata": {},
   "outputs": [],
   "source": [
    "param_grid_tree = {'model_tree__max_depth': [i for i in range(1,15)]}"
   ]
  },
  {
   "cell_type": "code",
   "execution_count": 70,
   "id": "0a4b1250",
   "metadata": {},
   "outputs": [],
   "source": [
    "grid_search_tree = GridSearchCV(pipeline_tree, param_grid_tree, scoring='roc_auc', cv=5)"
   ]
  },
  {
   "cell_type": "code",
   "execution_count": 71,
   "id": "ae90c0b7",
   "metadata": {},
   "outputs": [
    {
     "data": {
      "text/html": [
       "<style>#sk-container-id-1 {color: black;background-color: white;}#sk-container-id-1 pre{padding: 0;}#sk-container-id-1 div.sk-toggleable {background-color: white;}#sk-container-id-1 label.sk-toggleable__label {cursor: pointer;display: block;width: 100%;margin-bottom: 0;padding: 0.3em;box-sizing: border-box;text-align: center;}#sk-container-id-1 label.sk-toggleable__label-arrow:before {content: \"▸\";float: left;margin-right: 0.25em;color: #696969;}#sk-container-id-1 label.sk-toggleable__label-arrow:hover:before {color: black;}#sk-container-id-1 div.sk-estimator:hover label.sk-toggleable__label-arrow:before {color: black;}#sk-container-id-1 div.sk-toggleable__content {max-height: 0;max-width: 0;overflow: hidden;text-align: left;background-color: #f0f8ff;}#sk-container-id-1 div.sk-toggleable__content pre {margin: 0.2em;color: black;border-radius: 0.25em;background-color: #f0f8ff;}#sk-container-id-1 input.sk-toggleable__control:checked~div.sk-toggleable__content {max-height: 200px;max-width: 100%;overflow: auto;}#sk-container-id-1 input.sk-toggleable__control:checked~label.sk-toggleable__label-arrow:before {content: \"▾\";}#sk-container-id-1 div.sk-estimator input.sk-toggleable__control:checked~label.sk-toggleable__label {background-color: #d4ebff;}#sk-container-id-1 div.sk-label input.sk-toggleable__control:checked~label.sk-toggleable__label {background-color: #d4ebff;}#sk-container-id-1 input.sk-hidden--visually {border: 0;clip: rect(1px 1px 1px 1px);clip: rect(1px, 1px, 1px, 1px);height: 1px;margin: -1px;overflow: hidden;padding: 0;position: absolute;width: 1px;}#sk-container-id-1 div.sk-estimator {font-family: monospace;background-color: #f0f8ff;border: 1px dotted black;border-radius: 0.25em;box-sizing: border-box;margin-bottom: 0.5em;}#sk-container-id-1 div.sk-estimator:hover {background-color: #d4ebff;}#sk-container-id-1 div.sk-parallel-item::after {content: \"\";width: 100%;border-bottom: 1px solid gray;flex-grow: 1;}#sk-container-id-1 div.sk-label:hover label.sk-toggleable__label {background-color: #d4ebff;}#sk-container-id-1 div.sk-serial::before {content: \"\";position: absolute;border-left: 1px solid gray;box-sizing: border-box;top: 0;bottom: 0;left: 50%;z-index: 0;}#sk-container-id-1 div.sk-serial {display: flex;flex-direction: column;align-items: center;background-color: white;padding-right: 0.2em;padding-left: 0.2em;position: relative;}#sk-container-id-1 div.sk-item {position: relative;z-index: 1;}#sk-container-id-1 div.sk-parallel {display: flex;align-items: stretch;justify-content: center;background-color: white;position: relative;}#sk-container-id-1 div.sk-item::before, #sk-container-id-1 div.sk-parallel-item::before {content: \"\";position: absolute;border-left: 1px solid gray;box-sizing: border-box;top: 0;bottom: 0;left: 50%;z-index: -1;}#sk-container-id-1 div.sk-parallel-item {display: flex;flex-direction: column;z-index: 1;position: relative;background-color: white;}#sk-container-id-1 div.sk-parallel-item:first-child::after {align-self: flex-end;width: 50%;}#sk-container-id-1 div.sk-parallel-item:last-child::after {align-self: flex-start;width: 50%;}#sk-container-id-1 div.sk-parallel-item:only-child::after {width: 0;}#sk-container-id-1 div.sk-dashed-wrapped {border: 1px dashed gray;margin: 0 0.4em 0.5em 0.4em;box-sizing: border-box;padding-bottom: 0.4em;background-color: white;}#sk-container-id-1 div.sk-label label {font-family: monospace;font-weight: bold;display: inline-block;line-height: 1.2em;}#sk-container-id-1 div.sk-label-container {text-align: center;}#sk-container-id-1 div.sk-container {/* jupyter's `normalize.less` sets `[hidden] { display: none; }` but bootstrap.min.css set `[hidden] { display: none !important; }` so we also need the `!important` here to be able to override the default hidden behavior on the sphinx rendered scikit-learn.org. See: https://github.com/scikit-learn/scikit-learn/issues/21755 */display: inline-block !important;position: relative;}#sk-container-id-1 div.sk-text-repr-fallback {display: none;}</style><div id=\"sk-container-id-1\" class=\"sk-top-container\"><div class=\"sk-text-repr-fallback\"><pre>GridSearchCV(cv=5,\n",
       "             estimator=Pipeline(steps=[(&#x27;preprocessor&#x27;,\n",
       "                                        ColumnTransformer(remainder=&#x27;passthrough&#x27;,\n",
       "                                                          transformers=[(&#x27;numeric&#x27;,\n",
       "                                                                         StandardScaler(),\n",
       "                                                                         [&#x27;monthly_charges&#x27;,\n",
       "                                                                          &#x27;total_charges&#x27;,\n",
       "                                                                          &#x27;abonents_days&#x27;]),\n",
       "                                                                        (&#x27;object&#x27;,\n",
       "                                                                         OneHotEncoder(),\n",
       "                                                                         [&#x27;type&#x27;,\n",
       "                                                                          &#x27;paperless_billing&#x27;,\n",
       "                                                                          &#x27;payment_method&#x27;,\n",
       "                                                                          &#x27;gender&#x27;,\n",
       "                                                                          &#x27;senior_citizen&#x27;,\n",
       "                                                                          &#x27;partner&#x27;,\n",
       "                                                                          &#x27;dependents&#x27;,\n",
       "                                                                          &#x27;internet_service&#x27;,\n",
       "                                                                          &#x27;online_security&#x27;,\n",
       "                                                                          &#x27;online_backup&#x27;,\n",
       "                                                                          &#x27;device_protection&#x27;,\n",
       "                                                                          &#x27;tech_support&#x27;,\n",
       "                                                                          &#x27;streaming_t_v&#x27;,\n",
       "                                                                          &#x27;streaming_movies&#x27;,\n",
       "                                                                          &#x27;multiple_lines&#x27;])])),\n",
       "                                       (&#x27;model_tree&#x27;,\n",
       "                                        DecisionTreeClassifier(random_state=60623))]),\n",
       "             param_grid={&#x27;model_tree__max_depth&#x27;: [1, 2, 3, 4, 5, 6, 7, 8, 9,\n",
       "                                                   10, 11, 12, 13, 14]},\n",
       "             scoring=&#x27;roc_auc&#x27;)</pre><b>In a Jupyter environment, please rerun this cell to show the HTML representation or trust the notebook. <br />On GitHub, the HTML representation is unable to render, please try loading this page with nbviewer.org.</b></div><div class=\"sk-container\" hidden><div class=\"sk-item sk-dashed-wrapped\"><div class=\"sk-label-container\"><div class=\"sk-label sk-toggleable\"><input class=\"sk-toggleable__control sk-hidden--visually\" id=\"sk-estimator-id-1\" type=\"checkbox\" ><label for=\"sk-estimator-id-1\" class=\"sk-toggleable__label sk-toggleable__label-arrow\">GridSearchCV</label><div class=\"sk-toggleable__content\"><pre>GridSearchCV(cv=5,\n",
       "             estimator=Pipeline(steps=[(&#x27;preprocessor&#x27;,\n",
       "                                        ColumnTransformer(remainder=&#x27;passthrough&#x27;,\n",
       "                                                          transformers=[(&#x27;numeric&#x27;,\n",
       "                                                                         StandardScaler(),\n",
       "                                                                         [&#x27;monthly_charges&#x27;,\n",
       "                                                                          &#x27;total_charges&#x27;,\n",
       "                                                                          &#x27;abonents_days&#x27;]),\n",
       "                                                                        (&#x27;object&#x27;,\n",
       "                                                                         OneHotEncoder(),\n",
       "                                                                         [&#x27;type&#x27;,\n",
       "                                                                          &#x27;paperless_billing&#x27;,\n",
       "                                                                          &#x27;payment_method&#x27;,\n",
       "                                                                          &#x27;gender&#x27;,\n",
       "                                                                          &#x27;senior_citizen&#x27;,\n",
       "                                                                          &#x27;partner&#x27;,\n",
       "                                                                          &#x27;dependents&#x27;,\n",
       "                                                                          &#x27;internet_service&#x27;,\n",
       "                                                                          &#x27;online_security&#x27;,\n",
       "                                                                          &#x27;online_backup&#x27;,\n",
       "                                                                          &#x27;device_protection&#x27;,\n",
       "                                                                          &#x27;tech_support&#x27;,\n",
       "                                                                          &#x27;streaming_t_v&#x27;,\n",
       "                                                                          &#x27;streaming_movies&#x27;,\n",
       "                                                                          &#x27;multiple_lines&#x27;])])),\n",
       "                                       (&#x27;model_tree&#x27;,\n",
       "                                        DecisionTreeClassifier(random_state=60623))]),\n",
       "             param_grid={&#x27;model_tree__max_depth&#x27;: [1, 2, 3, 4, 5, 6, 7, 8, 9,\n",
       "                                                   10, 11, 12, 13, 14]},\n",
       "             scoring=&#x27;roc_auc&#x27;)</pre></div></div></div><div class=\"sk-parallel\"><div class=\"sk-parallel-item\"><div class=\"sk-item\"><div class=\"sk-label-container\"><div class=\"sk-label sk-toggleable\"><input class=\"sk-toggleable__control sk-hidden--visually\" id=\"sk-estimator-id-2\" type=\"checkbox\" ><label for=\"sk-estimator-id-2\" class=\"sk-toggleable__label sk-toggleable__label-arrow\">estimator: Pipeline</label><div class=\"sk-toggleable__content\"><pre>Pipeline(steps=[(&#x27;preprocessor&#x27;,\n",
       "                 ColumnTransformer(remainder=&#x27;passthrough&#x27;,\n",
       "                                   transformers=[(&#x27;numeric&#x27;, StandardScaler(),\n",
       "                                                  [&#x27;monthly_charges&#x27;,\n",
       "                                                   &#x27;total_charges&#x27;,\n",
       "                                                   &#x27;abonents_days&#x27;]),\n",
       "                                                 (&#x27;object&#x27;, OneHotEncoder(),\n",
       "                                                  [&#x27;type&#x27;, &#x27;paperless_billing&#x27;,\n",
       "                                                   &#x27;payment_method&#x27;, &#x27;gender&#x27;,\n",
       "                                                   &#x27;senior_citizen&#x27;, &#x27;partner&#x27;,\n",
       "                                                   &#x27;dependents&#x27;,\n",
       "                                                   &#x27;internet_service&#x27;,\n",
       "                                                   &#x27;online_security&#x27;,\n",
       "                                                   &#x27;online_backup&#x27;,\n",
       "                                                   &#x27;device_protection&#x27;,\n",
       "                                                   &#x27;tech_support&#x27;,\n",
       "                                                   &#x27;streaming_t_v&#x27;,\n",
       "                                                   &#x27;streaming_movies&#x27;,\n",
       "                                                   &#x27;multiple_lines&#x27;])])),\n",
       "                (&#x27;model_tree&#x27;, DecisionTreeClassifier(random_state=60623))])</pre></div></div></div><div class=\"sk-serial\"><div class=\"sk-item\"><div class=\"sk-serial\"><div class=\"sk-item sk-dashed-wrapped\"><div class=\"sk-label-container\"><div class=\"sk-label sk-toggleable\"><input class=\"sk-toggleable__control sk-hidden--visually\" id=\"sk-estimator-id-3\" type=\"checkbox\" ><label for=\"sk-estimator-id-3\" class=\"sk-toggleable__label sk-toggleable__label-arrow\">preprocessor: ColumnTransformer</label><div class=\"sk-toggleable__content\"><pre>ColumnTransformer(remainder=&#x27;passthrough&#x27;,\n",
       "                  transformers=[(&#x27;numeric&#x27;, StandardScaler(),\n",
       "                                 [&#x27;monthly_charges&#x27;, &#x27;total_charges&#x27;,\n",
       "                                  &#x27;abonents_days&#x27;]),\n",
       "                                (&#x27;object&#x27;, OneHotEncoder(),\n",
       "                                 [&#x27;type&#x27;, &#x27;paperless_billing&#x27;, &#x27;payment_method&#x27;,\n",
       "                                  &#x27;gender&#x27;, &#x27;senior_citizen&#x27;, &#x27;partner&#x27;,\n",
       "                                  &#x27;dependents&#x27;, &#x27;internet_service&#x27;,\n",
       "                                  &#x27;online_security&#x27;, &#x27;online_backup&#x27;,\n",
       "                                  &#x27;device_protection&#x27;, &#x27;tech_support&#x27;,\n",
       "                                  &#x27;streaming_t_v&#x27;, &#x27;streaming_movies&#x27;,\n",
       "                                  &#x27;multiple_lines&#x27;])])</pre></div></div></div><div class=\"sk-parallel\"><div class=\"sk-parallel-item\"><div class=\"sk-item\"><div class=\"sk-label-container\"><div class=\"sk-label sk-toggleable\"><input class=\"sk-toggleable__control sk-hidden--visually\" id=\"sk-estimator-id-4\" type=\"checkbox\" ><label for=\"sk-estimator-id-4\" class=\"sk-toggleable__label sk-toggleable__label-arrow\">numeric</label><div class=\"sk-toggleable__content\"><pre>[&#x27;monthly_charges&#x27;, &#x27;total_charges&#x27;, &#x27;abonents_days&#x27;]</pre></div></div></div><div class=\"sk-serial\"><div class=\"sk-item\"><div class=\"sk-estimator sk-toggleable\"><input class=\"sk-toggleable__control sk-hidden--visually\" id=\"sk-estimator-id-5\" type=\"checkbox\" ><label for=\"sk-estimator-id-5\" class=\"sk-toggleable__label sk-toggleable__label-arrow\">StandardScaler</label><div class=\"sk-toggleable__content\"><pre>StandardScaler()</pre></div></div></div></div></div></div><div class=\"sk-parallel-item\"><div class=\"sk-item\"><div class=\"sk-label-container\"><div class=\"sk-label sk-toggleable\"><input class=\"sk-toggleable__control sk-hidden--visually\" id=\"sk-estimator-id-6\" type=\"checkbox\" ><label for=\"sk-estimator-id-6\" class=\"sk-toggleable__label sk-toggleable__label-arrow\">object</label><div class=\"sk-toggleable__content\"><pre>[&#x27;type&#x27;, &#x27;paperless_billing&#x27;, &#x27;payment_method&#x27;, &#x27;gender&#x27;, &#x27;senior_citizen&#x27;, &#x27;partner&#x27;, &#x27;dependents&#x27;, &#x27;internet_service&#x27;, &#x27;online_security&#x27;, &#x27;online_backup&#x27;, &#x27;device_protection&#x27;, &#x27;tech_support&#x27;, &#x27;streaming_t_v&#x27;, &#x27;streaming_movies&#x27;, &#x27;multiple_lines&#x27;]</pre></div></div></div><div class=\"sk-serial\"><div class=\"sk-item\"><div class=\"sk-estimator sk-toggleable\"><input class=\"sk-toggleable__control sk-hidden--visually\" id=\"sk-estimator-id-7\" type=\"checkbox\" ><label for=\"sk-estimator-id-7\" class=\"sk-toggleable__label sk-toggleable__label-arrow\">OneHotEncoder</label><div class=\"sk-toggleable__content\"><pre>OneHotEncoder()</pre></div></div></div></div></div></div><div class=\"sk-parallel-item\"><div class=\"sk-item\"><div class=\"sk-label-container\"><div class=\"sk-label sk-toggleable\"><input class=\"sk-toggleable__control sk-hidden--visually\" id=\"sk-estimator-id-8\" type=\"checkbox\" ><label for=\"sk-estimator-id-8\" class=\"sk-toggleable__label sk-toggleable__label-arrow\">remainder</label><div class=\"sk-toggleable__content\"><pre></pre></div></div></div><div class=\"sk-serial\"><div class=\"sk-item\"><div class=\"sk-estimator sk-toggleable\"><input class=\"sk-toggleable__control sk-hidden--visually\" id=\"sk-estimator-id-9\" type=\"checkbox\" ><label for=\"sk-estimator-id-9\" class=\"sk-toggleable__label sk-toggleable__label-arrow\">passthrough</label><div class=\"sk-toggleable__content\"><pre>passthrough</pre></div></div></div></div></div></div></div></div><div class=\"sk-item\"><div class=\"sk-estimator sk-toggleable\"><input class=\"sk-toggleable__control sk-hidden--visually\" id=\"sk-estimator-id-10\" type=\"checkbox\" ><label for=\"sk-estimator-id-10\" class=\"sk-toggleable__label sk-toggleable__label-arrow\">DecisionTreeClassifier</label><div class=\"sk-toggleable__content\"><pre>DecisionTreeClassifier(random_state=60623)</pre></div></div></div></div></div></div></div></div></div></div></div></div>"
      ],
      "text/plain": [
       "GridSearchCV(cv=5,\n",
       "             estimator=Pipeline(steps=[('preprocessor',\n",
       "                                        ColumnTransformer(remainder='passthrough',\n",
       "                                                          transformers=[('numeric',\n",
       "                                                                         StandardScaler(),\n",
       "                                                                         ['monthly_charges',\n",
       "                                                                          'total_charges',\n",
       "                                                                          'abonents_days']),\n",
       "                                                                        ('object',\n",
       "                                                                         OneHotEncoder(),\n",
       "                                                                         ['type',\n",
       "                                                                          'paperless_billing',\n",
       "                                                                          'payment_method',\n",
       "                                                                          'gender',\n",
       "                                                                          'senior_citizen',\n",
       "                                                                          'partner',\n",
       "                                                                          'dependents',\n",
       "                                                                          'internet_service',\n",
       "                                                                          'online_security',\n",
       "                                                                          'online_backup',\n",
       "                                                                          'device_protection',\n",
       "                                                                          'tech_support',\n",
       "                                                                          'streaming_t_v',\n",
       "                                                                          'streaming_movies',\n",
       "                                                                          'multiple_lines'])])),\n",
       "                                       ('model_tree',\n",
       "                                        DecisionTreeClassifier(random_state=60623))]),\n",
       "             param_grid={'model_tree__max_depth': [1, 2, 3, 4, 5, 6, 7, 8, 9,\n",
       "                                                   10, 11, 12, 13, 14]},\n",
       "             scoring='roc_auc')"
      ]
     },
     "execution_count": 71,
     "metadata": {},
     "output_type": "execute_result"
    }
   ],
   "source": [
    "grid_search_tree.fit(features_train, target_train)"
   ]
  },
  {
   "cell_type": "code",
   "execution_count": 72,
   "id": "890f45ce",
   "metadata": {
    "scrolled": true
   },
   "outputs": [
    {
     "data": {
      "text/plain": [
       "({'model_tree__max_depth': 5}, 0.791635137268647)"
      ]
     },
     "execution_count": 72,
     "metadata": {},
     "output_type": "execute_result"
    }
   ],
   "source": [
    "best_params_tree = grid_search_tree.best_params_\n",
    "best_score_tree = grid_search_tree.best_score_\n",
    "best_params_tree, best_score_tree"
   ]
  },
  {
   "cell_type": "markdown",
   "id": "9c052d3d",
   "metadata": {},
   "source": [
    "### Random forest"
   ]
  },
  {
   "cell_type": "code",
   "execution_count": 73,
   "id": "a83e5c16",
   "metadata": {},
   "outputs": [],
   "source": [
    "param_grid_forest = {'model_forest__n_estimators': [i for i in range(80, 130, 5)],\\\n",
    "                     'model_forest__max_depth': [j for j in range(5,10)]}"
   ]
  },
  {
   "cell_type": "code",
   "execution_count": 74,
   "id": "f8d29c02",
   "metadata": {},
   "outputs": [],
   "source": [
    "grid_search_forest = GridSearchCV(pipeline_forest, param_grid_forest, scoring='roc_auc', cv=5)"
   ]
  },
  {
   "cell_type": "code",
   "execution_count": 75,
   "id": "5fa90d57",
   "metadata": {
    "scrolled": true
   },
   "outputs": [
    {
     "name": "stdout",
     "output_type": "stream",
     "text": [
      "CPU times: user 1min 32s, sys: 162 ms, total: 1min 32s\n",
      "Wall time: 1min 32s\n"
     ]
    },
    {
     "data": {
      "text/html": [
       "<style>#sk-container-id-2 {color: black;background-color: white;}#sk-container-id-2 pre{padding: 0;}#sk-container-id-2 div.sk-toggleable {background-color: white;}#sk-container-id-2 label.sk-toggleable__label {cursor: pointer;display: block;width: 100%;margin-bottom: 0;padding: 0.3em;box-sizing: border-box;text-align: center;}#sk-container-id-2 label.sk-toggleable__label-arrow:before {content: \"▸\";float: left;margin-right: 0.25em;color: #696969;}#sk-container-id-2 label.sk-toggleable__label-arrow:hover:before {color: black;}#sk-container-id-2 div.sk-estimator:hover label.sk-toggleable__label-arrow:before {color: black;}#sk-container-id-2 div.sk-toggleable__content {max-height: 0;max-width: 0;overflow: hidden;text-align: left;background-color: #f0f8ff;}#sk-container-id-2 div.sk-toggleable__content pre {margin: 0.2em;color: black;border-radius: 0.25em;background-color: #f0f8ff;}#sk-container-id-2 input.sk-toggleable__control:checked~div.sk-toggleable__content {max-height: 200px;max-width: 100%;overflow: auto;}#sk-container-id-2 input.sk-toggleable__control:checked~label.sk-toggleable__label-arrow:before {content: \"▾\";}#sk-container-id-2 div.sk-estimator input.sk-toggleable__control:checked~label.sk-toggleable__label {background-color: #d4ebff;}#sk-container-id-2 div.sk-label input.sk-toggleable__control:checked~label.sk-toggleable__label {background-color: #d4ebff;}#sk-container-id-2 input.sk-hidden--visually {border: 0;clip: rect(1px 1px 1px 1px);clip: rect(1px, 1px, 1px, 1px);height: 1px;margin: -1px;overflow: hidden;padding: 0;position: absolute;width: 1px;}#sk-container-id-2 div.sk-estimator {font-family: monospace;background-color: #f0f8ff;border: 1px dotted black;border-radius: 0.25em;box-sizing: border-box;margin-bottom: 0.5em;}#sk-container-id-2 div.sk-estimator:hover {background-color: #d4ebff;}#sk-container-id-2 div.sk-parallel-item::after {content: \"\";width: 100%;border-bottom: 1px solid gray;flex-grow: 1;}#sk-container-id-2 div.sk-label:hover label.sk-toggleable__label {background-color: #d4ebff;}#sk-container-id-2 div.sk-serial::before {content: \"\";position: absolute;border-left: 1px solid gray;box-sizing: border-box;top: 0;bottom: 0;left: 50%;z-index: 0;}#sk-container-id-2 div.sk-serial {display: flex;flex-direction: column;align-items: center;background-color: white;padding-right: 0.2em;padding-left: 0.2em;position: relative;}#sk-container-id-2 div.sk-item {position: relative;z-index: 1;}#sk-container-id-2 div.sk-parallel {display: flex;align-items: stretch;justify-content: center;background-color: white;position: relative;}#sk-container-id-2 div.sk-item::before, #sk-container-id-2 div.sk-parallel-item::before {content: \"\";position: absolute;border-left: 1px solid gray;box-sizing: border-box;top: 0;bottom: 0;left: 50%;z-index: -1;}#sk-container-id-2 div.sk-parallel-item {display: flex;flex-direction: column;z-index: 1;position: relative;background-color: white;}#sk-container-id-2 div.sk-parallel-item:first-child::after {align-self: flex-end;width: 50%;}#sk-container-id-2 div.sk-parallel-item:last-child::after {align-self: flex-start;width: 50%;}#sk-container-id-2 div.sk-parallel-item:only-child::after {width: 0;}#sk-container-id-2 div.sk-dashed-wrapped {border: 1px dashed gray;margin: 0 0.4em 0.5em 0.4em;box-sizing: border-box;padding-bottom: 0.4em;background-color: white;}#sk-container-id-2 div.sk-label label {font-family: monospace;font-weight: bold;display: inline-block;line-height: 1.2em;}#sk-container-id-2 div.sk-label-container {text-align: center;}#sk-container-id-2 div.sk-container {/* jupyter's `normalize.less` sets `[hidden] { display: none; }` but bootstrap.min.css set `[hidden] { display: none !important; }` so we also need the `!important` here to be able to override the default hidden behavior on the sphinx rendered scikit-learn.org. See: https://github.com/scikit-learn/scikit-learn/issues/21755 */display: inline-block !important;position: relative;}#sk-container-id-2 div.sk-text-repr-fallback {display: none;}</style><div id=\"sk-container-id-2\" class=\"sk-top-container\"><div class=\"sk-text-repr-fallback\"><pre>GridSearchCV(cv=5,\n",
       "             estimator=Pipeline(steps=[(&#x27;preprocessor&#x27;,\n",
       "                                        ColumnTransformer(remainder=&#x27;passthrough&#x27;,\n",
       "                                                          transformers=[(&#x27;numeric&#x27;,\n",
       "                                                                         StandardScaler(),\n",
       "                                                                         [&#x27;monthly_charges&#x27;,\n",
       "                                                                          &#x27;total_charges&#x27;,\n",
       "                                                                          &#x27;abonents_days&#x27;]),\n",
       "                                                                        (&#x27;object&#x27;,\n",
       "                                                                         OneHotEncoder(),\n",
       "                                                                         [&#x27;type&#x27;,\n",
       "                                                                          &#x27;paperless_billing&#x27;,\n",
       "                                                                          &#x27;payment_method&#x27;,\n",
       "                                                                          &#x27;gender&#x27;,\n",
       "                                                                          &#x27;senior_citizen&#x27;,\n",
       "                                                                          &#x27;partner&#x27;,\n",
       "                                                                          &#x27;dependents&#x27;,\n",
       "                                                                          &#x27;internet_service&#x27;,\n",
       "                                                                          &#x27;online_security&#x27;,\n",
       "                                                                          &#x27;online_backup&#x27;,\n",
       "                                                                          &#x27;device_protection&#x27;,\n",
       "                                                                          &#x27;tech_support&#x27;,\n",
       "                                                                          &#x27;streaming_t_v&#x27;,\n",
       "                                                                          &#x27;streaming_movies&#x27;,\n",
       "                                                                          &#x27;multiple_lines&#x27;])])),\n",
       "                                       (&#x27;model_forest&#x27;,\n",
       "                                        RandomForestClassifier(random_state=60623))]),\n",
       "             param_grid={&#x27;model_forest__max_depth&#x27;: [5, 6, 7, 8, 9],\n",
       "                         &#x27;model_forest__n_estimators&#x27;: [80, 85, 90, 95, 100,\n",
       "                                                        105, 110, 115, 120,\n",
       "                                                        125]},\n",
       "             scoring=&#x27;roc_auc&#x27;)</pre><b>In a Jupyter environment, please rerun this cell to show the HTML representation or trust the notebook. <br />On GitHub, the HTML representation is unable to render, please try loading this page with nbviewer.org.</b></div><div class=\"sk-container\" hidden><div class=\"sk-item sk-dashed-wrapped\"><div class=\"sk-label-container\"><div class=\"sk-label sk-toggleable\"><input class=\"sk-toggleable__control sk-hidden--visually\" id=\"sk-estimator-id-11\" type=\"checkbox\" ><label for=\"sk-estimator-id-11\" class=\"sk-toggleable__label sk-toggleable__label-arrow\">GridSearchCV</label><div class=\"sk-toggleable__content\"><pre>GridSearchCV(cv=5,\n",
       "             estimator=Pipeline(steps=[(&#x27;preprocessor&#x27;,\n",
       "                                        ColumnTransformer(remainder=&#x27;passthrough&#x27;,\n",
       "                                                          transformers=[(&#x27;numeric&#x27;,\n",
       "                                                                         StandardScaler(),\n",
       "                                                                         [&#x27;monthly_charges&#x27;,\n",
       "                                                                          &#x27;total_charges&#x27;,\n",
       "                                                                          &#x27;abonents_days&#x27;]),\n",
       "                                                                        (&#x27;object&#x27;,\n",
       "                                                                         OneHotEncoder(),\n",
       "                                                                         [&#x27;type&#x27;,\n",
       "                                                                          &#x27;paperless_billing&#x27;,\n",
       "                                                                          &#x27;payment_method&#x27;,\n",
       "                                                                          &#x27;gender&#x27;,\n",
       "                                                                          &#x27;senior_citizen&#x27;,\n",
       "                                                                          &#x27;partner&#x27;,\n",
       "                                                                          &#x27;dependents&#x27;,\n",
       "                                                                          &#x27;internet_service&#x27;,\n",
       "                                                                          &#x27;online_security&#x27;,\n",
       "                                                                          &#x27;online_backup&#x27;,\n",
       "                                                                          &#x27;device_protection&#x27;,\n",
       "                                                                          &#x27;tech_support&#x27;,\n",
       "                                                                          &#x27;streaming_t_v&#x27;,\n",
       "                                                                          &#x27;streaming_movies&#x27;,\n",
       "                                                                          &#x27;multiple_lines&#x27;])])),\n",
       "                                       (&#x27;model_forest&#x27;,\n",
       "                                        RandomForestClassifier(random_state=60623))]),\n",
       "             param_grid={&#x27;model_forest__max_depth&#x27;: [5, 6, 7, 8, 9],\n",
       "                         &#x27;model_forest__n_estimators&#x27;: [80, 85, 90, 95, 100,\n",
       "                                                        105, 110, 115, 120,\n",
       "                                                        125]},\n",
       "             scoring=&#x27;roc_auc&#x27;)</pre></div></div></div><div class=\"sk-parallel\"><div class=\"sk-parallel-item\"><div class=\"sk-item\"><div class=\"sk-label-container\"><div class=\"sk-label sk-toggleable\"><input class=\"sk-toggleable__control sk-hidden--visually\" id=\"sk-estimator-id-12\" type=\"checkbox\" ><label for=\"sk-estimator-id-12\" class=\"sk-toggleable__label sk-toggleable__label-arrow\">estimator: Pipeline</label><div class=\"sk-toggleable__content\"><pre>Pipeline(steps=[(&#x27;preprocessor&#x27;,\n",
       "                 ColumnTransformer(remainder=&#x27;passthrough&#x27;,\n",
       "                                   transformers=[(&#x27;numeric&#x27;, StandardScaler(),\n",
       "                                                  [&#x27;monthly_charges&#x27;,\n",
       "                                                   &#x27;total_charges&#x27;,\n",
       "                                                   &#x27;abonents_days&#x27;]),\n",
       "                                                 (&#x27;object&#x27;, OneHotEncoder(),\n",
       "                                                  [&#x27;type&#x27;, &#x27;paperless_billing&#x27;,\n",
       "                                                   &#x27;payment_method&#x27;, &#x27;gender&#x27;,\n",
       "                                                   &#x27;senior_citizen&#x27;, &#x27;partner&#x27;,\n",
       "                                                   &#x27;dependents&#x27;,\n",
       "                                                   &#x27;internet_service&#x27;,\n",
       "                                                   &#x27;online_security&#x27;,\n",
       "                                                   &#x27;online_backup&#x27;,\n",
       "                                                   &#x27;device_protection&#x27;,\n",
       "                                                   &#x27;tech_support&#x27;,\n",
       "                                                   &#x27;streaming_t_v&#x27;,\n",
       "                                                   &#x27;streaming_movies&#x27;,\n",
       "                                                   &#x27;multiple_lines&#x27;])])),\n",
       "                (&#x27;model_forest&#x27;, RandomForestClassifier(random_state=60623))])</pre></div></div></div><div class=\"sk-serial\"><div class=\"sk-item\"><div class=\"sk-serial\"><div class=\"sk-item sk-dashed-wrapped\"><div class=\"sk-label-container\"><div class=\"sk-label sk-toggleable\"><input class=\"sk-toggleable__control sk-hidden--visually\" id=\"sk-estimator-id-13\" type=\"checkbox\" ><label for=\"sk-estimator-id-13\" class=\"sk-toggleable__label sk-toggleable__label-arrow\">preprocessor: ColumnTransformer</label><div class=\"sk-toggleable__content\"><pre>ColumnTransformer(remainder=&#x27;passthrough&#x27;,\n",
       "                  transformers=[(&#x27;numeric&#x27;, StandardScaler(),\n",
       "                                 [&#x27;monthly_charges&#x27;, &#x27;total_charges&#x27;,\n",
       "                                  &#x27;abonents_days&#x27;]),\n",
       "                                (&#x27;object&#x27;, OneHotEncoder(),\n",
       "                                 [&#x27;type&#x27;, &#x27;paperless_billing&#x27;, &#x27;payment_method&#x27;,\n",
       "                                  &#x27;gender&#x27;, &#x27;senior_citizen&#x27;, &#x27;partner&#x27;,\n",
       "                                  &#x27;dependents&#x27;, &#x27;internet_service&#x27;,\n",
       "                                  &#x27;online_security&#x27;, &#x27;online_backup&#x27;,\n",
       "                                  &#x27;device_protection&#x27;, &#x27;tech_support&#x27;,\n",
       "                                  &#x27;streaming_t_v&#x27;, &#x27;streaming_movies&#x27;,\n",
       "                                  &#x27;multiple_lines&#x27;])])</pre></div></div></div><div class=\"sk-parallel\"><div class=\"sk-parallel-item\"><div class=\"sk-item\"><div class=\"sk-label-container\"><div class=\"sk-label sk-toggleable\"><input class=\"sk-toggleable__control sk-hidden--visually\" id=\"sk-estimator-id-14\" type=\"checkbox\" ><label for=\"sk-estimator-id-14\" class=\"sk-toggleable__label sk-toggleable__label-arrow\">numeric</label><div class=\"sk-toggleable__content\"><pre>[&#x27;monthly_charges&#x27;, &#x27;total_charges&#x27;, &#x27;abonents_days&#x27;]</pre></div></div></div><div class=\"sk-serial\"><div class=\"sk-item\"><div class=\"sk-estimator sk-toggleable\"><input class=\"sk-toggleable__control sk-hidden--visually\" id=\"sk-estimator-id-15\" type=\"checkbox\" ><label for=\"sk-estimator-id-15\" class=\"sk-toggleable__label sk-toggleable__label-arrow\">StandardScaler</label><div class=\"sk-toggleable__content\"><pre>StandardScaler()</pre></div></div></div></div></div></div><div class=\"sk-parallel-item\"><div class=\"sk-item\"><div class=\"sk-label-container\"><div class=\"sk-label sk-toggleable\"><input class=\"sk-toggleable__control sk-hidden--visually\" id=\"sk-estimator-id-16\" type=\"checkbox\" ><label for=\"sk-estimator-id-16\" class=\"sk-toggleable__label sk-toggleable__label-arrow\">object</label><div class=\"sk-toggleable__content\"><pre>[&#x27;type&#x27;, &#x27;paperless_billing&#x27;, &#x27;payment_method&#x27;, &#x27;gender&#x27;, &#x27;senior_citizen&#x27;, &#x27;partner&#x27;, &#x27;dependents&#x27;, &#x27;internet_service&#x27;, &#x27;online_security&#x27;, &#x27;online_backup&#x27;, &#x27;device_protection&#x27;, &#x27;tech_support&#x27;, &#x27;streaming_t_v&#x27;, &#x27;streaming_movies&#x27;, &#x27;multiple_lines&#x27;]</pre></div></div></div><div class=\"sk-serial\"><div class=\"sk-item\"><div class=\"sk-estimator sk-toggleable\"><input class=\"sk-toggleable__control sk-hidden--visually\" id=\"sk-estimator-id-17\" type=\"checkbox\" ><label for=\"sk-estimator-id-17\" class=\"sk-toggleable__label sk-toggleable__label-arrow\">OneHotEncoder</label><div class=\"sk-toggleable__content\"><pre>OneHotEncoder()</pre></div></div></div></div></div></div><div class=\"sk-parallel-item\"><div class=\"sk-item\"><div class=\"sk-label-container\"><div class=\"sk-label sk-toggleable\"><input class=\"sk-toggleable__control sk-hidden--visually\" id=\"sk-estimator-id-18\" type=\"checkbox\" ><label for=\"sk-estimator-id-18\" class=\"sk-toggleable__label sk-toggleable__label-arrow\">remainder</label><div class=\"sk-toggleable__content\"><pre></pre></div></div></div><div class=\"sk-serial\"><div class=\"sk-item\"><div class=\"sk-estimator sk-toggleable\"><input class=\"sk-toggleable__control sk-hidden--visually\" id=\"sk-estimator-id-19\" type=\"checkbox\" ><label for=\"sk-estimator-id-19\" class=\"sk-toggleable__label sk-toggleable__label-arrow\">passthrough</label><div class=\"sk-toggleable__content\"><pre>passthrough</pre></div></div></div></div></div></div></div></div><div class=\"sk-item\"><div class=\"sk-estimator sk-toggleable\"><input class=\"sk-toggleable__control sk-hidden--visually\" id=\"sk-estimator-id-20\" type=\"checkbox\" ><label for=\"sk-estimator-id-20\" class=\"sk-toggleable__label sk-toggleable__label-arrow\">RandomForestClassifier</label><div class=\"sk-toggleable__content\"><pre>RandomForestClassifier(random_state=60623)</pre></div></div></div></div></div></div></div></div></div></div></div></div>"
      ],
      "text/plain": [
       "GridSearchCV(cv=5,\n",
       "             estimator=Pipeline(steps=[('preprocessor',\n",
       "                                        ColumnTransformer(remainder='passthrough',\n",
       "                                                          transformers=[('numeric',\n",
       "                                                                         StandardScaler(),\n",
       "                                                                         ['monthly_charges',\n",
       "                                                                          'total_charges',\n",
       "                                                                          'abonents_days']),\n",
       "                                                                        ('object',\n",
       "                                                                         OneHotEncoder(),\n",
       "                                                                         ['type',\n",
       "                                                                          'paperless_billing',\n",
       "                                                                          'payment_method',\n",
       "                                                                          'gender',\n",
       "                                                                          'senior_citizen',\n",
       "                                                                          'partner',\n",
       "                                                                          'dependents',\n",
       "                                                                          'internet_service',\n",
       "                                                                          'online_security',\n",
       "                                                                          'online_backup',\n",
       "                                                                          'device_protection',\n",
       "                                                                          'tech_support',\n",
       "                                                                          'streaming_t_v',\n",
       "                                                                          'streaming_movies',\n",
       "                                                                          'multiple_lines'])])),\n",
       "                                       ('model_forest',\n",
       "                                        RandomForestClassifier(random_state=60623))]),\n",
       "             param_grid={'model_forest__max_depth': [5, 6, 7, 8, 9],\n",
       "                         'model_forest__n_estimators': [80, 85, 90, 95, 100,\n",
       "                                                        105, 110, 115, 120,\n",
       "                                                        125]},\n",
       "             scoring='roc_auc')"
      ]
     },
     "execution_count": 75,
     "metadata": {},
     "output_type": "execute_result"
    }
   ],
   "source": [
    "%%time\n",
    "grid_search_forest.fit(features_train, target_train)"
   ]
  },
  {
   "cell_type": "code",
   "execution_count": 76,
   "id": "c88857e4",
   "metadata": {
    "scrolled": true
   },
   "outputs": [
    {
     "data": {
      "text/plain": [
       "({'model_forest__max_depth': 7, 'model_forest__n_estimators': 125},\n",
       " 0.8215809293913969)"
      ]
     },
     "execution_count": 76,
     "metadata": {},
     "output_type": "execute_result"
    }
   ],
   "source": [
    "best_params_forest = grid_search_forest.best_params_\n",
    "best_score_forest = grid_search_forest.best_score_\n",
    "best_params_forest, best_score_forest"
   ]
  },
  {
   "cell_type": "markdown",
   "id": "366732a3",
   "metadata": {},
   "source": [
    "### Catboost"
   ]
  },
  {
   "cell_type": "code",
   "execution_count": 77,
   "id": "0f1a257c",
   "metadata": {},
   "outputs": [],
   "source": [
    "model_cat = CatBoostClassifier(random_state=RANDOM_STATE, cat_features = object_columns)"
   ]
  },
  {
   "cell_type": "code",
   "execution_count": 78,
   "id": "7ef095ef",
   "metadata": {},
   "outputs": [],
   "source": [
    "param_grid_cat = {\n",
    "    'model_cat__iterations': [400, 500],\n",
    "    'model_cat__depth': [8, 10],\n",
    "    'model_cat__learning_rate': [0.1, 0.01]\n",
    "}"
   ]
  },
  {
   "cell_type": "code",
   "execution_count": 79,
   "id": "b2f00e49",
   "metadata": {
    "scrolled": true
   },
   "outputs": [
    {
     "name": "stdout",
     "output_type": "stream",
     "text": [
      "CPU times: user 17min 4s, sys: 3min 20s, total: 20min 25s\n",
      "Wall time: 4min 38s\n"
     ]
    },
    {
     "data": {
      "text/html": [
       "<style>#sk-container-id-3 {color: black;background-color: white;}#sk-container-id-3 pre{padding: 0;}#sk-container-id-3 div.sk-toggleable {background-color: white;}#sk-container-id-3 label.sk-toggleable__label {cursor: pointer;display: block;width: 100%;margin-bottom: 0;padding: 0.3em;box-sizing: border-box;text-align: center;}#sk-container-id-3 label.sk-toggleable__label-arrow:before {content: \"▸\";float: left;margin-right: 0.25em;color: #696969;}#sk-container-id-3 label.sk-toggleable__label-arrow:hover:before {color: black;}#sk-container-id-3 div.sk-estimator:hover label.sk-toggleable__label-arrow:before {color: black;}#sk-container-id-3 div.sk-toggleable__content {max-height: 0;max-width: 0;overflow: hidden;text-align: left;background-color: #f0f8ff;}#sk-container-id-3 div.sk-toggleable__content pre {margin: 0.2em;color: black;border-radius: 0.25em;background-color: #f0f8ff;}#sk-container-id-3 input.sk-toggleable__control:checked~div.sk-toggleable__content {max-height: 200px;max-width: 100%;overflow: auto;}#sk-container-id-3 input.sk-toggleable__control:checked~label.sk-toggleable__label-arrow:before {content: \"▾\";}#sk-container-id-3 div.sk-estimator input.sk-toggleable__control:checked~label.sk-toggleable__label {background-color: #d4ebff;}#sk-container-id-3 div.sk-label input.sk-toggleable__control:checked~label.sk-toggleable__label {background-color: #d4ebff;}#sk-container-id-3 input.sk-hidden--visually {border: 0;clip: rect(1px 1px 1px 1px);clip: rect(1px, 1px, 1px, 1px);height: 1px;margin: -1px;overflow: hidden;padding: 0;position: absolute;width: 1px;}#sk-container-id-3 div.sk-estimator {font-family: monospace;background-color: #f0f8ff;border: 1px dotted black;border-radius: 0.25em;box-sizing: border-box;margin-bottom: 0.5em;}#sk-container-id-3 div.sk-estimator:hover {background-color: #d4ebff;}#sk-container-id-3 div.sk-parallel-item::after {content: \"\";width: 100%;border-bottom: 1px solid gray;flex-grow: 1;}#sk-container-id-3 div.sk-label:hover label.sk-toggleable__label {background-color: #d4ebff;}#sk-container-id-3 div.sk-serial::before {content: \"\";position: absolute;border-left: 1px solid gray;box-sizing: border-box;top: 0;bottom: 0;left: 50%;z-index: 0;}#sk-container-id-3 div.sk-serial {display: flex;flex-direction: column;align-items: center;background-color: white;padding-right: 0.2em;padding-left: 0.2em;position: relative;}#sk-container-id-3 div.sk-item {position: relative;z-index: 1;}#sk-container-id-3 div.sk-parallel {display: flex;align-items: stretch;justify-content: center;background-color: white;position: relative;}#sk-container-id-3 div.sk-item::before, #sk-container-id-3 div.sk-parallel-item::before {content: \"\";position: absolute;border-left: 1px solid gray;box-sizing: border-box;top: 0;bottom: 0;left: 50%;z-index: -1;}#sk-container-id-3 div.sk-parallel-item {display: flex;flex-direction: column;z-index: 1;position: relative;background-color: white;}#sk-container-id-3 div.sk-parallel-item:first-child::after {align-self: flex-end;width: 50%;}#sk-container-id-3 div.sk-parallel-item:last-child::after {align-self: flex-start;width: 50%;}#sk-container-id-3 div.sk-parallel-item:only-child::after {width: 0;}#sk-container-id-3 div.sk-dashed-wrapped {border: 1px dashed gray;margin: 0 0.4em 0.5em 0.4em;box-sizing: border-box;padding-bottom: 0.4em;background-color: white;}#sk-container-id-3 div.sk-label label {font-family: monospace;font-weight: bold;display: inline-block;line-height: 1.2em;}#sk-container-id-3 div.sk-label-container {text-align: center;}#sk-container-id-3 div.sk-container {/* jupyter's `normalize.less` sets `[hidden] { display: none; }` but bootstrap.min.css set `[hidden] { display: none !important; }` so we also need the `!important` here to be able to override the default hidden behavior on the sphinx rendered scikit-learn.org. See: https://github.com/scikit-learn/scikit-learn/issues/21755 */display: inline-block !important;position: relative;}#sk-container-id-3 div.sk-text-repr-fallback {display: none;}</style><div id=\"sk-container-id-3\" class=\"sk-top-container\"><div class=\"sk-text-repr-fallback\"><pre>GridSearchCV(cv=5,\n",
       "             estimator=Pipeline(steps=[(&#x27;preprocessor_cat&#x27;,\n",
       "                                        ColumnTransformer(remainder=&#x27;passthrough&#x27;,\n",
       "                                                          transformers=[(&#x27;num&#x27;,\n",
       "                                                                         StandardScaler(),\n",
       "                                                                         [&#x27;monthly_charges&#x27;,\n",
       "                                                                          &#x27;total_charges&#x27;,\n",
       "                                                                          &#x27;abonents_days&#x27;])])),\n",
       "                                       (&#x27;model_cat&#x27;,\n",
       "                                        &lt;catboost.core.CatBoostClassifier object at 0x15369f970&gt;)]),\n",
       "             param_grid={&#x27;model_cat__depth&#x27;: [8, 10],\n",
       "                         &#x27;model_cat__iterations&#x27;: [400, 500],\n",
       "                         &#x27;model_cat__learning_rate&#x27;: [0.1, 0.01]},\n",
       "             scoring=&#x27;roc_auc&#x27;)</pre><b>In a Jupyter environment, please rerun this cell to show the HTML representation or trust the notebook. <br />On GitHub, the HTML representation is unable to render, please try loading this page with nbviewer.org.</b></div><div class=\"sk-container\" hidden><div class=\"sk-item sk-dashed-wrapped\"><div class=\"sk-label-container\"><div class=\"sk-label sk-toggleable\"><input class=\"sk-toggleable__control sk-hidden--visually\" id=\"sk-estimator-id-21\" type=\"checkbox\" ><label for=\"sk-estimator-id-21\" class=\"sk-toggleable__label sk-toggleable__label-arrow\">GridSearchCV</label><div class=\"sk-toggleable__content\"><pre>GridSearchCV(cv=5,\n",
       "             estimator=Pipeline(steps=[(&#x27;preprocessor_cat&#x27;,\n",
       "                                        ColumnTransformer(remainder=&#x27;passthrough&#x27;,\n",
       "                                                          transformers=[(&#x27;num&#x27;,\n",
       "                                                                         StandardScaler(),\n",
       "                                                                         [&#x27;monthly_charges&#x27;,\n",
       "                                                                          &#x27;total_charges&#x27;,\n",
       "                                                                          &#x27;abonents_days&#x27;])])),\n",
       "                                       (&#x27;model_cat&#x27;,\n",
       "                                        &lt;catboost.core.CatBoostClassifier object at 0x15369f970&gt;)]),\n",
       "             param_grid={&#x27;model_cat__depth&#x27;: [8, 10],\n",
       "                         &#x27;model_cat__iterations&#x27;: [400, 500],\n",
       "                         &#x27;model_cat__learning_rate&#x27;: [0.1, 0.01]},\n",
       "             scoring=&#x27;roc_auc&#x27;)</pre></div></div></div><div class=\"sk-parallel\"><div class=\"sk-parallel-item\"><div class=\"sk-item\"><div class=\"sk-label-container\"><div class=\"sk-label sk-toggleable\"><input class=\"sk-toggleable__control sk-hidden--visually\" id=\"sk-estimator-id-22\" type=\"checkbox\" ><label for=\"sk-estimator-id-22\" class=\"sk-toggleable__label sk-toggleable__label-arrow\">estimator: Pipeline</label><div class=\"sk-toggleable__content\"><pre>Pipeline(steps=[(&#x27;preprocessor_cat&#x27;,\n",
       "                 ColumnTransformer(remainder=&#x27;passthrough&#x27;,\n",
       "                                   transformers=[(&#x27;num&#x27;, StandardScaler(),\n",
       "                                                  [&#x27;monthly_charges&#x27;,\n",
       "                                                   &#x27;total_charges&#x27;,\n",
       "                                                   &#x27;abonents_days&#x27;])])),\n",
       "                (&#x27;model_cat&#x27;,\n",
       "                 &lt;catboost.core.CatBoostClassifier object at 0x15369f970&gt;)])</pre></div></div></div><div class=\"sk-serial\"><div class=\"sk-item\"><div class=\"sk-serial\"><div class=\"sk-item sk-dashed-wrapped\"><div class=\"sk-label-container\"><div class=\"sk-label sk-toggleable\"><input class=\"sk-toggleable__control sk-hidden--visually\" id=\"sk-estimator-id-23\" type=\"checkbox\" ><label for=\"sk-estimator-id-23\" class=\"sk-toggleable__label sk-toggleable__label-arrow\">preprocessor_cat: ColumnTransformer</label><div class=\"sk-toggleable__content\"><pre>ColumnTransformer(remainder=&#x27;passthrough&#x27;,\n",
       "                  transformers=[(&#x27;num&#x27;, StandardScaler(),\n",
       "                                 [&#x27;monthly_charges&#x27;, &#x27;total_charges&#x27;,\n",
       "                                  &#x27;abonents_days&#x27;])])</pre></div></div></div><div class=\"sk-parallel\"><div class=\"sk-parallel-item\"><div class=\"sk-item\"><div class=\"sk-label-container\"><div class=\"sk-label sk-toggleable\"><input class=\"sk-toggleable__control sk-hidden--visually\" id=\"sk-estimator-id-24\" type=\"checkbox\" ><label for=\"sk-estimator-id-24\" class=\"sk-toggleable__label sk-toggleable__label-arrow\">num</label><div class=\"sk-toggleable__content\"><pre>[&#x27;monthly_charges&#x27;, &#x27;total_charges&#x27;, &#x27;abonents_days&#x27;]</pre></div></div></div><div class=\"sk-serial\"><div class=\"sk-item\"><div class=\"sk-estimator sk-toggleable\"><input class=\"sk-toggleable__control sk-hidden--visually\" id=\"sk-estimator-id-25\" type=\"checkbox\" ><label for=\"sk-estimator-id-25\" class=\"sk-toggleable__label sk-toggleable__label-arrow\">StandardScaler</label><div class=\"sk-toggleable__content\"><pre>StandardScaler()</pre></div></div></div></div></div></div><div class=\"sk-parallel-item\"><div class=\"sk-item\"><div class=\"sk-label-container\"><div class=\"sk-label sk-toggleable\"><input class=\"sk-toggleable__control sk-hidden--visually\" id=\"sk-estimator-id-26\" type=\"checkbox\" ><label for=\"sk-estimator-id-26\" class=\"sk-toggleable__label sk-toggleable__label-arrow\">remainder</label><div class=\"sk-toggleable__content\"><pre>[&#x27;type&#x27;, &#x27;paperless_billing&#x27;, &#x27;payment_method&#x27;, &#x27;gender&#x27;, &#x27;senior_citizen&#x27;, &#x27;partner&#x27;, &#x27;dependents&#x27;, &#x27;internet_service&#x27;, &#x27;online_security&#x27;, &#x27;online_backup&#x27;, &#x27;device_protection&#x27;, &#x27;tech_support&#x27;, &#x27;streaming_t_v&#x27;, &#x27;streaming_movies&#x27;, &#x27;multiple_lines&#x27;]</pre></div></div></div><div class=\"sk-serial\"><div class=\"sk-item\"><div class=\"sk-estimator sk-toggleable\"><input class=\"sk-toggleable__control sk-hidden--visually\" id=\"sk-estimator-id-27\" type=\"checkbox\" ><label for=\"sk-estimator-id-27\" class=\"sk-toggleable__label sk-toggleable__label-arrow\">passthrough</label><div class=\"sk-toggleable__content\"><pre>passthrough</pre></div></div></div></div></div></div></div></div><div class=\"sk-item\"><div class=\"sk-estimator sk-toggleable\"><input class=\"sk-toggleable__control sk-hidden--visually\" id=\"sk-estimator-id-28\" type=\"checkbox\" ><label for=\"sk-estimator-id-28\" class=\"sk-toggleable__label sk-toggleable__label-arrow\">CatBoostClassifier</label><div class=\"sk-toggleable__content\"><pre>&lt;catboost.core.CatBoostClassifier object at 0x15369f970&gt;</pre></div></div></div></div></div></div></div></div></div></div></div></div>"
      ],
      "text/plain": [
       "GridSearchCV(cv=5,\n",
       "             estimator=Pipeline(steps=[('preprocessor_cat',\n",
       "                                        ColumnTransformer(remainder='passthrough',\n",
       "                                                          transformers=[('num',\n",
       "                                                                         StandardScaler(),\n",
       "                                                                         ['monthly_charges',\n",
       "                                                                          'total_charges',\n",
       "                                                                          'abonents_days'])])),\n",
       "                                       ('model_cat',\n",
       "                                        <catboost.core.CatBoostClassifier object at 0x15369f970>)]),\n",
       "             param_grid={'model_cat__depth': [8, 10],\n",
       "                         'model_cat__iterations': [400, 500],\n",
       "                         'model_cat__learning_rate': [0.1, 0.01]},\n",
       "             scoring='roc_auc')"
      ]
     },
     "execution_count": 79,
     "metadata": {},
     "output_type": "execute_result"
    }
   ],
   "source": [
    "%%time\n",
    "grid_search_cat = GridSearchCV(pipeline_cat, param_grid_cat, scoring='roc_auc', cv=5)\n",
    "grid_search_cat.fit(features_train, target_train)"
   ]
  },
  {
   "cell_type": "code",
   "execution_count": 80,
   "id": "14d6de5d",
   "metadata": {},
   "outputs": [
    {
     "data": {
      "text/plain": [
       "({'model_cat__depth': 8,\n",
       "  'model_cat__iterations': 500,\n",
       "  'model_cat__learning_rate': 0.1},\n",
       " 0.875764383941255)"
      ]
     },
     "execution_count": 80,
     "metadata": {},
     "output_type": "execute_result"
    }
   ],
   "source": [
    "best_model_cat = grid_search_cat.best_estimator_\n",
    "best_params_cat = grid_search_cat.best_params_\n",
    "best_score_cat = grid_search_cat.best_score_\n",
    "best_params_cat, best_score_cat"
   ]
  },
  {
   "cell_type": "markdown",
   "id": "22ab39e1",
   "metadata": {},
   "source": [
    "### Testing the Best Model on the Test Data."
   ]
  },
  {
   "cell_type": "code",
   "execution_count": 81,
   "id": "fafcbfd1",
   "metadata": {},
   "outputs": [],
   "source": [
    "predictions_proba = best_model_cat.predict_proba(features_test)[:, 1]"
   ]
  },
  {
   "cell_type": "code",
   "execution_count": 82,
   "id": "1e150314",
   "metadata": {},
   "outputs": [
    {
     "data": {
      "text/plain": [
       "0.8989358388704318"
      ]
     },
     "execution_count": 82,
     "metadata": {},
     "output_type": "execute_result"
    }
   ],
   "source": [
    "roc_auc_cat_proba = roc_auc_score(target_test, predictions_proba)\n",
    "roc_auc_cat_proba"
   ]
  },
  {
   "cell_type": "markdown",
   "id": "ffdbf219",
   "metadata": {},
   "source": [
    "Great job! You've surpassed the target threshold of 0.85!"
   ]
  },
  {
   "cell_type": "markdown",
   "id": "f8aa2bbf",
   "metadata": {},
   "source": [
    "Let's plot the ROC curve."
   ]
  },
  {
   "cell_type": "code",
   "execution_count": 83,
   "id": "683b9d21",
   "metadata": {},
   "outputs": [
    {
     "data": {
      "image/png": "[encoded data removed]",
      "text/plain": [
       "<Figure size 576x432 with 1 Axes>"
      ]
     },
     "metadata": {
      "needs_background": "light"
     },
     "output_type": "display_data"
    }
   ],
   "source": [
    "fpr, tpr, thresholds = roc_curve(target_test, predictions_proba)\n",
    "\n",
    "plt.figure(figsize=(8, 6))\n",
    "plt.plot(fpr, tpr, label='ROC curve (AUC = {:.2f})'.format(roc_auc_cat_proba))\n",
    "plt.plot([0, 1], [0, 1], 'k--')\n",
    "plt.xlim([0.0, 1.0])\n",
    "plt.ylim([0.0, 1.05])\n",
    "plt.xlabel('False Positive Rate')\n",
    "plt.ylabel('True Positive Rate')\n",
    "plt.title('Receiver Operating Characteristic (ROC) Curve')\n",
    "plt.legend(loc='lower right')\n",
    "plt.show()"
   ]
  },
  {
   "cell_type": "markdown",
   "id": "86481ee4",
   "metadata": {},
   "source": [
    "We'll also take a look at the confusion matrix."
   ]
  },
  {
   "cell_type": "code",
   "execution_count": 84,
   "id": "2f2c212d",
   "metadata": {},
   "outputs": [],
   "source": [
    "predictions = best_model_cat.predict(features_test)"
   ]
  },
  {
   "cell_type": "code",
   "execution_count": 85,
   "id": "2efc550b",
   "metadata": {},
   "outputs": [
    {
     "data": {
      "image/png": "[encoded data removed]",
      "text/plain": [
       "<Figure size 576x432 with 1 Axes>"
      ]
     },
     "metadata": {
      "needs_background": "light"
     },
     "output_type": "display_data"
    }
   ],
   "source": [
    "cm = confusion_matrix(target_test, predictions)\n",
    "\n",
    "plt.figure(figsize=(8, 6))\n",
    "sns.heatmap(cm, annot=True, cmap='Blues', fmt='d', cbar=False)\n",
    "plt.title('Confusion Matrix')\n",
    "plt.xlabel('Predicted')\n",
    "plt.ylabel('Actual')\n",
    "plt.show()"
   ]
  },
  {
   "cell_type": "code",
   "execution_count": 86,
   "id": "eac3f634",
   "metadata": {
    "scrolled": true
   },
   "outputs": [
    {
     "data": {
      "text/plain": [
       "0.01727574750830565"
      ]
     },
     "execution_count": 86,
     "metadata": {},
     "output_type": "execute_result"
    }
   ],
   "source": [
    "26/(1479+26)"
   ]
  },
  {
   "cell_type": "code",
   "execution_count": 87,
   "id": "1a86e83d",
   "metadata": {
    "scrolled": true
   },
   "outputs": [
    {
     "data": {
      "text/plain": [
       "0.51953125"
      ]
     },
     "execution_count": 87,
     "metadata": {},
     "output_type": "execute_result"
    }
   ],
   "source": [
    "133/(133+123)"
   ]
  },
  {
   "cell_type": "markdown",
   "id": "0994ddad",
   "metadata": {},
   "source": [
    "We can observe that the model predicts churned customers excellently (error in 1% of cases), but performs much worse on retained customers (error in 51% of cases)."
   ]
  },
  {
   "cell_type": "markdown",
   "id": "31fabf9c",
   "metadata": {},
   "source": [
    "And finally, let's take a look at feature importance."
   ]
  },
  {
   "cell_type": "code",
   "execution_count": 88,
   "id": "601e3662",
   "metadata": {
    "scrolled": false
   },
   "outputs": [
    {
     "data": {
      "image/png": "[encoded data removed]",
      "text/plain": [
       "<Figure size 720x432 with 1 Axes>"
      ]
     },
     "metadata": {
      "needs_background": "light"
     },
     "output_type": "display_data"
    }
   ],
   "source": [
    "catboost_model = best_model_cat.named_steps['model_cat']\n",
    "feature_importance = catboost_model.feature_importances_\n",
    "feature_names = features_train.columns\n",
    "\n",
    "sorted_indices = np.argsort(feature_importance)[::-1]\n",
    "sorted_importance = feature_importance[sorted_indices]\n",
    "sorted_names = feature_names[sorted_indices]\n",
    "\n",
    "plt.figure(figsize=(10, 6))\n",
    "plt.bar(range(len(sorted_importance)), sorted_importance)\n",
    "plt.xticks(range(len(sorted_importance)), sorted_names, rotation='vertical')\n",
    "plt.xlabel('Feature')\n",
    "plt.ylabel('Importance')\n",
    "plt.title('Feature Importance')\n",
    "plt.tight_layout()\n",
    "plt.show()"
   ]
  },
  {
   "cell_type": "markdown",
   "id": "0b0c1b90",
   "metadata": {},
   "source": [
    "Indeed, we can see that payment_method, monthly_charges, and type are the top 3 most important features. Surprisingly, customer lifetime is ranked 6th, even behind gender. Quite interesting!"
   ]
  },
  {
   "cell_type": "markdown",
   "id": "c79670c2",
   "metadata": {},
   "source": [
    "## Conclusions:"
   ]
  },
  {
   "cell_type": "markdown",
   "id": "d8b9b41a",
   "metadata": {},
   "source": [
    "1. All the steps of the plan were strictly followed, except perhaps for thorough anomaly exploration. However, upon inspecting the dataset, I concluded that there weren't too many anomalies to warrant spending time on them.\n",
    "\n",
    "2. The project proceeded in four main steps: data preprocessing, data preparation for training, model training, and testing the best model on the test data.\n",
    "\n",
    "3. I used all the original features except customer_id and columns related to dates, namely: begin_date and end_date (combined into the feature \"abonents_days\"), type, paperless_billing, payment_method, monthly_charges, total_charges, gender, senior_citizen, partner, dependents, internet_service, online_security, online_backup, device_protection, tech_support, streaming_tv, streaming_movies, and multiple_lines. \n",
    "\n",
    "    Regarding preprocessing, a crucial step was to ensure unique customer_ids in all four datasets, allowing for accurate merging without cross-duplicates. Another vital processing step involved standard scaling (which might not have been necessary for tree-based models), as well as One-Hot Encoding (OHE), which was essential for Decision Trees and Random Forests to learn. Unfortunately, I couldn't incorporate Label Encoder into the column_transformer.\n",
    "\n",
    "4. The best final model turned out to be a CatBoost model with 500 iterations, tree depth of 8, and learning rate of 0.1. This model achieved a maximum ROC_AUC score of 0.88 on validation and 0.9 on the test data.\n",
    "\n",
    "    Importantly, our model excels at predicting retained customers (error rate of 2%) but performs significantly worse on churned customers (error rate of 52%)."
   ]
  }
 ],
 "metadata": {
  "ExecuteTimeLog": [
   {
    "duration": 1311,
    "start_time": "2023-06-08T07:41:44.792Z"
   },
   {
    "duration": 399,
    "start_time": "2023-06-08T07:41:46.106Z"
   },
   {
    "duration": 4,
    "start_time": "2023-06-08T07:41:54.804Z"
   },
   {
    "duration": 276,
    "start_time": "2023-06-08T07:42:16.435Z"
   },
   {
    "duration": 217,
    "start_time": "2023-06-08T07:42:20.310Z"
   },
   {
    "duration": 3264,
    "start_time": "2023-06-13T16:33:28.740Z"
   },
   {
    "duration": 3029,
    "start_time": "2023-06-13T16:33:34.258Z"
   },
   {
    "duration": 142,
    "start_time": "2023-06-13T16:33:37.908Z"
   },
   {
    "duration": 3,
    "start_time": "2023-06-13T16:33:38.059Z"
   },
   {
    "duration": 202,
    "start_time": "2023-06-13T16:33:38.222Z"
   },
   {
    "duration": 178,
    "start_time": "2023-06-13T16:33:38.543Z"
   },
   {
    "duration": 54,
    "start_time": "2023-06-13T16:33:39.113Z"
   },
   {
    "duration": 33,
    "start_time": "2023-06-13T16:33:39.194Z"
   },
   {
    "duration": 2,
    "start_time": "2023-06-13T16:33:39.288Z"
   },
   {
    "duration": 36,
    "start_time": "2023-06-13T16:33:39.315Z"
   },
   {
    "duration": 22,
    "start_time": "2023-06-13T16:33:39.666Z"
   },
   {
    "duration": 37,
    "start_time": "2023-06-13T16:33:40.563Z"
   },
   {
    "duration": 13,
    "start_time": "2023-06-13T16:33:40.608Z"
   },
   {
    "duration": 9,
    "start_time": "2023-06-13T16:33:41.958Z"
   },
   {
    "duration": 4,
    "start_time": "2023-06-13T16:33:42.342Z"
   },
   {
    "duration": 12,
    "start_time": "2023-06-13T16:33:42.628Z"
   },
   {
    "duration": 6,
    "start_time": "2023-06-13T16:33:43.347Z"
   },
   {
    "duration": 9,
    "start_time": "2023-06-13T16:33:43.584Z"
   },
   {
    "duration": 4,
    "start_time": "2023-06-13T16:33:43.817Z"
   },
   {
    "duration": 10,
    "start_time": "2023-06-13T16:33:44.158Z"
   },
   {
    "duration": 3,
    "start_time": "2023-06-13T16:33:44.344Z"
   },
   {
    "duration": 7,
    "start_time": "2023-06-13T16:33:44.531Z"
   },
   {
    "duration": 10,
    "start_time": "2023-06-13T16:33:44.890Z"
   },
   {
    "duration": 9,
    "start_time": "2023-06-13T16:33:45.154Z"
   },
   {
    "duration": 3,
    "start_time": "2023-06-13T16:33:45.351Z"
   },
   {
    "duration": 5,
    "start_time": "2023-06-13T16:33:45.499Z"
   },
   {
    "duration": 3,
    "start_time": "2023-06-13T16:33:46.005Z"
   },
   {
    "duration": 2243,
    "start_time": "2023-06-13T16:33:46.180Z"
   },
   {
    "duration": 2,
    "start_time": "2023-06-13T16:33:48.425Z"
   },
   {
    "duration": 8,
    "start_time": "2023-06-13T16:33:48.428Z"
   },
   {
    "duration": 19,
    "start_time": "2023-06-13T16:33:48.438Z"
   },
   {
    "duration": 6,
    "start_time": "2023-06-13T16:33:48.458Z"
   },
   {
    "duration": 13,
    "start_time": "2023-06-13T16:33:49.255Z"
   },
   {
    "duration": 5,
    "start_time": "2023-06-13T16:33:49.633Z"
   },
   {
    "duration": 10,
    "start_time": "2023-06-13T16:33:49.985Z"
   },
   {
    "duration": 5,
    "start_time": "2023-06-13T16:33:50.157Z"
   },
   {
    "duration": 8,
    "start_time": "2023-06-13T16:33:50.501Z"
   },
   {
    "duration": 10,
    "start_time": "2023-06-13T16:33:50.684Z"
   },
   {
    "duration": 7,
    "start_time": "2023-06-13T16:33:50.856Z"
   },
   {
    "duration": 10,
    "start_time": "2023-06-13T16:33:51.156Z"
   },
   {
    "duration": 4,
    "start_time": "2023-06-13T16:33:51.311Z"
   },
   {
    "duration": 11,
    "start_time": "2023-06-13T16:33:51.497Z"
   },
   {
    "duration": 11,
    "start_time": "2023-06-13T16:33:51.650Z"
   },
   {
    "duration": 20,
    "start_time": "2023-06-13T16:33:51.811Z"
   },
   {
    "duration": 16,
    "start_time": "2023-06-13T16:33:51.985Z"
   },
   {
    "duration": 11,
    "start_time": "2023-06-13T16:33:52.264Z"
   },
   {
    "duration": 4,
    "start_time": "2023-06-13T16:33:52.600Z"
   },
   {
    "duration": 6,
    "start_time": "2023-06-13T16:33:52.778Z"
   },
   {
    "duration": 29,
    "start_time": "2023-06-13T16:33:53.111Z"
   },
   {
    "duration": 16,
    "start_time": "2023-06-13T16:33:53.785Z"
   },
   {
    "duration": 9,
    "start_time": "2023-06-13T16:33:54.496Z"
   },
   {
    "duration": 23,
    "start_time": "2023-06-13T16:33:54.758Z"
   },
   {
    "duration": 6,
    "start_time": "2023-06-13T16:33:55.386Z"
   },
   {
    "duration": 6,
    "start_time": "2023-06-13T16:33:55.683Z"
   },
   {
    "duration": 14,
    "start_time": "2023-06-13T16:33:55.960Z"
   },
   {
    "duration": 18,
    "start_time": "2023-06-13T16:33:56.304Z"
   },
   {
    "duration": 9,
    "start_time": "2023-06-13T16:33:57.047Z"
   },
   {
    "duration": 4,
    "start_time": "2023-06-13T16:34:00.988Z"
   },
   {
    "duration": 4,
    "start_time": "2023-06-13T16:34:01.184Z"
   },
   {
    "duration": 20,
    "start_time": "2023-06-13T16:34:01.383Z"
   },
   {
    "duration": 4,
    "start_time": "2023-06-13T16:34:03.097Z"
   },
   {
    "duration": 5,
    "start_time": "2023-06-13T16:34:05.520Z"
   },
   {
    "duration": 15,
    "start_time": "2023-06-13T16:34:06.011Z"
   },
   {
    "duration": 4,
    "start_time": "2023-06-13T16:34:06.507Z"
   },
   {
    "duration": 2,
    "start_time": "2023-06-13T16:34:10.140Z"
   },
   {
    "duration": 8,
    "start_time": "2023-06-13T16:34:51.846Z"
   },
   {
    "duration": 8,
    "start_time": "2023-06-13T16:34:52.884Z"
   },
   {
    "duration": 6,
    "start_time": "2023-06-13T16:34:54.760Z"
   },
   {
    "duration": 7,
    "start_time": "2023-06-13T16:34:54.953Z"
   },
   {
    "duration": 3,
    "start_time": "2023-06-13T16:34:56.780Z"
   },
   {
    "duration": 2,
    "start_time": "2023-06-13T16:34:56.972Z"
   },
   {
    "duration": 3,
    "start_time": "2023-06-13T16:34:57.142Z"
   },
   {
    "duration": 3,
    "start_time": "2023-06-13T16:34:57.302Z"
   },
   {
    "duration": 3,
    "start_time": "2023-06-13T16:34:57.632Z"
   },
   {
    "duration": 3,
    "start_time": "2023-06-13T16:34:57.784Z"
   },
   {
    "duration": 20,
    "start_time": "2023-06-13T16:35:10.118Z"
   },
   {
    "duration": 13,
    "start_time": "2023-06-13T16:37:32.881Z"
   },
   {
    "duration": 2054,
    "start_time": "2023-06-13T16:55:46.084Z"
   },
   {
    "duration": 2080,
    "start_time": "2023-06-13T16:55:48.140Z"
   },
   {
    "duration": 153,
    "start_time": "2023-06-13T16:55:50.221Z"
   },
   {
    "duration": 3,
    "start_time": "2023-06-13T16:55:50.376Z"
   },
   {
    "duration": 208,
    "start_time": "2023-06-13T16:55:50.381Z"
   },
   {
    "duration": 194,
    "start_time": "2023-06-13T16:55:50.591Z"
   },
   {
    "duration": 73,
    "start_time": "2023-06-13T16:55:50.786Z"
   },
   {
    "duration": 34,
    "start_time": "2023-06-13T16:55:50.860Z"
   },
   {
    "duration": 3,
    "start_time": "2023-06-13T16:55:50.896Z"
   },
   {
    "duration": 78,
    "start_time": "2023-06-13T16:55:50.900Z"
   },
   {
    "duration": 23,
    "start_time": "2023-06-13T16:55:50.979Z"
   },
   {
    "duration": 72,
    "start_time": "2023-06-13T16:55:51.003Z"
   },
   {
    "duration": 11,
    "start_time": "2023-06-13T16:55:51.077Z"
   },
   {
    "duration": 19,
    "start_time": "2023-06-13T16:55:51.090Z"
   },
   {
    "duration": 22,
    "start_time": "2023-06-13T16:55:51.110Z"
   },
   {
    "duration": 26,
    "start_time": "2023-06-13T16:55:51.133Z"
   },
   {
    "duration": 17,
    "start_time": "2023-06-13T16:55:51.161Z"
   },
   {
    "duration": 23,
    "start_time": "2023-06-13T16:55:51.180Z"
   },
   {
    "duration": 8,
    "start_time": "2023-06-13T16:55:51.204Z"
   },
   {
    "duration": 10,
    "start_time": "2023-06-13T16:55:51.247Z"
   },
   {
    "duration": 3,
    "start_time": "2023-06-13T16:55:51.777Z"
   },
   {
    "duration": 9,
    "start_time": "2023-06-13T16:55:51.827Z"
   },
   {
    "duration": 9,
    "start_time": "2023-06-13T16:55:51.902Z"
   },
   {
    "duration": 9,
    "start_time": "2023-06-13T16:55:51.949Z"
   },
   {
    "duration": 3,
    "start_time": "2023-06-13T16:55:52.015Z"
   },
   {
    "duration": 5,
    "start_time": "2023-06-13T16:55:52.023Z"
   },
   {
    "duration": 3,
    "start_time": "2023-06-13T16:55:53.786Z"
   },
   {
    "duration": 2264,
    "start_time": "2023-06-13T16:55:53.994Z"
   },
   {
    "duration": 2,
    "start_time": "2023-06-13T16:55:56.260Z"
   },
   {
    "duration": 18,
    "start_time": "2023-06-13T16:55:56.264Z"
   },
   {
    "duration": 16,
    "start_time": "2023-06-13T16:55:56.284Z"
   },
   {
    "duration": 20,
    "start_time": "2023-06-13T16:55:56.301Z"
   },
   {
    "duration": 24,
    "start_time": "2023-06-13T16:55:56.322Z"
   },
   {
    "duration": 10,
    "start_time": "2023-06-13T16:55:56.347Z"
   },
   {
    "duration": 19,
    "start_time": "2023-06-13T16:55:56.358Z"
   },
   {
    "duration": 5,
    "start_time": "2023-06-13T16:55:56.695Z"
   },
   {
    "duration": 8,
    "start_time": "2023-06-13T16:55:57.251Z"
   },
   {
    "duration": 13,
    "start_time": "2023-06-13T16:55:57.328Z"
   },
   {
    "duration": 7,
    "start_time": "2023-06-13T16:55:57.353Z"
   },
   {
    "duration": 10,
    "start_time": "2023-06-13T16:55:57.436Z"
   },
   {
    "duration": 4,
    "start_time": "2023-06-13T16:55:57.487Z"
   },
   {
    "duration": 12,
    "start_time": "2023-06-13T16:55:57.522Z"
   },
   {
    "duration": 11,
    "start_time": "2023-06-13T16:55:57.560Z"
   },
   {
    "duration": 17,
    "start_time": "2023-06-13T16:55:57.618Z"
   },
   {
    "duration": 15,
    "start_time": "2023-06-13T16:55:57.641Z"
   },
   {
    "duration": 11,
    "start_time": "2023-06-13T16:55:58.027Z"
   },
   {
    "duration": 4,
    "start_time": "2023-06-13T16:55:58.310Z"
   },
   {
    "duration": 6,
    "start_time": "2023-06-13T16:55:58.665Z"
   },
   {
    "duration": 27,
    "start_time": "2023-06-13T16:55:59.536Z"
   },
   {
    "duration": 18,
    "start_time": "2023-06-13T16:56:01.081Z"
   },
   {
    "duration": 9,
    "start_time": "2023-06-13T16:56:01.434Z"
   },
   {
    "duration": 27,
    "start_time": "2023-06-13T16:56:01.623Z"
   },
   {
    "duration": 6,
    "start_time": "2023-06-13T16:56:02.006Z"
   },
   {
    "duration": 6,
    "start_time": "2023-06-13T16:56:02.147Z"
   },
   {
    "duration": 14,
    "start_time": "2023-06-13T16:56:02.314Z"
   },
   {
    "duration": 19,
    "start_time": "2023-06-13T16:56:02.475Z"
   },
   {
    "duration": 10,
    "start_time": "2023-06-13T16:56:02.863Z"
   },
   {
    "duration": 4,
    "start_time": "2023-06-13T16:56:04.188Z"
   },
   {
    "duration": 19,
    "start_time": "2023-06-13T16:56:04.357Z"
   },
   {
    "duration": 3,
    "start_time": "2023-06-13T16:56:04.528Z"
   },
   {
    "duration": 5,
    "start_time": "2023-06-13T16:56:04.823Z"
   },
   {
    "duration": 14,
    "start_time": "2023-06-13T16:56:05.310Z"
   },
   {
    "duration": 3,
    "start_time": "2023-06-13T16:56:05.484Z"
   },
   {
    "duration": 3,
    "start_time": "2023-06-13T16:56:07.385Z"
   },
   {
    "duration": 8,
    "start_time": "2023-06-13T16:56:08.018Z"
   },
   {
    "duration": 8,
    "start_time": "2023-06-13T16:56:08.340Z"
   },
   {
    "duration": 6,
    "start_time": "2023-06-13T16:56:10.222Z"
   },
   {
    "duration": 8,
    "start_time": "2023-06-13T16:56:10.384Z"
   },
   {
    "duration": 2,
    "start_time": "2023-06-13T16:56:10.531Z"
   },
   {
    "duration": 3,
    "start_time": "2023-06-13T16:56:10.681Z"
   },
   {
    "duration": 3,
    "start_time": "2023-06-13T16:56:10.855Z"
   },
   {
    "duration": 3,
    "start_time": "2023-06-13T16:56:11.015Z"
   },
   {
    "duration": 3,
    "start_time": "2023-06-13T16:56:11.329Z"
   },
   {
    "duration": 3,
    "start_time": "2023-06-13T16:56:11.728Z"
   },
   {
    "duration": 2,
    "start_time": "2023-06-13T16:58:31.107Z"
   },
   {
    "duration": 3,
    "start_time": "2023-06-13T16:58:31.311Z"
   },
   {
    "duration": 2285,
    "start_time": "2023-06-13T16:59:34.818Z"
   },
   {
    "duration": 102,
    "start_time": "2023-06-13T16:59:48.129Z"
   },
   {
    "duration": 2093,
    "start_time": "2023-06-13T16:59:58.284Z"
   },
   {
    "duration": 2072,
    "start_time": "2023-06-13T17:00:32.228Z"
   },
   {
    "duration": 4,
    "start_time": "2023-06-13T17:01:45.726Z"
   },
   {
    "duration": 13,
    "start_time": "2023-06-13T17:02:22.019Z"
   },
   {
    "duration": 11,
    "start_time": "2023-06-13T17:02:30.885Z"
   },
   {
    "duration": 313,
    "start_time": "2023-06-13T17:02:40.565Z"
   },
   {
    "duration": 10,
    "start_time": "2023-06-13T17:02:58.531Z"
   },
   {
    "duration": 9,
    "start_time": "2023-06-13T17:03:11.033Z"
   },
   {
    "duration": 9,
    "start_time": "2023-06-13T17:03:15.407Z"
   },
   {
    "duration": 9,
    "start_time": "2023-06-13T17:03:23.278Z"
   },
   {
    "duration": 19,
    "start_time": "2023-06-13T17:04:03.702Z"
   },
   {
    "duration": 17,
    "start_time": "2023-06-13T17:05:02.103Z"
   },
   {
    "duration": 11,
    "start_time": "2023-06-13T17:06:14.585Z"
   },
   {
    "duration": 10,
    "start_time": "2023-06-13T17:06:33.676Z"
   },
   {
    "duration": 105,
    "start_time": "2023-06-13T17:07:02.519Z"
   },
   {
    "duration": 3204,
    "start_time": "2023-06-14T23:27:09.954Z"
   },
   {
    "duration": 3012,
    "start_time": "2023-06-14T23:27:13.160Z"
   },
   {
    "duration": 413,
    "start_time": "2023-06-14T23:27:16.174Z"
   },
   {
    "duration": 3,
    "start_time": "2023-06-14T23:27:17.184Z"
   },
   {
    "duration": 191,
    "start_time": "2023-06-14T23:27:17.683Z"
   },
   {
    "duration": 164,
    "start_time": "2023-06-14T23:27:18.581Z"
   },
   {
    "duration": 47,
    "start_time": "2023-06-14T23:27:19.241Z"
   },
   {
    "duration": 32,
    "start_time": "2023-06-14T23:27:19.993Z"
   },
   {
    "duration": 3,
    "start_time": "2023-06-14T23:27:20.082Z"
   },
   {
    "duration": 34,
    "start_time": "2023-06-14T23:27:20.130Z"
   },
   {
    "duration": 20,
    "start_time": "2023-06-14T23:27:20.211Z"
   },
   {
    "duration": 27,
    "start_time": "2023-06-14T23:27:20.721Z"
   },
   {
    "duration": 12,
    "start_time": "2023-06-14T23:27:20.967Z"
   },
   {
    "duration": 9,
    "start_time": "2023-06-14T23:27:23.920Z"
   },
   {
    "duration": 4,
    "start_time": "2023-06-14T23:27:24.611Z"
   },
   {
    "duration": 3,
    "start_time": "2023-06-14T23:27:25.047Z"
   },
   {
    "duration": 25,
    "start_time": "2023-06-14T23:27:25.283Z"
   },
   {
    "duration": 2,
    "start_time": "2023-06-14T23:27:25.613Z"
   },
   {
    "duration": 3,
    "start_time": "2023-06-14T23:27:26.224Z"
   },
   {
    "duration": 2,
    "start_time": "2023-06-14T23:27:26.448Z"
   },
   {
    "duration": 2,
    "start_time": "2023-06-14T23:27:26.694Z"
   },
   {
    "duration": 2,
    "start_time": "2023-06-14T23:27:27.040Z"
   },
   {
    "duration": 2,
    "start_time": "2023-06-14T23:27:27.302Z"
   },
   {
    "duration": 2,
    "start_time": "2023-06-14T23:27:27.582Z"
   },
   {
    "duration": 8,
    "start_time": "2023-06-14T23:27:28.147Z"
   },
   {
    "duration": 9,
    "start_time": "2023-06-14T23:27:28.361Z"
   },
   {
    "duration": 3,
    "start_time": "2023-06-14T23:27:28.620Z"
   },
   {
    "duration": 5,
    "start_time": "2023-06-14T23:27:29.059Z"
   },
   {
    "duration": 4,
    "start_time": "2023-06-14T23:27:29.809Z"
   },
   {
    "duration": 1718,
    "start_time": "2023-06-14T23:27:30.417Z"
   },
   {
    "duration": 3,
    "start_time": "2023-06-14T23:27:32.137Z"
   },
   {
    "duration": 28,
    "start_time": "2023-06-14T23:27:32.141Z"
   },
   {
    "duration": 7,
    "start_time": "2023-06-14T23:27:32.170Z"
   },
   {
    "duration": 9,
    "start_time": "2023-06-14T23:27:32.328Z"
   },
   {
    "duration": 73,
    "start_time": "2023-06-14T23:27:33.050Z"
   },
   {
    "duration": 6,
    "start_time": "2023-06-14T23:27:33.688Z"
   },
   {
    "duration": 8,
    "start_time": "2023-06-14T23:27:34.116Z"
   },
   {
    "duration": 5,
    "start_time": "2023-06-14T23:27:34.418Z"
   },
   {
    "duration": 8,
    "start_time": "2023-06-14T23:27:35.040Z"
   },
   {
    "duration": 11,
    "start_time": "2023-06-14T23:27:35.329Z"
   },
   {
    "duration": 6,
    "start_time": "2023-06-14T23:27:35.586Z"
   },
   {
    "duration": 12,
    "start_time": "2023-06-14T23:27:35.985Z"
   },
   {
    "duration": 3,
    "start_time": "2023-06-14T23:27:36.185Z"
   },
   {
    "duration": 11,
    "start_time": "2023-06-14T23:27:36.379Z"
   },
   {
    "duration": 11,
    "start_time": "2023-06-14T23:27:36.713Z"
   },
   {
    "duration": 18,
    "start_time": "2023-06-14T23:27:37.288Z"
   },
   {
    "duration": 16,
    "start_time": "2023-06-14T23:27:37.539Z"
   },
   {
    "duration": 10,
    "start_time": "2023-06-14T23:27:38.556Z"
   },
   {
    "duration": 4,
    "start_time": "2023-06-14T23:27:38.754Z"
   },
   {
    "duration": 6,
    "start_time": "2023-06-14T23:27:38.980Z"
   },
   {
    "duration": 25,
    "start_time": "2023-06-14T23:27:39.594Z"
   },
   {
    "duration": 18,
    "start_time": "2023-06-14T23:27:40.244Z"
   },
   {
    "duration": 9,
    "start_time": "2023-06-14T23:27:40.910Z"
   },
   {
    "duration": 21,
    "start_time": "2023-06-14T23:27:41.184Z"
   },
   {
    "duration": 6,
    "start_time": "2023-06-14T23:27:42.018Z"
   },
   {
    "duration": 6,
    "start_time": "2023-06-14T23:27:42.282Z"
   },
   {
    "duration": 12,
    "start_time": "2023-06-14T23:27:42.552Z"
   },
   {
    "duration": 16,
    "start_time": "2023-06-14T23:27:42.791Z"
   },
   {
    "duration": 9,
    "start_time": "2023-06-14T23:27:43.386Z"
   },
   {
    "duration": 4,
    "start_time": "2023-06-14T23:27:43.683Z"
   },
   {
    "duration": 17,
    "start_time": "2023-06-14T23:27:44.002Z"
   },
   {
    "duration": 3,
    "start_time": "2023-06-14T23:27:44.375Z"
   },
   {
    "duration": 5,
    "start_time": "2023-06-14T23:27:44.973Z"
   },
   {
    "duration": 13,
    "start_time": "2023-06-14T23:27:45.512Z"
   },
   {
    "duration": 4,
    "start_time": "2023-06-14T23:27:45.954Z"
   },
   {
    "duration": 2,
    "start_time": "2023-06-14T23:27:47.004Z"
   },
   {
    "duration": 7,
    "start_time": "2023-06-14T23:27:51.605Z"
   },
   {
    "duration": 7,
    "start_time": "2023-06-14T23:27:52.234Z"
   },
   {
    "duration": 6,
    "start_time": "2023-06-14T23:27:55.043Z"
   },
   {
    "duration": 6,
    "start_time": "2023-06-14T23:27:56.486Z"
   },
   {
    "duration": 95,
    "start_time": "2023-06-14T23:33:16.281Z"
   },
   {
    "duration": 90,
    "start_time": "2023-06-14T23:34:12.111Z"
   },
   {
    "duration": 89,
    "start_time": "2023-06-14T23:34:18.046Z"
   },
   {
    "duration": 526,
    "start_time": "2023-06-14T23:40:21.625Z"
   },
   {
    "duration": 127,
    "start_time": "2023-06-14T23:40:50.730Z"
   },
   {
    "duration": 26,
    "start_time": "2023-06-14T23:41:18.913Z"
   },
   {
    "duration": 30,
    "start_time": "2023-06-14T23:41:38.184Z"
   },
   {
    "duration": 10,
    "start_time": "2023-06-14T23:42:02.805Z"
   },
   {
    "duration": 11,
    "start_time": "2023-06-14T23:42:30.247Z"
   },
   {
    "duration": 4,
    "start_time": "2023-06-14T23:42:41.493Z"
   },
   {
    "duration": 10,
    "start_time": "2023-06-14T23:42:51.100Z"
   },
   {
    "duration": 6,
    "start_time": "2023-06-14T23:42:58.491Z"
   },
   {
    "duration": 42,
    "start_time": "2023-06-14T23:44:42.915Z"
   },
   {
    "duration": 40,
    "start_time": "2023-06-14T23:46:11.579Z"
   },
   {
    "duration": 43,
    "start_time": "2023-06-14T23:46:45.587Z"
   },
   {
    "duration": 33,
    "start_time": "2023-06-14T23:47:54.693Z"
   },
   {
    "duration": 5241,
    "start_time": "2023-06-14T23:50:29.688Z"
   },
   {
    "duration": 65,
    "start_time": "2023-06-14T23:50:56.832Z"
   },
   {
    "duration": 3,
    "start_time": "2023-06-14T23:55:08.030Z"
   },
   {
    "duration": 5,
    "start_time": "2023-06-14T23:55:32.989Z"
   },
   {
    "duration": 3,
    "start_time": "2023-06-14T23:55:48.523Z"
   },
   {
    "duration": 3,
    "start_time": "2023-06-14T23:56:02.857Z"
   },
   {
    "duration": 72,
    "start_time": "2023-06-14T23:56:25.422Z"
   },
   {
    "duration": 26,
    "start_time": "2023-06-14T23:57:39.721Z"
   },
   {
    "duration": 74,
    "start_time": "2023-06-14T23:58:08.088Z"
   },
   {
    "duration": 66,
    "start_time": "2023-06-14T23:59:48.481Z"
   },
   {
    "duration": 73,
    "start_time": "2023-06-15T00:00:49.494Z"
   },
   {
    "duration": 70,
    "start_time": "2023-06-15T00:02:10.392Z"
   },
   {
    "duration": 68,
    "start_time": "2023-06-15T00:02:32.838Z"
   },
   {
    "duration": 68,
    "start_time": "2023-06-15T00:02:46.496Z"
   },
   {
    "duration": 65,
    "start_time": "2023-06-15T00:04:58.331Z"
   },
   {
    "duration": 3,
    "start_time": "2023-06-15T00:05:45.793Z"
   },
   {
    "duration": 5,
    "start_time": "2023-06-15T00:05:54.989Z"
   },
   {
    "duration": 3,
    "start_time": "2023-06-15T00:05:59.624Z"
   },
   {
    "duration": 65,
    "start_time": "2023-06-15T00:07:56.714Z"
   },
   {
    "duration": 13,
    "start_time": "2023-06-15T00:09:35.899Z"
   },
   {
    "duration": 11,
    "start_time": "2023-06-15T00:11:00.747Z"
   },
   {
    "duration": 12,
    "start_time": "2023-06-15T00:11:11.107Z"
   },
   {
    "duration": 68,
    "start_time": "2023-06-15T00:14:59.012Z"
   },
   {
    "duration": 15,
    "start_time": "2023-06-15T00:17:09.910Z"
   },
   {
    "duration": 96,
    "start_time": "2023-06-15T00:19:05.588Z"
   },
   {
    "duration": 607,
    "start_time": "2023-06-15T00:19:19.124Z"
   },
   {
    "duration": 16,
    "start_time": "2023-06-15T00:19:41.473Z"
   },
   {
    "duration": 67,
    "start_time": "2023-06-15T00:21:34.985Z"
   },
   {
    "duration": 76,
    "start_time": "2023-06-15T00:22:06.686Z"
   },
   {
    "duration": 69,
    "start_time": "2023-06-15T00:22:20.986Z"
   },
   {
    "duration": 32,
    "start_time": "2023-06-15T00:22:49.880Z"
   },
   {
    "duration": 69,
    "start_time": "2023-06-15T00:23:31.159Z"
   },
   {
    "duration": 69,
    "start_time": "2023-06-15T00:23:40.988Z"
   },
   {
    "duration": 27,
    "start_time": "2023-06-15T00:24:01.055Z"
   },
   {
    "duration": 236788,
    "start_time": "2023-06-15T00:24:34.983Z"
   },
   {
    "duration": 3,
    "start_time": "2023-06-15T00:29:24.946Z"
   },
   {
    "duration": 36,
    "start_time": "2023-06-15T00:31:06.615Z"
   },
   {
    "duration": 3,
    "start_time": "2023-06-15T00:32:45.714Z"
   },
   {
    "duration": 44,
    "start_time": "2023-06-15T00:35:00.699Z"
   },
   {
    "duration": 42,
    "start_time": "2023-06-15T00:35:28.770Z"
   },
   {
    "duration": 37,
    "start_time": "2023-06-15T00:36:03.074Z"
   },
   {
    "duration": 47,
    "start_time": "2023-06-15T00:36:12.506Z"
   },
   {
    "duration": 54,
    "start_time": "2023-06-15T00:38:27.825Z"
   },
   {
    "duration": 55,
    "start_time": "2023-06-15T00:39:07.422Z"
   },
   {
    "duration": 48,
    "start_time": "2023-06-15T00:39:26.826Z"
   },
   {
    "duration": 48,
    "start_time": "2023-06-15T00:39:40.757Z"
   },
   {
    "duration": 51,
    "start_time": "2023-06-15T00:39:48.642Z"
   },
   {
    "duration": 50,
    "start_time": "2023-06-15T00:40:14.405Z"
   },
   {
    "duration": 54,
    "start_time": "2023-06-15T00:40:41.295Z"
   },
   {
    "duration": 55,
    "start_time": "2023-06-15T00:40:51.625Z"
   },
   {
    "duration": 39,
    "start_time": "2023-06-15T00:41:14.758Z"
   },
   {
    "duration": 38,
    "start_time": "2023-06-15T00:41:28.285Z"
   },
   {
    "duration": 47,
    "start_time": "2023-06-15T00:41:38.183Z"
   },
   {
    "duration": 46,
    "start_time": "2023-06-15T00:41:53.148Z"
   },
   {
    "duration": 45,
    "start_time": "2023-06-15T00:41:59.284Z"
   },
   {
    "duration": 46,
    "start_time": "2023-06-15T00:42:06.236Z"
   },
   {
    "duration": 44,
    "start_time": "2023-06-15T00:42:20.753Z"
   },
   {
    "duration": 41,
    "start_time": "2023-06-15T00:42:49.694Z"
   },
   {
    "duration": 42,
    "start_time": "2023-06-15T00:43:11.091Z"
   },
   {
    "duration": 43,
    "start_time": "2023-06-15T00:43:23.534Z"
   },
   {
    "duration": 91,
    "start_time": "2023-06-15T00:43:34.217Z"
   },
   {
    "duration": 85,
    "start_time": "2023-06-15T00:43:40.436Z"
   },
   {
    "duration": 42,
    "start_time": "2023-06-15T00:43:47.105Z"
   },
   {
    "duration": 38,
    "start_time": "2023-06-15T00:43:54.478Z"
   },
   {
    "duration": 43,
    "start_time": "2023-06-15T00:44:12.496Z"
   },
   {
    "duration": 44,
    "start_time": "2023-06-15T00:44:24.124Z"
   },
   {
    "duration": 44,
    "start_time": "2023-06-15T00:44:30.818Z"
   },
   {
    "duration": 44,
    "start_time": "2023-06-15T00:44:38.427Z"
   },
   {
    "duration": 50,
    "start_time": "2023-06-15T00:44:42.057Z"
   },
   {
    "duration": 40,
    "start_time": "2023-06-15T00:44:51.740Z"
   },
   {
    "duration": 38,
    "start_time": "2023-06-15T00:45:27.959Z"
   },
   {
    "duration": 51,
    "start_time": "2023-06-15T00:45:43.283Z"
   },
   {
    "duration": 47,
    "start_time": "2023-06-15T00:46:50.320Z"
   },
   {
    "duration": 51,
    "start_time": "2023-06-15T00:47:04.823Z"
   },
   {
    "duration": 55,
    "start_time": "2023-06-15T00:48:38.025Z"
   },
   {
    "duration": 50,
    "start_time": "2023-06-15T00:49:45.561Z"
   },
   {
    "duration": 114,
    "start_time": "2023-06-15T00:50:43.386Z"
   },
   {
    "duration": 50,
    "start_time": "2023-06-15T00:51:13.662Z"
   },
   {
    "duration": 32,
    "start_time": "2023-06-15T00:51:51.197Z"
   },
   {
    "duration": 43,
    "start_time": "2023-06-15T00:52:06.840Z"
   },
   {
    "duration": 31,
    "start_time": "2023-06-15T00:52:14.452Z"
   },
   {
    "duration": 82,
    "start_time": "2023-06-15T00:52:35.887Z"
   },
   {
    "duration": 37,
    "start_time": "2023-06-15T00:52:55.152Z"
   },
   {
    "duration": 43,
    "start_time": "2023-06-15T00:53:49.384Z"
   },
   {
    "duration": 34,
    "start_time": "2023-06-15T00:54:46.150Z"
   },
   {
    "duration": 34,
    "start_time": "2023-06-15T00:54:55.753Z"
   },
   {
    "duration": 83,
    "start_time": "2023-06-15T00:56:20.506Z"
   },
   {
    "duration": 98,
    "start_time": "2023-06-15T00:56:32.336Z"
   },
   {
    "duration": 67,
    "start_time": "2023-06-15T00:57:04.985Z"
   },
   {
    "duration": 65,
    "start_time": "2023-06-15T00:57:12.558Z"
   },
   {
    "duration": 8001,
    "start_time": "2023-06-15T00:57:26.220Z"
   },
   {
    "duration": 70,
    "start_time": "2023-06-15T00:57:36.941Z"
   },
   {
    "duration": 7901,
    "start_time": "2023-06-15T00:57:57.655Z"
   },
   {
    "duration": 7554,
    "start_time": "2023-06-15T00:58:11.699Z"
   },
   {
    "duration": 8521,
    "start_time": "2023-06-15T00:58:58.299Z"
   },
   {
    "duration": 65,
    "start_time": "2023-06-15T00:59:14.643Z"
   },
   {
    "duration": 67,
    "start_time": "2023-06-15T00:59:23.041Z"
   },
   {
    "duration": 9076,
    "start_time": "2023-06-15T00:59:30.029Z"
   },
   {
    "duration": 33,
    "start_time": "2023-06-15T01:00:22.860Z"
   },
   {
    "duration": 32,
    "start_time": "2023-06-15T01:00:49.422Z"
   },
   {
    "duration": 34,
    "start_time": "2023-06-15T01:01:03.364Z"
   },
   {
    "duration": 7503,
    "start_time": "2023-06-15T01:01:18.452Z"
   },
   {
    "duration": 8243,
    "start_time": "2023-06-15T01:01:32.121Z"
   },
   {
    "duration": 35,
    "start_time": "2023-06-15T01:05:31.701Z"
   },
   {
    "duration": 68,
    "start_time": "2023-06-15T01:06:29.374Z"
   },
   {
    "duration": 4,
    "start_time": "2023-06-15T01:06:59.822Z"
   },
   {
    "duration": 5,
    "start_time": "2023-06-15T01:07:30.717Z"
   },
   {
    "duration": 3,
    "start_time": "2023-06-15T01:07:49.038Z"
   },
   {
    "duration": 79,
    "start_time": "2023-06-15T01:07:55.687Z"
   },
   {
    "duration": 70,
    "start_time": "2023-06-15T01:08:04.055Z"
   },
   {
    "duration": 11,
    "start_time": "2023-06-15T01:08:44.460Z"
   },
   {
    "duration": 102,
    "start_time": "2023-06-15T01:14:40.140Z"
   },
   {
    "duration": 46,
    "start_time": "2023-06-15T01:14:49.388Z"
   },
   {
    "duration": 43,
    "start_time": "2023-06-15T01:14:57.417Z"
   },
   {
    "duration": 39,
    "start_time": "2023-06-15T01:15:11.779Z"
   },
   {
    "duration": 38,
    "start_time": "2023-06-15T01:15:35.732Z"
   },
   {
    "duration": 40,
    "start_time": "2023-06-15T01:15:52.422Z"
   },
   {
    "duration": 39,
    "start_time": "2023-06-15T01:16:09.546Z"
   },
   {
    "duration": 40,
    "start_time": "2023-06-15T01:16:20.549Z"
   },
   {
    "duration": 36,
    "start_time": "2023-06-15T01:16:30.048Z"
   },
   {
    "duration": 34,
    "start_time": "2023-06-15T01:16:43.552Z"
   },
   {
    "duration": 1898,
    "start_time": "2023-06-15T01:29:33.921Z"
   },
   {
    "duration": 1991,
    "start_time": "2023-06-15T01:29:35.822Z"
   },
   {
    "duration": 133,
    "start_time": "2023-06-15T01:29:37.814Z"
   },
   {
    "duration": 4,
    "start_time": "2023-06-15T01:29:37.949Z"
   },
   {
    "duration": 236,
    "start_time": "2023-06-15T01:29:37.955Z"
   },
   {
    "duration": 197,
    "start_time": "2023-06-15T01:29:38.193Z"
   },
   {
    "duration": 52,
    "start_time": "2023-06-15T01:29:38.392Z"
   },
   {
    "duration": 62,
    "start_time": "2023-06-15T01:29:38.445Z"
   },
   {
    "duration": 2,
    "start_time": "2023-06-15T01:29:38.509Z"
   },
   {
    "duration": 69,
    "start_time": "2023-06-15T01:29:38.513Z"
   },
   {
    "duration": 24,
    "start_time": "2023-06-15T01:29:38.583Z"
   },
   {
    "duration": 31,
    "start_time": "2023-06-15T01:29:38.608Z"
   },
   {
    "duration": 14,
    "start_time": "2023-06-15T01:29:38.640Z"
   },
   {
    "duration": 9,
    "start_time": "2023-06-15T01:29:40.058Z"
   },
   {
    "duration": 4,
    "start_time": "2023-06-15T01:29:40.103Z"
   },
   {
    "duration": 4,
    "start_time": "2023-06-15T01:29:40.170Z"
   },
   {
    "duration": 28,
    "start_time": "2023-06-15T01:29:40.419Z"
   },
   {
    "duration": 2,
    "start_time": "2023-06-15T01:29:40.950Z"
   },
   {
    "duration": 2,
    "start_time": "2023-06-15T01:29:41.295Z"
   },
   {
    "duration": 2,
    "start_time": "2023-06-15T01:29:41.452Z"
   },
   {
    "duration": 2,
    "start_time": "2023-06-15T01:29:41.611Z"
   },
   {
    "duration": 2,
    "start_time": "2023-06-15T01:29:41.734Z"
   },
   {
    "duration": 3,
    "start_time": "2023-06-15T01:29:41.916Z"
   },
   {
    "duration": 2,
    "start_time": "2023-06-15T01:29:42.036Z"
   },
   {
    "duration": 9,
    "start_time": "2023-06-15T01:29:42.309Z"
   },
   {
    "duration": 9,
    "start_time": "2023-06-15T01:29:42.440Z"
   },
   {
    "duration": 4,
    "start_time": "2023-06-15T01:29:42.584Z"
   },
   {
    "duration": 5,
    "start_time": "2023-06-15T01:29:42.859Z"
   },
   {
    "duration": 2,
    "start_time": "2023-06-15T01:29:43.376Z"
   },
   {
    "duration": 1733,
    "start_time": "2023-06-15T01:29:43.529Z"
   },
   {
    "duration": 2,
    "start_time": "2023-06-15T01:29:45.264Z"
   },
   {
    "duration": 9,
    "start_time": "2023-06-15T01:29:45.267Z"
   },
   {
    "duration": 6,
    "start_time": "2023-06-15T01:29:45.277Z"
   },
   {
    "duration": 18,
    "start_time": "2023-06-15T01:29:45.284Z"
   },
   {
    "duration": 12,
    "start_time": "2023-06-15T01:29:45.303Z"
   },
   {
    "duration": 11,
    "start_time": "2023-06-15T01:29:45.316Z"
   },
   {
    "duration": 9,
    "start_time": "2023-06-15T01:29:45.424Z"
   },
   {
    "duration": 5,
    "start_time": "2023-06-15T01:29:45.548Z"
   },
   {
    "duration": 8,
    "start_time": "2023-06-15T01:29:45.995Z"
   },
   {
    "duration": 10,
    "start_time": "2023-06-15T01:29:46.140Z"
   },
   {
    "duration": 6,
    "start_time": "2023-06-15T01:29:46.305Z"
   },
   {
    "duration": 9,
    "start_time": "2023-06-15T01:29:46.704Z"
   },
   {
    "duration": 3,
    "start_time": "2023-06-15T01:29:46.854Z"
   },
   {
    "duration": 10,
    "start_time": "2023-06-15T01:29:47.112Z"
   },
   {
    "duration": 10,
    "start_time": "2023-06-15T01:29:47.275Z"
   },
   {
    "duration": 16,
    "start_time": "2023-06-15T01:29:47.402Z"
   },
   {
    "duration": 14,
    "start_time": "2023-06-15T01:29:47.685Z"
   },
   {
    "duration": 10,
    "start_time": "2023-06-15T01:29:48.036Z"
   },
   {
    "duration": 4,
    "start_time": "2023-06-15T01:29:48.201Z"
   },
   {
    "duration": 6,
    "start_time": "2023-06-15T01:29:48.345Z"
   },
   {
    "duration": 25,
    "start_time": "2023-06-15T01:29:48.637Z"
   },
   {
    "duration": 14,
    "start_time": "2023-06-15T01:29:48.904Z"
   },
   {
    "duration": 8,
    "start_time": "2023-06-15T01:29:49.200Z"
   },
   {
    "duration": 21,
    "start_time": "2023-06-15T01:29:49.347Z"
   },
   {
    "duration": 5,
    "start_time": "2023-06-15T01:29:49.687Z"
   },
   {
    "duration": 6,
    "start_time": "2023-06-15T01:29:50.615Z"
   },
   {
    "duration": 12,
    "start_time": "2023-06-15T01:29:50.785Z"
   },
   {
    "duration": 16,
    "start_time": "2023-06-15T01:29:50.934Z"
   },
   {
    "duration": 9,
    "start_time": "2023-06-15T01:29:52.609Z"
   },
   {
    "duration": 4,
    "start_time": "2023-06-15T01:29:52.826Z"
   },
   {
    "duration": 18,
    "start_time": "2023-06-15T01:29:53.003Z"
   },
   {
    "duration": 4,
    "start_time": "2023-06-15T01:29:53.130Z"
   },
   {
    "duration": 5,
    "start_time": "2023-06-15T01:29:54.975Z"
   },
   {
    "duration": 13,
    "start_time": "2023-06-15T01:29:55.567Z"
   },
   {
    "duration": 3,
    "start_time": "2023-06-15T01:29:55.750Z"
   },
   {
    "duration": 2,
    "start_time": "2023-06-15T01:29:56.636Z"
   },
   {
    "duration": 7,
    "start_time": "2023-06-15T01:29:58.543Z"
   },
   {
    "duration": 7,
    "start_time": "2023-06-15T01:29:58.953Z"
   },
   {
    "duration": 5,
    "start_time": "2023-06-15T01:30:00.487Z"
   },
   {
    "duration": 6,
    "start_time": "2023-06-15T01:30:00.636Z"
   },
   {
    "duration": 2,
    "start_time": "2023-06-15T01:30:00.786Z"
   },
   {
    "duration": 3,
    "start_time": "2023-06-15T01:30:03.221Z"
   },
   {
    "duration": 3,
    "start_time": "2023-06-15T01:30:04.081Z"
   },
   {
    "duration": 3,
    "start_time": "2023-06-15T01:30:04.417Z"
   },
   {
    "duration": 3,
    "start_time": "2023-06-15T01:30:05.412Z"
   },
   {
    "duration": 2,
    "start_time": "2023-06-15T01:30:07.079Z"
   },
   {
    "duration": 36,
    "start_time": "2023-06-15T01:30:08.501Z"
   },
   {
    "duration": 8738,
    "start_time": "2023-06-15T01:30:12.150Z"
   },
   {
    "duration": 10,
    "start_time": "2023-06-17T12:21:14.698Z"
   },
   {
    "duration": 4,
    "start_time": "2023-06-17T12:33:46.601Z"
   },
   {
    "duration": 4,
    "start_time": "2023-06-17T12:33:49.336Z"
   },
   {
    "duration": 3,
    "start_time": "2023-06-17T12:35:25.838Z"
   },
   {
    "duration": 4,
    "start_time": "2023-06-17T12:35:31.616Z"
   },
   {
    "duration": 3,
    "start_time": "2023-06-17T12:35:31.784Z"
   },
   {
    "duration": 5,
    "start_time": "2023-06-17T12:37:19.778Z"
   },
   {
    "duration": 3,
    "start_time": "2023-06-17T12:37:23.757Z"
   },
   {
    "duration": 3,
    "start_time": "2023-06-17T12:43:42.308Z"
   },
   {
    "duration": 2,
    "start_time": "2023-06-17T12:46:37.455Z"
   },
   {
    "duration": 4,
    "start_time": "2023-06-17T12:47:08.856Z"
   },
   {
    "duration": 4,
    "start_time": "2023-06-17T12:51:06.301Z"
   },
   {
    "duration": 4,
    "start_time": "2023-06-17T12:51:41.502Z"
   },
   {
    "duration": 3,
    "start_time": "2023-06-17T13:04:56.520Z"
   },
   {
    "duration": 3,
    "start_time": "2023-06-17T13:05:50.629Z"
   },
   {
    "duration": 3,
    "start_time": "2023-06-17T13:06:23.717Z"
   },
   {
    "duration": 7,
    "start_time": "2023-06-17T13:06:50.794Z"
   },
   {
    "duration": 4,
    "start_time": "2023-06-17T13:08:38.328Z"
   },
   {
    "duration": 175,
    "start_time": "2023-06-17T13:23:25.709Z"
   },
   {
    "duration": 916,
    "start_time": "2023-06-17T13:23:34.057Z"
   },
   {
    "duration": 126,
    "start_time": "2023-06-17T13:24:56.321Z"
   },
   {
    "duration": 986,
    "start_time": "2023-06-17T13:25:10.396Z"
   },
   {
    "duration": 115,
    "start_time": "2023-06-17T13:38:10.924Z"
   },
   {
    "duration": 121,
    "start_time": "2023-06-17T13:38:15.413Z"
   },
   {
    "duration": 9828,
    "start_time": "2023-06-17T13:38:26.046Z"
   }
  ],
  "kernelspec": {
   "display_name": "Python 3 (ipykernel)",
   "language": "python",
   "name": "python3"
  },
  "language_info": {
   "codemirror_mode": {
    "name": "ipython",
    "version": 3
   },
   "file_extension": ".py",
   "mimetype": "text/x-python",
   "name": "python",
   "nbconvert_exporter": "python",
   "pygments_lexer": "ipython3",
   "version": "3.9.13"
  },
  "toc": {
   "base_numbering": 1,
   "nav_menu": {},
   "number_sections": true,
   "sideBar": true,
   "skip_h1_title": false,
   "title_cell": "Table of Contents",
   "title_sidebar": "Contents",
   "toc_cell": false,
   "toc_position": {},
   "toc_section_display": true,
   "toc_window_display": false
  }
 },
 "nbformat": 4,
 "nbformat_minor": 5
}
